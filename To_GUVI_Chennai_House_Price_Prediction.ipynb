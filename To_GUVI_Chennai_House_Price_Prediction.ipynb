{
  "nbformat": 4,
  "nbformat_minor": 0,
  "metadata": {
    "colab": {
      "provenance": []
    },
    "kernelspec": {
      "name": "python3",
      "display_name": "Python 3"
    },
    "language_info": {
      "name": "python"
    }
  },
  "cells": [
    {
      "cell_type": "code",
      "execution_count": null,
      "metadata": {
        "id": "aXEuYqFKL0ZP"
      },
      "outputs": [],
      "source": [
        "import pandas as pd\n",
        "import numpy as np\n",
        "import matplotlib.pyplot as plt\n",
        "import seaborn as sns\n",
        "\n",
        "%matplotlib inline"
      ]
    },
    {
      "cell_type": "code",
      "source": [
        "import warnings\n",
        "warnings.filterwarnings('ignore')"
      ],
      "metadata": {
        "id": "DDUQzgsFbkWl"
      },
      "execution_count": null,
      "outputs": []
    },
    {
      "cell_type": "code",
      "source": [
        "df = pd.read_csv(\"/content/train-chennai-sale.csv\")\n",
        "df"
      ],
      "metadata": {
        "id": "ZayT6ec8MTug",
        "colab": {
          "base_uri": "https://localhost:8080/",
          "height": 661
        },
        "outputId": "df3be7cd-08f2-4315-d8b4-3fd91ff5f5d7"
      },
      "execution_count": null,
      "outputs": [
        {
          "output_type": "execute_result",
          "data": {
            "text/plain": [
              "      PRT_ID        AREA  INT_SQFT   DATE_SALE  DIST_MAINROAD  N_BEDROOM  \\\n",
              "0     P03210  Karapakkam      1004  04-05-2011            131        1.0   \n",
              "1     P09411  Anna Nagar      1986  19-12-2006             26        2.0   \n",
              "2     P01812       Adyar       909  04-02-2012             70        1.0   \n",
              "3     P05346   Velachery      1855  13-03-2010             14        3.0   \n",
              "4     P06210  Karapakkam      1226  05-10-2009             84        1.0   \n",
              "...      ...         ...       ...         ...            ...        ...   \n",
              "7104  P03834  Karapakkam       598  03-01-2011             51        1.0   \n",
              "7105  P10000   Velachery      1897  08-04-2004             52        3.0   \n",
              "7106  P09594   Velachery      1614  25-08-2006            152        2.0   \n",
              "7107  P06508  Karapakkam       787  03-08-2009             40        1.0   \n",
              "7108  P09794   Velachery      1896  13-07-2005            156        3.0   \n",
              "\n",
              "      N_BATHROOM  N_ROOM    SALE_COND PARK_FACIL  ... UTILITY_AVAIL  \\\n",
              "0            1.0       3     AbNormal        Yes  ...        AllPub   \n",
              "1            1.0       5     AbNormal         No  ...        AllPub   \n",
              "2            1.0       3     AbNormal        Yes  ...           ELO   \n",
              "3            2.0       5       Family         No  ...       NoSewr    \n",
              "4            1.0       3     AbNormal        Yes  ...        AllPub   \n",
              "...          ...     ...          ...        ...  ...           ...   \n",
              "7104         1.0       2      AdjLand         No  ...           ELO   \n",
              "7105         2.0       5       Family        Yes  ...        NoSeWa   \n",
              "7106         1.0       4  Normal Sale         No  ...        NoSeWa   \n",
              "7107         1.0       2      Partial        Yes  ...           ELO   \n",
              "7108         2.0       5      Partial        Yes  ...           ELO   \n",
              "\n",
              "         STREET MZZONE QS_ROOMS QS_BATHROOM  QS_BEDROOM  QS_OVERALL  REG_FEE  \\\n",
              "0         Paved      A      4.0         3.9         4.9       4.330   380000   \n",
              "1        Gravel     RH      4.9         4.2         2.5       3.765   760122   \n",
              "2        Gravel     RL      4.1         3.8         2.2       3.090   421094   \n",
              "3         Paved      I      4.7         3.9         3.6       4.010   356321   \n",
              "4        Gravel      C      3.0         2.5         4.1       3.290   237000   \n",
              "...         ...    ...      ...         ...         ...         ...      ...   \n",
              "7104  No Access     RM      3.0         2.2         2.4       2.520   208767   \n",
              "7105  No Access     RH      3.6         4.5         3.3       3.920   346191   \n",
              "7106     Gravel      I      4.3         4.2         2.9       3.840   317354   \n",
              "7107      Paved     RL      4.6         3.8         4.1       4.160   425350   \n",
              "7108      Paved      I      3.1         3.5         4.3       3.640   349177   \n",
              "\n",
              "      COMMIS  SALES_PRICE  \n",
              "0     144400      7600000  \n",
              "1     304049     21717770  \n",
              "2      92114     13159200  \n",
              "3      77042      9630290  \n",
              "4      74063      7406250  \n",
              "...      ...          ...  \n",
              "7104  107060      5353000  \n",
              "7105  205551     10818480  \n",
              "7106  167028      8351410  \n",
              "7107  119098      8507000  \n",
              "7108   79812      9976480  \n",
              "\n",
              "[7109 rows x 22 columns]"
            ],
            "text/html": [
              "\n",
              "  <div id=\"df-c9bc63cb-117b-415a-8f5e-1e05cb410185\">\n",
              "    <div class=\"colab-df-container\">\n",
              "      <div>\n",
              "<style scoped>\n",
              "    .dataframe tbody tr th:only-of-type {\n",
              "        vertical-align: middle;\n",
              "    }\n",
              "\n",
              "    .dataframe tbody tr th {\n",
              "        vertical-align: top;\n",
              "    }\n",
              "\n",
              "    .dataframe thead th {\n",
              "        text-align: right;\n",
              "    }\n",
              "</style>\n",
              "<table border=\"1\" class=\"dataframe\">\n",
              "  <thead>\n",
              "    <tr style=\"text-align: right;\">\n",
              "      <th></th>\n",
              "      <th>PRT_ID</th>\n",
              "      <th>AREA</th>\n",
              "      <th>INT_SQFT</th>\n",
              "      <th>DATE_SALE</th>\n",
              "      <th>DIST_MAINROAD</th>\n",
              "      <th>N_BEDROOM</th>\n",
              "      <th>N_BATHROOM</th>\n",
              "      <th>N_ROOM</th>\n",
              "      <th>SALE_COND</th>\n",
              "      <th>PARK_FACIL</th>\n",
              "      <th>...</th>\n",
              "      <th>UTILITY_AVAIL</th>\n",
              "      <th>STREET</th>\n",
              "      <th>MZZONE</th>\n",
              "      <th>QS_ROOMS</th>\n",
              "      <th>QS_BATHROOM</th>\n",
              "      <th>QS_BEDROOM</th>\n",
              "      <th>QS_OVERALL</th>\n",
              "      <th>REG_FEE</th>\n",
              "      <th>COMMIS</th>\n",
              "      <th>SALES_PRICE</th>\n",
              "    </tr>\n",
              "  </thead>\n",
              "  <tbody>\n",
              "    <tr>\n",
              "      <th>0</th>\n",
              "      <td>P03210</td>\n",
              "      <td>Karapakkam</td>\n",
              "      <td>1004</td>\n",
              "      <td>04-05-2011</td>\n",
              "      <td>131</td>\n",
              "      <td>1.0</td>\n",
              "      <td>1.0</td>\n",
              "      <td>3</td>\n",
              "      <td>AbNormal</td>\n",
              "      <td>Yes</td>\n",
              "      <td>...</td>\n",
              "      <td>AllPub</td>\n",
              "      <td>Paved</td>\n",
              "      <td>A</td>\n",
              "      <td>4.0</td>\n",
              "      <td>3.9</td>\n",
              "      <td>4.9</td>\n",
              "      <td>4.330</td>\n",
              "      <td>380000</td>\n",
              "      <td>144400</td>\n",
              "      <td>7600000</td>\n",
              "    </tr>\n",
              "    <tr>\n",
              "      <th>1</th>\n",
              "      <td>P09411</td>\n",
              "      <td>Anna Nagar</td>\n",
              "      <td>1986</td>\n",
              "      <td>19-12-2006</td>\n",
              "      <td>26</td>\n",
              "      <td>2.0</td>\n",
              "      <td>1.0</td>\n",
              "      <td>5</td>\n",
              "      <td>AbNormal</td>\n",
              "      <td>No</td>\n",
              "      <td>...</td>\n",
              "      <td>AllPub</td>\n",
              "      <td>Gravel</td>\n",
              "      <td>RH</td>\n",
              "      <td>4.9</td>\n",
              "      <td>4.2</td>\n",
              "      <td>2.5</td>\n",
              "      <td>3.765</td>\n",
              "      <td>760122</td>\n",
              "      <td>304049</td>\n",
              "      <td>21717770</td>\n",
              "    </tr>\n",
              "    <tr>\n",
              "      <th>2</th>\n",
              "      <td>P01812</td>\n",
              "      <td>Adyar</td>\n",
              "      <td>909</td>\n",
              "      <td>04-02-2012</td>\n",
              "      <td>70</td>\n",
              "      <td>1.0</td>\n",
              "      <td>1.0</td>\n",
              "      <td>3</td>\n",
              "      <td>AbNormal</td>\n",
              "      <td>Yes</td>\n",
              "      <td>...</td>\n",
              "      <td>ELO</td>\n",
              "      <td>Gravel</td>\n",
              "      <td>RL</td>\n",
              "      <td>4.1</td>\n",
              "      <td>3.8</td>\n",
              "      <td>2.2</td>\n",
              "      <td>3.090</td>\n",
              "      <td>421094</td>\n",
              "      <td>92114</td>\n",
              "      <td>13159200</td>\n",
              "    </tr>\n",
              "    <tr>\n",
              "      <th>3</th>\n",
              "      <td>P05346</td>\n",
              "      <td>Velachery</td>\n",
              "      <td>1855</td>\n",
              "      <td>13-03-2010</td>\n",
              "      <td>14</td>\n",
              "      <td>3.0</td>\n",
              "      <td>2.0</td>\n",
              "      <td>5</td>\n",
              "      <td>Family</td>\n",
              "      <td>No</td>\n",
              "      <td>...</td>\n",
              "      <td>NoSewr</td>\n",
              "      <td>Paved</td>\n",
              "      <td>I</td>\n",
              "      <td>4.7</td>\n",
              "      <td>3.9</td>\n",
              "      <td>3.6</td>\n",
              "      <td>4.010</td>\n",
              "      <td>356321</td>\n",
              "      <td>77042</td>\n",
              "      <td>9630290</td>\n",
              "    </tr>\n",
              "    <tr>\n",
              "      <th>4</th>\n",
              "      <td>P06210</td>\n",
              "      <td>Karapakkam</td>\n",
              "      <td>1226</td>\n",
              "      <td>05-10-2009</td>\n",
              "      <td>84</td>\n",
              "      <td>1.0</td>\n",
              "      <td>1.0</td>\n",
              "      <td>3</td>\n",
              "      <td>AbNormal</td>\n",
              "      <td>Yes</td>\n",
              "      <td>...</td>\n",
              "      <td>AllPub</td>\n",
              "      <td>Gravel</td>\n",
              "      <td>C</td>\n",
              "      <td>3.0</td>\n",
              "      <td>2.5</td>\n",
              "      <td>4.1</td>\n",
              "      <td>3.290</td>\n",
              "      <td>237000</td>\n",
              "      <td>74063</td>\n",
              "      <td>7406250</td>\n",
              "    </tr>\n",
              "    <tr>\n",
              "      <th>...</th>\n",
              "      <td>...</td>\n",
              "      <td>...</td>\n",
              "      <td>...</td>\n",
              "      <td>...</td>\n",
              "      <td>...</td>\n",
              "      <td>...</td>\n",
              "      <td>...</td>\n",
              "      <td>...</td>\n",
              "      <td>...</td>\n",
              "      <td>...</td>\n",
              "      <td>...</td>\n",
              "      <td>...</td>\n",
              "      <td>...</td>\n",
              "      <td>...</td>\n",
              "      <td>...</td>\n",
              "      <td>...</td>\n",
              "      <td>...</td>\n",
              "      <td>...</td>\n",
              "      <td>...</td>\n",
              "      <td>...</td>\n",
              "      <td>...</td>\n",
              "    </tr>\n",
              "    <tr>\n",
              "      <th>7104</th>\n",
              "      <td>P03834</td>\n",
              "      <td>Karapakkam</td>\n",
              "      <td>598</td>\n",
              "      <td>03-01-2011</td>\n",
              "      <td>51</td>\n",
              "      <td>1.0</td>\n",
              "      <td>1.0</td>\n",
              "      <td>2</td>\n",
              "      <td>AdjLand</td>\n",
              "      <td>No</td>\n",
              "      <td>...</td>\n",
              "      <td>ELO</td>\n",
              "      <td>No Access</td>\n",
              "      <td>RM</td>\n",
              "      <td>3.0</td>\n",
              "      <td>2.2</td>\n",
              "      <td>2.4</td>\n",
              "      <td>2.520</td>\n",
              "      <td>208767</td>\n",
              "      <td>107060</td>\n",
              "      <td>5353000</td>\n",
              "    </tr>\n",
              "    <tr>\n",
              "      <th>7105</th>\n",
              "      <td>P10000</td>\n",
              "      <td>Velachery</td>\n",
              "      <td>1897</td>\n",
              "      <td>08-04-2004</td>\n",
              "      <td>52</td>\n",
              "      <td>3.0</td>\n",
              "      <td>2.0</td>\n",
              "      <td>5</td>\n",
              "      <td>Family</td>\n",
              "      <td>Yes</td>\n",
              "      <td>...</td>\n",
              "      <td>NoSeWa</td>\n",
              "      <td>No Access</td>\n",
              "      <td>RH</td>\n",
              "      <td>3.6</td>\n",
              "      <td>4.5</td>\n",
              "      <td>3.3</td>\n",
              "      <td>3.920</td>\n",
              "      <td>346191</td>\n",
              "      <td>205551</td>\n",
              "      <td>10818480</td>\n",
              "    </tr>\n",
              "    <tr>\n",
              "      <th>7106</th>\n",
              "      <td>P09594</td>\n",
              "      <td>Velachery</td>\n",
              "      <td>1614</td>\n",
              "      <td>25-08-2006</td>\n",
              "      <td>152</td>\n",
              "      <td>2.0</td>\n",
              "      <td>1.0</td>\n",
              "      <td>4</td>\n",
              "      <td>Normal Sale</td>\n",
              "      <td>No</td>\n",
              "      <td>...</td>\n",
              "      <td>NoSeWa</td>\n",
              "      <td>Gravel</td>\n",
              "      <td>I</td>\n",
              "      <td>4.3</td>\n",
              "      <td>4.2</td>\n",
              "      <td>2.9</td>\n",
              "      <td>3.840</td>\n",
              "      <td>317354</td>\n",
              "      <td>167028</td>\n",
              "      <td>8351410</td>\n",
              "    </tr>\n",
              "    <tr>\n",
              "      <th>7107</th>\n",
              "      <td>P06508</td>\n",
              "      <td>Karapakkam</td>\n",
              "      <td>787</td>\n",
              "      <td>03-08-2009</td>\n",
              "      <td>40</td>\n",
              "      <td>1.0</td>\n",
              "      <td>1.0</td>\n",
              "      <td>2</td>\n",
              "      <td>Partial</td>\n",
              "      <td>Yes</td>\n",
              "      <td>...</td>\n",
              "      <td>ELO</td>\n",
              "      <td>Paved</td>\n",
              "      <td>RL</td>\n",
              "      <td>4.6</td>\n",
              "      <td>3.8</td>\n",
              "      <td>4.1</td>\n",
              "      <td>4.160</td>\n",
              "      <td>425350</td>\n",
              "      <td>119098</td>\n",
              "      <td>8507000</td>\n",
              "    </tr>\n",
              "    <tr>\n",
              "      <th>7108</th>\n",
              "      <td>P09794</td>\n",
              "      <td>Velachery</td>\n",
              "      <td>1896</td>\n",
              "      <td>13-07-2005</td>\n",
              "      <td>156</td>\n",
              "      <td>3.0</td>\n",
              "      <td>2.0</td>\n",
              "      <td>5</td>\n",
              "      <td>Partial</td>\n",
              "      <td>Yes</td>\n",
              "      <td>...</td>\n",
              "      <td>ELO</td>\n",
              "      <td>Paved</td>\n",
              "      <td>I</td>\n",
              "      <td>3.1</td>\n",
              "      <td>3.5</td>\n",
              "      <td>4.3</td>\n",
              "      <td>3.640</td>\n",
              "      <td>349177</td>\n",
              "      <td>79812</td>\n",
              "      <td>9976480</td>\n",
              "    </tr>\n",
              "  </tbody>\n",
              "</table>\n",
              "<p>7109 rows × 22 columns</p>\n",
              "</div>\n",
              "      <button class=\"colab-df-convert\" onclick=\"convertToInteractive('df-c9bc63cb-117b-415a-8f5e-1e05cb410185')\"\n",
              "              title=\"Convert this dataframe to an interactive table.\"\n",
              "              style=\"display:none;\">\n",
              "        \n",
              "  <svg xmlns=\"http://www.w3.org/2000/svg\" height=\"24px\"viewBox=\"0 0 24 24\"\n",
              "       width=\"24px\">\n",
              "    <path d=\"M0 0h24v24H0V0z\" fill=\"none\"/>\n",
              "    <path d=\"M18.56 5.44l.94 2.06.94-2.06 2.06-.94-2.06-.94-.94-2.06-.94 2.06-2.06.94zm-11 1L8.5 8.5l.94-2.06 2.06-.94-2.06-.94L8.5 2.5l-.94 2.06-2.06.94zm10 10l.94 2.06.94-2.06 2.06-.94-2.06-.94-.94-2.06-.94 2.06-2.06.94z\"/><path d=\"M17.41 7.96l-1.37-1.37c-.4-.4-.92-.59-1.43-.59-.52 0-1.04.2-1.43.59L10.3 9.45l-7.72 7.72c-.78.78-.78 2.05 0 2.83L4 21.41c.39.39.9.59 1.41.59.51 0 1.02-.2 1.41-.59l7.78-7.78 2.81-2.81c.8-.78.8-2.07 0-2.86zM5.41 20L4 18.59l7.72-7.72 1.47 1.35L5.41 20z\"/>\n",
              "  </svg>\n",
              "      </button>\n",
              "      \n",
              "  <style>\n",
              "    .colab-df-container {\n",
              "      display:flex;\n",
              "      flex-wrap:wrap;\n",
              "      gap: 12px;\n",
              "    }\n",
              "\n",
              "    .colab-df-convert {\n",
              "      background-color: #E8F0FE;\n",
              "      border: none;\n",
              "      border-radius: 50%;\n",
              "      cursor: pointer;\n",
              "      display: none;\n",
              "      fill: #1967D2;\n",
              "      height: 32px;\n",
              "      padding: 0 0 0 0;\n",
              "      width: 32px;\n",
              "    }\n",
              "\n",
              "    .colab-df-convert:hover {\n",
              "      background-color: #E2EBFA;\n",
              "      box-shadow: 0px 1px 2px rgba(60, 64, 67, 0.3), 0px 1px 3px 1px rgba(60, 64, 67, 0.15);\n",
              "      fill: #174EA6;\n",
              "    }\n",
              "\n",
              "    [theme=dark] .colab-df-convert {\n",
              "      background-color: #3B4455;\n",
              "      fill: #D2E3FC;\n",
              "    }\n",
              "\n",
              "    [theme=dark] .colab-df-convert:hover {\n",
              "      background-color: #434B5C;\n",
              "      box-shadow: 0px 1px 3px 1px rgba(0, 0, 0, 0.15);\n",
              "      filter: drop-shadow(0px 1px 2px rgba(0, 0, 0, 0.3));\n",
              "      fill: #FFFFFF;\n",
              "    }\n",
              "  </style>\n",
              "\n",
              "      <script>\n",
              "        const buttonEl =\n",
              "          document.querySelector('#df-c9bc63cb-117b-415a-8f5e-1e05cb410185 button.colab-df-convert');\n",
              "        buttonEl.style.display =\n",
              "          google.colab.kernel.accessAllowed ? 'block' : 'none';\n",
              "\n",
              "        async function convertToInteractive(key) {\n",
              "          const element = document.querySelector('#df-c9bc63cb-117b-415a-8f5e-1e05cb410185');\n",
              "          const dataTable =\n",
              "            await google.colab.kernel.invokeFunction('convertToInteractive',\n",
              "                                                     [key], {});\n",
              "          if (!dataTable) return;\n",
              "\n",
              "          const docLinkHtml = 'Like what you see? Visit the ' +\n",
              "            '<a target=\"_blank\" href=https://colab.research.google.com/notebooks/data_table.ipynb>data table notebook</a>'\n",
              "            + ' to learn more about interactive tables.';\n",
              "          element.innerHTML = '';\n",
              "          dataTable['output_type'] = 'display_data';\n",
              "          await google.colab.output.renderOutput(dataTable, element);\n",
              "          const docLink = document.createElement('div');\n",
              "          docLink.innerHTML = docLinkHtml;\n",
              "          element.appendChild(docLink);\n",
              "        }\n",
              "      </script>\n",
              "    </div>\n",
              "  </div>\n",
              "  "
            ]
          },
          "metadata": {},
          "execution_count": 6
        }
      ]
    },
    {
      "cell_type": "code",
      "source": [
        "df.head()"
      ],
      "metadata": {
        "colab": {
          "base_uri": "https://localhost:8080/",
          "height": 386
        },
        "id": "vmsrxmKDMZMz",
        "outputId": "b4f536e6-228c-40ae-ea6c-48159a7fc56f"
      },
      "execution_count": null,
      "outputs": [
        {
          "output_type": "execute_result",
          "data": {
            "text/plain": [
              "   PRT_ID        AREA  INT_SQFT   DATE_SALE  DIST_MAINROAD  N_BEDROOM  \\\n",
              "0  P03210  Karapakkam      1004  04-05-2011            131        1.0   \n",
              "1  P09411  Anna Nagar      1986  19-12-2006             26        2.0   \n",
              "2  P01812       Adyar       909  04-02-2012             70        1.0   \n",
              "3  P05346   Velachery      1855  13-03-2010             14        3.0   \n",
              "4  P06210  Karapakkam      1226  05-10-2009             84        1.0   \n",
              "\n",
              "   N_BATHROOM  N_ROOM SALE_COND PARK_FACIL  ... UTILITY_AVAIL  STREET MZZONE  \\\n",
              "0         1.0       3  AbNormal        Yes  ...        AllPub   Paved      A   \n",
              "1         1.0       5  AbNormal         No  ...        AllPub  Gravel     RH   \n",
              "2         1.0       3  AbNormal        Yes  ...           ELO  Gravel     RL   \n",
              "3         2.0       5    Family         No  ...       NoSewr    Paved      I   \n",
              "4         1.0       3  AbNormal        Yes  ...        AllPub  Gravel      C   \n",
              "\n",
              "  QS_ROOMS QS_BATHROOM  QS_BEDROOM  QS_OVERALL  REG_FEE  COMMIS  SALES_PRICE  \n",
              "0      4.0         3.9         4.9       4.330   380000  144400      7600000  \n",
              "1      4.9         4.2         2.5       3.765   760122  304049     21717770  \n",
              "2      4.1         3.8         2.2       3.090   421094   92114     13159200  \n",
              "3      4.7         3.9         3.6       4.010   356321   77042      9630290  \n",
              "4      3.0         2.5         4.1       3.290   237000   74063      7406250  \n",
              "\n",
              "[5 rows x 22 columns]"
            ],
            "text/html": [
              "\n",
              "  <div id=\"df-1ba6523b-8f74-4263-bf67-9c5273240e9a\">\n",
              "    <div class=\"colab-df-container\">\n",
              "      <div>\n",
              "<style scoped>\n",
              "    .dataframe tbody tr th:only-of-type {\n",
              "        vertical-align: middle;\n",
              "    }\n",
              "\n",
              "    .dataframe tbody tr th {\n",
              "        vertical-align: top;\n",
              "    }\n",
              "\n",
              "    .dataframe thead th {\n",
              "        text-align: right;\n",
              "    }\n",
              "</style>\n",
              "<table border=\"1\" class=\"dataframe\">\n",
              "  <thead>\n",
              "    <tr style=\"text-align: right;\">\n",
              "      <th></th>\n",
              "      <th>PRT_ID</th>\n",
              "      <th>AREA</th>\n",
              "      <th>INT_SQFT</th>\n",
              "      <th>DATE_SALE</th>\n",
              "      <th>DIST_MAINROAD</th>\n",
              "      <th>N_BEDROOM</th>\n",
              "      <th>N_BATHROOM</th>\n",
              "      <th>N_ROOM</th>\n",
              "      <th>SALE_COND</th>\n",
              "      <th>PARK_FACIL</th>\n",
              "      <th>...</th>\n",
              "      <th>UTILITY_AVAIL</th>\n",
              "      <th>STREET</th>\n",
              "      <th>MZZONE</th>\n",
              "      <th>QS_ROOMS</th>\n",
              "      <th>QS_BATHROOM</th>\n",
              "      <th>QS_BEDROOM</th>\n",
              "      <th>QS_OVERALL</th>\n",
              "      <th>REG_FEE</th>\n",
              "      <th>COMMIS</th>\n",
              "      <th>SALES_PRICE</th>\n",
              "    </tr>\n",
              "  </thead>\n",
              "  <tbody>\n",
              "    <tr>\n",
              "      <th>0</th>\n",
              "      <td>P03210</td>\n",
              "      <td>Karapakkam</td>\n",
              "      <td>1004</td>\n",
              "      <td>04-05-2011</td>\n",
              "      <td>131</td>\n",
              "      <td>1.0</td>\n",
              "      <td>1.0</td>\n",
              "      <td>3</td>\n",
              "      <td>AbNormal</td>\n",
              "      <td>Yes</td>\n",
              "      <td>...</td>\n",
              "      <td>AllPub</td>\n",
              "      <td>Paved</td>\n",
              "      <td>A</td>\n",
              "      <td>4.0</td>\n",
              "      <td>3.9</td>\n",
              "      <td>4.9</td>\n",
              "      <td>4.330</td>\n",
              "      <td>380000</td>\n",
              "      <td>144400</td>\n",
              "      <td>7600000</td>\n",
              "    </tr>\n",
              "    <tr>\n",
              "      <th>1</th>\n",
              "      <td>P09411</td>\n",
              "      <td>Anna Nagar</td>\n",
              "      <td>1986</td>\n",
              "      <td>19-12-2006</td>\n",
              "      <td>26</td>\n",
              "      <td>2.0</td>\n",
              "      <td>1.0</td>\n",
              "      <td>5</td>\n",
              "      <td>AbNormal</td>\n",
              "      <td>No</td>\n",
              "      <td>...</td>\n",
              "      <td>AllPub</td>\n",
              "      <td>Gravel</td>\n",
              "      <td>RH</td>\n",
              "      <td>4.9</td>\n",
              "      <td>4.2</td>\n",
              "      <td>2.5</td>\n",
              "      <td>3.765</td>\n",
              "      <td>760122</td>\n",
              "      <td>304049</td>\n",
              "      <td>21717770</td>\n",
              "    </tr>\n",
              "    <tr>\n",
              "      <th>2</th>\n",
              "      <td>P01812</td>\n",
              "      <td>Adyar</td>\n",
              "      <td>909</td>\n",
              "      <td>04-02-2012</td>\n",
              "      <td>70</td>\n",
              "      <td>1.0</td>\n",
              "      <td>1.0</td>\n",
              "      <td>3</td>\n",
              "      <td>AbNormal</td>\n",
              "      <td>Yes</td>\n",
              "      <td>...</td>\n",
              "      <td>ELO</td>\n",
              "      <td>Gravel</td>\n",
              "      <td>RL</td>\n",
              "      <td>4.1</td>\n",
              "      <td>3.8</td>\n",
              "      <td>2.2</td>\n",
              "      <td>3.090</td>\n",
              "      <td>421094</td>\n",
              "      <td>92114</td>\n",
              "      <td>13159200</td>\n",
              "    </tr>\n",
              "    <tr>\n",
              "      <th>3</th>\n",
              "      <td>P05346</td>\n",
              "      <td>Velachery</td>\n",
              "      <td>1855</td>\n",
              "      <td>13-03-2010</td>\n",
              "      <td>14</td>\n",
              "      <td>3.0</td>\n",
              "      <td>2.0</td>\n",
              "      <td>5</td>\n",
              "      <td>Family</td>\n",
              "      <td>No</td>\n",
              "      <td>...</td>\n",
              "      <td>NoSewr</td>\n",
              "      <td>Paved</td>\n",
              "      <td>I</td>\n",
              "      <td>4.7</td>\n",
              "      <td>3.9</td>\n",
              "      <td>3.6</td>\n",
              "      <td>4.010</td>\n",
              "      <td>356321</td>\n",
              "      <td>77042</td>\n",
              "      <td>9630290</td>\n",
              "    </tr>\n",
              "    <tr>\n",
              "      <th>4</th>\n",
              "      <td>P06210</td>\n",
              "      <td>Karapakkam</td>\n",
              "      <td>1226</td>\n",
              "      <td>05-10-2009</td>\n",
              "      <td>84</td>\n",
              "      <td>1.0</td>\n",
              "      <td>1.0</td>\n",
              "      <td>3</td>\n",
              "      <td>AbNormal</td>\n",
              "      <td>Yes</td>\n",
              "      <td>...</td>\n",
              "      <td>AllPub</td>\n",
              "      <td>Gravel</td>\n",
              "      <td>C</td>\n",
              "      <td>3.0</td>\n",
              "      <td>2.5</td>\n",
              "      <td>4.1</td>\n",
              "      <td>3.290</td>\n",
              "      <td>237000</td>\n",
              "      <td>74063</td>\n",
              "      <td>7406250</td>\n",
              "    </tr>\n",
              "  </tbody>\n",
              "</table>\n",
              "<p>5 rows × 22 columns</p>\n",
              "</div>\n",
              "      <button class=\"colab-df-convert\" onclick=\"convertToInteractive('df-1ba6523b-8f74-4263-bf67-9c5273240e9a')\"\n",
              "              title=\"Convert this dataframe to an interactive table.\"\n",
              "              style=\"display:none;\">\n",
              "        \n",
              "  <svg xmlns=\"http://www.w3.org/2000/svg\" height=\"24px\"viewBox=\"0 0 24 24\"\n",
              "       width=\"24px\">\n",
              "    <path d=\"M0 0h24v24H0V0z\" fill=\"none\"/>\n",
              "    <path d=\"M18.56 5.44l.94 2.06.94-2.06 2.06-.94-2.06-.94-.94-2.06-.94 2.06-2.06.94zm-11 1L8.5 8.5l.94-2.06 2.06-.94-2.06-.94L8.5 2.5l-.94 2.06-2.06.94zm10 10l.94 2.06.94-2.06 2.06-.94-2.06-.94-.94-2.06-.94 2.06-2.06.94z\"/><path d=\"M17.41 7.96l-1.37-1.37c-.4-.4-.92-.59-1.43-.59-.52 0-1.04.2-1.43.59L10.3 9.45l-7.72 7.72c-.78.78-.78 2.05 0 2.83L4 21.41c.39.39.9.59 1.41.59.51 0 1.02-.2 1.41-.59l7.78-7.78 2.81-2.81c.8-.78.8-2.07 0-2.86zM5.41 20L4 18.59l7.72-7.72 1.47 1.35L5.41 20z\"/>\n",
              "  </svg>\n",
              "      </button>\n",
              "      \n",
              "  <style>\n",
              "    .colab-df-container {\n",
              "      display:flex;\n",
              "      flex-wrap:wrap;\n",
              "      gap: 12px;\n",
              "    }\n",
              "\n",
              "    .colab-df-convert {\n",
              "      background-color: #E8F0FE;\n",
              "      border: none;\n",
              "      border-radius: 50%;\n",
              "      cursor: pointer;\n",
              "      display: none;\n",
              "      fill: #1967D2;\n",
              "      height: 32px;\n",
              "      padding: 0 0 0 0;\n",
              "      width: 32px;\n",
              "    }\n",
              "\n",
              "    .colab-df-convert:hover {\n",
              "      background-color: #E2EBFA;\n",
              "      box-shadow: 0px 1px 2px rgba(60, 64, 67, 0.3), 0px 1px 3px 1px rgba(60, 64, 67, 0.15);\n",
              "      fill: #174EA6;\n",
              "    }\n",
              "\n",
              "    [theme=dark] .colab-df-convert {\n",
              "      background-color: #3B4455;\n",
              "      fill: #D2E3FC;\n",
              "    }\n",
              "\n",
              "    [theme=dark] .colab-df-convert:hover {\n",
              "      background-color: #434B5C;\n",
              "      box-shadow: 0px 1px 3px 1px rgba(0, 0, 0, 0.15);\n",
              "      filter: drop-shadow(0px 1px 2px rgba(0, 0, 0, 0.3));\n",
              "      fill: #FFFFFF;\n",
              "    }\n",
              "  </style>\n",
              "\n",
              "      <script>\n",
              "        const buttonEl =\n",
              "          document.querySelector('#df-1ba6523b-8f74-4263-bf67-9c5273240e9a button.colab-df-convert');\n",
              "        buttonEl.style.display =\n",
              "          google.colab.kernel.accessAllowed ? 'block' : 'none';\n",
              "\n",
              "        async function convertToInteractive(key) {\n",
              "          const element = document.querySelector('#df-1ba6523b-8f74-4263-bf67-9c5273240e9a');\n",
              "          const dataTable =\n",
              "            await google.colab.kernel.invokeFunction('convertToInteractive',\n",
              "                                                     [key], {});\n",
              "          if (!dataTable) return;\n",
              "\n",
              "          const docLinkHtml = 'Like what you see? Visit the ' +\n",
              "            '<a target=\"_blank\" href=https://colab.research.google.com/notebooks/data_table.ipynb>data table notebook</a>'\n",
              "            + ' to learn more about interactive tables.';\n",
              "          element.innerHTML = '';\n",
              "          dataTable['output_type'] = 'display_data';\n",
              "          await google.colab.output.renderOutput(dataTable, element);\n",
              "          const docLink = document.createElement('div');\n",
              "          docLink.innerHTML = docLinkHtml;\n",
              "          element.appendChild(docLink);\n",
              "        }\n",
              "      </script>\n",
              "    </div>\n",
              "  </div>\n",
              "  "
            ]
          },
          "metadata": {},
          "execution_count": 7
        }
      ]
    },
    {
      "cell_type": "code",
      "source": [
        "df.columns"
      ],
      "metadata": {
        "colab": {
          "base_uri": "https://localhost:8080/"
        },
        "id": "tUNW_v_SKRoH",
        "outputId": "0499d661-ce74-4c22-8dc2-7d6bcb8dd203"
      },
      "execution_count": null,
      "outputs": [
        {
          "output_type": "execute_result",
          "data": {
            "text/plain": [
              "Index(['PRT_ID', 'AREA', 'INT_SQFT', 'DATE_SALE', 'DIST_MAINROAD', 'N_BEDROOM',\n",
              "       'N_BATHROOM', 'N_ROOM', 'SALE_COND', 'PARK_FACIL', 'DATE_BUILD',\n",
              "       'BUILDTYPE', 'UTILITY_AVAIL', 'STREET', 'MZZONE', 'QS_ROOMS',\n",
              "       'QS_BATHROOM', 'QS_BEDROOM', 'QS_OVERALL', 'REG_FEE', 'COMMIS',\n",
              "       'SALES_PRICE'],\n",
              "      dtype='object')"
            ]
          },
          "metadata": {},
          "execution_count": 8
        }
      ]
    },
    {
      "cell_type": "markdown",
      "source": [
        "# **DATA PREPROCESSING**\n",
        "\n",
        "**DATA CLEANING & FEATURE ENGINEERING**"
      ],
      "metadata": {
        "id": "ngSleGqWKagM"
      }
    },
    {
      "cell_type": "code",
      "source": [
        "df.info()"
      ],
      "metadata": {
        "colab": {
          "base_uri": "https://localhost:8080/"
        },
        "id": "gM4gHYVUKzpF",
        "outputId": "72dae84f-c0d3-4f46-ad26-02e045d28ca6"
      },
      "execution_count": null,
      "outputs": [
        {
          "output_type": "stream",
          "name": "stdout",
          "text": [
            "<class 'pandas.core.frame.DataFrame'>\n",
            "RangeIndex: 7109 entries, 0 to 7108\n",
            "Data columns (total 22 columns):\n",
            " #   Column         Non-Null Count  Dtype  \n",
            "---  ------         --------------  -----  \n",
            " 0   PRT_ID         7109 non-null   object \n",
            " 1   AREA           7109 non-null   object \n",
            " 2   INT_SQFT       7109 non-null   int64  \n",
            " 3   DATE_SALE      7109 non-null   object \n",
            " 4   DIST_MAINROAD  7109 non-null   int64  \n",
            " 5   N_BEDROOM      7108 non-null   float64\n",
            " 6   N_BATHROOM     7104 non-null   float64\n",
            " 7   N_ROOM         7109 non-null   int64  \n",
            " 8   SALE_COND      7109 non-null   object \n",
            " 9   PARK_FACIL     7109 non-null   object \n",
            " 10  DATE_BUILD     7109 non-null   object \n",
            " 11  BUILDTYPE      7109 non-null   object \n",
            " 12  UTILITY_AVAIL  7109 non-null   object \n",
            " 13  STREET         7109 non-null   object \n",
            " 14  MZZONE         7109 non-null   object \n",
            " 15  QS_ROOMS       7109 non-null   float64\n",
            " 16  QS_BATHROOM    7109 non-null   float64\n",
            " 17  QS_BEDROOM     7109 non-null   float64\n",
            " 18  QS_OVERALL     7061 non-null   float64\n",
            " 19  REG_FEE        7109 non-null   int64  \n",
            " 20  COMMIS         7109 non-null   int64  \n",
            " 21  SALES_PRICE    7109 non-null   int64  \n",
            "dtypes: float64(6), int64(6), object(10)\n",
            "memory usage: 1.2+ MB\n"
          ]
        }
      ]
    },
    {
      "cell_type": "code",
      "source": [
        "df.isnull().sum()"
      ],
      "metadata": {
        "colab": {
          "base_uri": "https://localhost:8080/"
        },
        "id": "Fn3BGbSKK44X",
        "outputId": "0b398fb4-031f-4815-c445-a23c30ed7c1b"
      },
      "execution_count": null,
      "outputs": [
        {
          "output_type": "execute_result",
          "data": {
            "text/plain": [
              "PRT_ID            0\n",
              "AREA              0\n",
              "INT_SQFT          0\n",
              "DATE_SALE         0\n",
              "DIST_MAINROAD     0\n",
              "N_BEDROOM         1\n",
              "N_BATHROOM        5\n",
              "N_ROOM            0\n",
              "SALE_COND         0\n",
              "PARK_FACIL        0\n",
              "DATE_BUILD        0\n",
              "BUILDTYPE         0\n",
              "UTILITY_AVAIL     0\n",
              "STREET            0\n",
              "MZZONE            0\n",
              "QS_ROOMS          0\n",
              "QS_BATHROOM       0\n",
              "QS_BEDROOM        0\n",
              "QS_OVERALL       48\n",
              "REG_FEE           0\n",
              "COMMIS            0\n",
              "SALES_PRICE       0\n",
              "dtype: int64"
            ]
          },
          "metadata": {},
          "execution_count": 10
        }
      ]
    },
    {
      "cell_type": "markdown",
      "source": [
        "**PRT_ID**"
      ],
      "metadata": {
        "id": "zsPuEEc2c9me"
      }
    },
    {
      "cell_type": "code",
      "source": [
        "df = df.drop(columns=\"PRT_ID\") # deleting project ID as all are having unique value"
      ],
      "metadata": {
        "id": "f6qVjzG6Mjyx"
      },
      "execution_count": null,
      "outputs": []
    },
    {
      "cell_type": "code",
      "source": [
        "df"
      ],
      "metadata": {
        "colab": {
          "base_uri": "https://localhost:8080/",
          "height": 661
        },
        "id": "Cltm_TMnMpOG",
        "outputId": "f60ece88-1dd0-4148-b85a-83a8bd7a52c2"
      },
      "execution_count": null,
      "outputs": [
        {
          "output_type": "execute_result",
          "data": {
            "text/plain": [
              "            AREA  INT_SQFT   DATE_SALE  DIST_MAINROAD  N_BEDROOM  N_BATHROOM  \\\n",
              "0     Karapakkam      1004  04-05-2011            131        1.0         1.0   \n",
              "1     Anna Nagar      1986  19-12-2006             26        2.0         1.0   \n",
              "2          Adyar       909  04-02-2012             70        1.0         1.0   \n",
              "3      Velachery      1855  13-03-2010             14        3.0         2.0   \n",
              "4     Karapakkam      1226  05-10-2009             84        1.0         1.0   \n",
              "...          ...       ...         ...            ...        ...         ...   \n",
              "7104  Karapakkam       598  03-01-2011             51        1.0         1.0   \n",
              "7105   Velachery      1897  08-04-2004             52        3.0         2.0   \n",
              "7106   Velachery      1614  25-08-2006            152        2.0         1.0   \n",
              "7107  Karapakkam       787  03-08-2009             40        1.0         1.0   \n",
              "7108   Velachery      1896  13-07-2005            156        3.0         2.0   \n",
              "\n",
              "      N_ROOM    SALE_COND PARK_FACIL  DATE_BUILD  ... UTILITY_AVAIL  \\\n",
              "0          3     AbNormal        Yes  15-05-1967  ...        AllPub   \n",
              "1          5     AbNormal         No  22-12-1995  ...        AllPub   \n",
              "2          3     AbNormal        Yes  09-02-1992  ...           ELO   \n",
              "3          5       Family         No  18-03-1988  ...       NoSewr    \n",
              "4          3     AbNormal        Yes  13-10-1979  ...        AllPub   \n",
              "...      ...          ...        ...         ...  ...           ...   \n",
              "7104       2      AdjLand         No  15-01-1962  ...           ELO   \n",
              "7105       5       Family        Yes  11-04-1995  ...        NoSeWa   \n",
              "7106       4  Normal Sale         No  01-09-1978  ...        NoSeWa   \n",
              "7107       2      Partial        Yes  11-08-1977  ...           ELO   \n",
              "7108       5      Partial        Yes  24-07-1961  ...           ELO   \n",
              "\n",
              "         STREET MZZONE QS_ROOMS  QS_BATHROOM  QS_BEDROOM  QS_OVERALL  REG_FEE  \\\n",
              "0         Paved      A      4.0          3.9         4.9       4.330   380000   \n",
              "1        Gravel     RH      4.9          4.2         2.5       3.765   760122   \n",
              "2        Gravel     RL      4.1          3.8         2.2       3.090   421094   \n",
              "3         Paved      I      4.7          3.9         3.6       4.010   356321   \n",
              "4        Gravel      C      3.0          2.5         4.1       3.290   237000   \n",
              "...         ...    ...      ...          ...         ...         ...      ...   \n",
              "7104  No Access     RM      3.0          2.2         2.4       2.520   208767   \n",
              "7105  No Access     RH      3.6          4.5         3.3       3.920   346191   \n",
              "7106     Gravel      I      4.3          4.2         2.9       3.840   317354   \n",
              "7107      Paved     RL      4.6          3.8         4.1       4.160   425350   \n",
              "7108      Paved      I      3.1          3.5         4.3       3.640   349177   \n",
              "\n",
              "      COMMIS  SALES_PRICE  \n",
              "0     144400      7600000  \n",
              "1     304049     21717770  \n",
              "2      92114     13159200  \n",
              "3      77042      9630290  \n",
              "4      74063      7406250  \n",
              "...      ...          ...  \n",
              "7104  107060      5353000  \n",
              "7105  205551     10818480  \n",
              "7106  167028      8351410  \n",
              "7107  119098      8507000  \n",
              "7108   79812      9976480  \n",
              "\n",
              "[7109 rows x 21 columns]"
            ],
            "text/html": [
              "\n",
              "  <div id=\"df-32222e18-6840-46f5-b6d3-3d7f548a6585\">\n",
              "    <div class=\"colab-df-container\">\n",
              "      <div>\n",
              "<style scoped>\n",
              "    .dataframe tbody tr th:only-of-type {\n",
              "        vertical-align: middle;\n",
              "    }\n",
              "\n",
              "    .dataframe tbody tr th {\n",
              "        vertical-align: top;\n",
              "    }\n",
              "\n",
              "    .dataframe thead th {\n",
              "        text-align: right;\n",
              "    }\n",
              "</style>\n",
              "<table border=\"1\" class=\"dataframe\">\n",
              "  <thead>\n",
              "    <tr style=\"text-align: right;\">\n",
              "      <th></th>\n",
              "      <th>AREA</th>\n",
              "      <th>INT_SQFT</th>\n",
              "      <th>DATE_SALE</th>\n",
              "      <th>DIST_MAINROAD</th>\n",
              "      <th>N_BEDROOM</th>\n",
              "      <th>N_BATHROOM</th>\n",
              "      <th>N_ROOM</th>\n",
              "      <th>SALE_COND</th>\n",
              "      <th>PARK_FACIL</th>\n",
              "      <th>DATE_BUILD</th>\n",
              "      <th>...</th>\n",
              "      <th>UTILITY_AVAIL</th>\n",
              "      <th>STREET</th>\n",
              "      <th>MZZONE</th>\n",
              "      <th>QS_ROOMS</th>\n",
              "      <th>QS_BATHROOM</th>\n",
              "      <th>QS_BEDROOM</th>\n",
              "      <th>QS_OVERALL</th>\n",
              "      <th>REG_FEE</th>\n",
              "      <th>COMMIS</th>\n",
              "      <th>SALES_PRICE</th>\n",
              "    </tr>\n",
              "  </thead>\n",
              "  <tbody>\n",
              "    <tr>\n",
              "      <th>0</th>\n",
              "      <td>Karapakkam</td>\n",
              "      <td>1004</td>\n",
              "      <td>04-05-2011</td>\n",
              "      <td>131</td>\n",
              "      <td>1.0</td>\n",
              "      <td>1.0</td>\n",
              "      <td>3</td>\n",
              "      <td>AbNormal</td>\n",
              "      <td>Yes</td>\n",
              "      <td>15-05-1967</td>\n",
              "      <td>...</td>\n",
              "      <td>AllPub</td>\n",
              "      <td>Paved</td>\n",
              "      <td>A</td>\n",
              "      <td>4.0</td>\n",
              "      <td>3.9</td>\n",
              "      <td>4.9</td>\n",
              "      <td>4.330</td>\n",
              "      <td>380000</td>\n",
              "      <td>144400</td>\n",
              "      <td>7600000</td>\n",
              "    </tr>\n",
              "    <tr>\n",
              "      <th>1</th>\n",
              "      <td>Anna Nagar</td>\n",
              "      <td>1986</td>\n",
              "      <td>19-12-2006</td>\n",
              "      <td>26</td>\n",
              "      <td>2.0</td>\n",
              "      <td>1.0</td>\n",
              "      <td>5</td>\n",
              "      <td>AbNormal</td>\n",
              "      <td>No</td>\n",
              "      <td>22-12-1995</td>\n",
              "      <td>...</td>\n",
              "      <td>AllPub</td>\n",
              "      <td>Gravel</td>\n",
              "      <td>RH</td>\n",
              "      <td>4.9</td>\n",
              "      <td>4.2</td>\n",
              "      <td>2.5</td>\n",
              "      <td>3.765</td>\n",
              "      <td>760122</td>\n",
              "      <td>304049</td>\n",
              "      <td>21717770</td>\n",
              "    </tr>\n",
              "    <tr>\n",
              "      <th>2</th>\n",
              "      <td>Adyar</td>\n",
              "      <td>909</td>\n",
              "      <td>04-02-2012</td>\n",
              "      <td>70</td>\n",
              "      <td>1.0</td>\n",
              "      <td>1.0</td>\n",
              "      <td>3</td>\n",
              "      <td>AbNormal</td>\n",
              "      <td>Yes</td>\n",
              "      <td>09-02-1992</td>\n",
              "      <td>...</td>\n",
              "      <td>ELO</td>\n",
              "      <td>Gravel</td>\n",
              "      <td>RL</td>\n",
              "      <td>4.1</td>\n",
              "      <td>3.8</td>\n",
              "      <td>2.2</td>\n",
              "      <td>3.090</td>\n",
              "      <td>421094</td>\n",
              "      <td>92114</td>\n",
              "      <td>13159200</td>\n",
              "    </tr>\n",
              "    <tr>\n",
              "      <th>3</th>\n",
              "      <td>Velachery</td>\n",
              "      <td>1855</td>\n",
              "      <td>13-03-2010</td>\n",
              "      <td>14</td>\n",
              "      <td>3.0</td>\n",
              "      <td>2.0</td>\n",
              "      <td>5</td>\n",
              "      <td>Family</td>\n",
              "      <td>No</td>\n",
              "      <td>18-03-1988</td>\n",
              "      <td>...</td>\n",
              "      <td>NoSewr</td>\n",
              "      <td>Paved</td>\n",
              "      <td>I</td>\n",
              "      <td>4.7</td>\n",
              "      <td>3.9</td>\n",
              "      <td>3.6</td>\n",
              "      <td>4.010</td>\n",
              "      <td>356321</td>\n",
              "      <td>77042</td>\n",
              "      <td>9630290</td>\n",
              "    </tr>\n",
              "    <tr>\n",
              "      <th>4</th>\n",
              "      <td>Karapakkam</td>\n",
              "      <td>1226</td>\n",
              "      <td>05-10-2009</td>\n",
              "      <td>84</td>\n",
              "      <td>1.0</td>\n",
              "      <td>1.0</td>\n",
              "      <td>3</td>\n",
              "      <td>AbNormal</td>\n",
              "      <td>Yes</td>\n",
              "      <td>13-10-1979</td>\n",
              "      <td>...</td>\n",
              "      <td>AllPub</td>\n",
              "      <td>Gravel</td>\n",
              "      <td>C</td>\n",
              "      <td>3.0</td>\n",
              "      <td>2.5</td>\n",
              "      <td>4.1</td>\n",
              "      <td>3.290</td>\n",
              "      <td>237000</td>\n",
              "      <td>74063</td>\n",
              "      <td>7406250</td>\n",
              "    </tr>\n",
              "    <tr>\n",
              "      <th>...</th>\n",
              "      <td>...</td>\n",
              "      <td>...</td>\n",
              "      <td>...</td>\n",
              "      <td>...</td>\n",
              "      <td>...</td>\n",
              "      <td>...</td>\n",
              "      <td>...</td>\n",
              "      <td>...</td>\n",
              "      <td>...</td>\n",
              "      <td>...</td>\n",
              "      <td>...</td>\n",
              "      <td>...</td>\n",
              "      <td>...</td>\n",
              "      <td>...</td>\n",
              "      <td>...</td>\n",
              "      <td>...</td>\n",
              "      <td>...</td>\n",
              "      <td>...</td>\n",
              "      <td>...</td>\n",
              "      <td>...</td>\n",
              "      <td>...</td>\n",
              "    </tr>\n",
              "    <tr>\n",
              "      <th>7104</th>\n",
              "      <td>Karapakkam</td>\n",
              "      <td>598</td>\n",
              "      <td>03-01-2011</td>\n",
              "      <td>51</td>\n",
              "      <td>1.0</td>\n",
              "      <td>1.0</td>\n",
              "      <td>2</td>\n",
              "      <td>AdjLand</td>\n",
              "      <td>No</td>\n",
              "      <td>15-01-1962</td>\n",
              "      <td>...</td>\n",
              "      <td>ELO</td>\n",
              "      <td>No Access</td>\n",
              "      <td>RM</td>\n",
              "      <td>3.0</td>\n",
              "      <td>2.2</td>\n",
              "      <td>2.4</td>\n",
              "      <td>2.520</td>\n",
              "      <td>208767</td>\n",
              "      <td>107060</td>\n",
              "      <td>5353000</td>\n",
              "    </tr>\n",
              "    <tr>\n",
              "      <th>7105</th>\n",
              "      <td>Velachery</td>\n",
              "      <td>1897</td>\n",
              "      <td>08-04-2004</td>\n",
              "      <td>52</td>\n",
              "      <td>3.0</td>\n",
              "      <td>2.0</td>\n",
              "      <td>5</td>\n",
              "      <td>Family</td>\n",
              "      <td>Yes</td>\n",
              "      <td>11-04-1995</td>\n",
              "      <td>...</td>\n",
              "      <td>NoSeWa</td>\n",
              "      <td>No Access</td>\n",
              "      <td>RH</td>\n",
              "      <td>3.6</td>\n",
              "      <td>4.5</td>\n",
              "      <td>3.3</td>\n",
              "      <td>3.920</td>\n",
              "      <td>346191</td>\n",
              "      <td>205551</td>\n",
              "      <td>10818480</td>\n",
              "    </tr>\n",
              "    <tr>\n",
              "      <th>7106</th>\n",
              "      <td>Velachery</td>\n",
              "      <td>1614</td>\n",
              "      <td>25-08-2006</td>\n",
              "      <td>152</td>\n",
              "      <td>2.0</td>\n",
              "      <td>1.0</td>\n",
              "      <td>4</td>\n",
              "      <td>Normal Sale</td>\n",
              "      <td>No</td>\n",
              "      <td>01-09-1978</td>\n",
              "      <td>...</td>\n",
              "      <td>NoSeWa</td>\n",
              "      <td>Gravel</td>\n",
              "      <td>I</td>\n",
              "      <td>4.3</td>\n",
              "      <td>4.2</td>\n",
              "      <td>2.9</td>\n",
              "      <td>3.840</td>\n",
              "      <td>317354</td>\n",
              "      <td>167028</td>\n",
              "      <td>8351410</td>\n",
              "    </tr>\n",
              "    <tr>\n",
              "      <th>7107</th>\n",
              "      <td>Karapakkam</td>\n",
              "      <td>787</td>\n",
              "      <td>03-08-2009</td>\n",
              "      <td>40</td>\n",
              "      <td>1.0</td>\n",
              "      <td>1.0</td>\n",
              "      <td>2</td>\n",
              "      <td>Partial</td>\n",
              "      <td>Yes</td>\n",
              "      <td>11-08-1977</td>\n",
              "      <td>...</td>\n",
              "      <td>ELO</td>\n",
              "      <td>Paved</td>\n",
              "      <td>RL</td>\n",
              "      <td>4.6</td>\n",
              "      <td>3.8</td>\n",
              "      <td>4.1</td>\n",
              "      <td>4.160</td>\n",
              "      <td>425350</td>\n",
              "      <td>119098</td>\n",
              "      <td>8507000</td>\n",
              "    </tr>\n",
              "    <tr>\n",
              "      <th>7108</th>\n",
              "      <td>Velachery</td>\n",
              "      <td>1896</td>\n",
              "      <td>13-07-2005</td>\n",
              "      <td>156</td>\n",
              "      <td>3.0</td>\n",
              "      <td>2.0</td>\n",
              "      <td>5</td>\n",
              "      <td>Partial</td>\n",
              "      <td>Yes</td>\n",
              "      <td>24-07-1961</td>\n",
              "      <td>...</td>\n",
              "      <td>ELO</td>\n",
              "      <td>Paved</td>\n",
              "      <td>I</td>\n",
              "      <td>3.1</td>\n",
              "      <td>3.5</td>\n",
              "      <td>4.3</td>\n",
              "      <td>3.640</td>\n",
              "      <td>349177</td>\n",
              "      <td>79812</td>\n",
              "      <td>9976480</td>\n",
              "    </tr>\n",
              "  </tbody>\n",
              "</table>\n",
              "<p>7109 rows × 21 columns</p>\n",
              "</div>\n",
              "      <button class=\"colab-df-convert\" onclick=\"convertToInteractive('df-32222e18-6840-46f5-b6d3-3d7f548a6585')\"\n",
              "              title=\"Convert this dataframe to an interactive table.\"\n",
              "              style=\"display:none;\">\n",
              "        \n",
              "  <svg xmlns=\"http://www.w3.org/2000/svg\" height=\"24px\"viewBox=\"0 0 24 24\"\n",
              "       width=\"24px\">\n",
              "    <path d=\"M0 0h24v24H0V0z\" fill=\"none\"/>\n",
              "    <path d=\"M18.56 5.44l.94 2.06.94-2.06 2.06-.94-2.06-.94-.94-2.06-.94 2.06-2.06.94zm-11 1L8.5 8.5l.94-2.06 2.06-.94-2.06-.94L8.5 2.5l-.94 2.06-2.06.94zm10 10l.94 2.06.94-2.06 2.06-.94-2.06-.94-.94-2.06-.94 2.06-2.06.94z\"/><path d=\"M17.41 7.96l-1.37-1.37c-.4-.4-.92-.59-1.43-.59-.52 0-1.04.2-1.43.59L10.3 9.45l-7.72 7.72c-.78.78-.78 2.05 0 2.83L4 21.41c.39.39.9.59 1.41.59.51 0 1.02-.2 1.41-.59l7.78-7.78 2.81-2.81c.8-.78.8-2.07 0-2.86zM5.41 20L4 18.59l7.72-7.72 1.47 1.35L5.41 20z\"/>\n",
              "  </svg>\n",
              "      </button>\n",
              "      \n",
              "  <style>\n",
              "    .colab-df-container {\n",
              "      display:flex;\n",
              "      flex-wrap:wrap;\n",
              "      gap: 12px;\n",
              "    }\n",
              "\n",
              "    .colab-df-convert {\n",
              "      background-color: #E8F0FE;\n",
              "      border: none;\n",
              "      border-radius: 50%;\n",
              "      cursor: pointer;\n",
              "      display: none;\n",
              "      fill: #1967D2;\n",
              "      height: 32px;\n",
              "      padding: 0 0 0 0;\n",
              "      width: 32px;\n",
              "    }\n",
              "\n",
              "    .colab-df-convert:hover {\n",
              "      background-color: #E2EBFA;\n",
              "      box-shadow: 0px 1px 2px rgba(60, 64, 67, 0.3), 0px 1px 3px 1px rgba(60, 64, 67, 0.15);\n",
              "      fill: #174EA6;\n",
              "    }\n",
              "\n",
              "    [theme=dark] .colab-df-convert {\n",
              "      background-color: #3B4455;\n",
              "      fill: #D2E3FC;\n",
              "    }\n",
              "\n",
              "    [theme=dark] .colab-df-convert:hover {\n",
              "      background-color: #434B5C;\n",
              "      box-shadow: 0px 1px 3px 1px rgba(0, 0, 0, 0.15);\n",
              "      filter: drop-shadow(0px 1px 2px rgba(0, 0, 0, 0.3));\n",
              "      fill: #FFFFFF;\n",
              "    }\n",
              "  </style>\n",
              "\n",
              "      <script>\n",
              "        const buttonEl =\n",
              "          document.querySelector('#df-32222e18-6840-46f5-b6d3-3d7f548a6585 button.colab-df-convert');\n",
              "        buttonEl.style.display =\n",
              "          google.colab.kernel.accessAllowed ? 'block' : 'none';\n",
              "\n",
              "        async function convertToInteractive(key) {\n",
              "          const element = document.querySelector('#df-32222e18-6840-46f5-b6d3-3d7f548a6585');\n",
              "          const dataTable =\n",
              "            await google.colab.kernel.invokeFunction('convertToInteractive',\n",
              "                                                     [key], {});\n",
              "          if (!dataTable) return;\n",
              "\n",
              "          const docLinkHtml = 'Like what you see? Visit the ' +\n",
              "            '<a target=\"_blank\" href=https://colab.research.google.com/notebooks/data_table.ipynb>data table notebook</a>'\n",
              "            + ' to learn more about interactive tables.';\n",
              "          element.innerHTML = '';\n",
              "          dataTable['output_type'] = 'display_data';\n",
              "          await google.colab.output.renderOutput(dataTable, element);\n",
              "          const docLink = document.createElement('div');\n",
              "          docLink.innerHTML = docLinkHtml;\n",
              "          element.appendChild(docLink);\n",
              "        }\n",
              "      </script>\n",
              "    </div>\n",
              "  </div>\n",
              "  "
            ]
          },
          "metadata": {},
          "execution_count": 12
        }
      ]
    },
    {
      "cell_type": "markdown",
      "source": [
        "**1. AREA**"
      ],
      "metadata": {
        "id": "vJCqfKxmR5u5"
      }
    },
    {
      "cell_type": "code",
      "source": [
        "df.AREA.values"
      ],
      "metadata": {
        "colab": {
          "base_uri": "https://localhost:8080/"
        },
        "id": "VfxD_MS2M-Z3",
        "outputId": "6701bf59-0f92-45b3-b383-4d915abfa0b8"
      },
      "execution_count": null,
      "outputs": [
        {
          "output_type": "execute_result",
          "data": {
            "text/plain": [
              "array(['Karapakkam', 'Anna Nagar', 'Adyar', ..., 'Velachery',\n",
              "       'Karapakkam', 'Velachery'], dtype=object)"
            ]
          },
          "metadata": {},
          "execution_count": 13
        }
      ]
    },
    {
      "cell_type": "code",
      "source": [
        "df.AREA.unique()"
      ],
      "metadata": {
        "colab": {
          "base_uri": "https://localhost:8080/"
        },
        "id": "9NPyRbG-NCCq",
        "outputId": "d690894f-1b14-40d5-962b-cbc5f12d68b7"
      },
      "execution_count": null,
      "outputs": [
        {
          "output_type": "execute_result",
          "data": {
            "text/plain": [
              "array(['Karapakkam', 'Anna Nagar', 'Adyar', 'Velachery', 'Chrompet',\n",
              "       'KK Nagar', 'TNagar', 'T Nagar', 'Chrompt', 'Chrmpet', 'Karapakam',\n",
              "       'Ana Nagar', 'Chormpet', 'Adyr', 'Velchery', 'Ann Nagar',\n",
              "       'KKNagar'], dtype=object)"
            ]
          },
          "metadata": {},
          "execution_count": 14
        }
      ]
    },
    {
      "cell_type": "code",
      "source": [
        "df[\"AREA\"] = df[\"AREA\"].replace({\"Adyr\":\"Adyar\", \"Ann Nagar\":\"Anna Nagar\", \"Ana Nagar\":\"Anna Nagar\", \"Chrmpet\":\"Chrompet\", \"Chrompt\":\"Chrompet\", \"Chormpet\":\"Chrompet\", \"TNagar\":\"T Nagar\", \"Karapakam\":\"Karapakkam\", \"Velchery\":\"Velachery\", \"KKNagar\":\"KK Nagar\" })"
      ],
      "metadata": {
        "id": "HoqqbSM-NFVu"
      },
      "execution_count": null,
      "outputs": []
    },
    {
      "cell_type": "code",
      "source": [
        "df.AREA.unique()"
      ],
      "metadata": {
        "colab": {
          "base_uri": "https://localhost:8080/"
        },
        "id": "8OjptkD2PPfC",
        "outputId": "fcf94b48-d162-4980-a512-c84dd5123360"
      },
      "execution_count": null,
      "outputs": [
        {
          "output_type": "execute_result",
          "data": {
            "text/plain": [
              "array(['Karapakkam', 'Anna Nagar', 'Adyar', 'Velachery', 'Chrompet',\n",
              "       'KK Nagar', 'T Nagar'], dtype=object)"
            ]
          },
          "metadata": {},
          "execution_count": 16
        }
      ]
    },
    {
      "cell_type": "code",
      "source": [
        "df.AREA.value_counts()"
      ],
      "metadata": {
        "colab": {
          "base_uri": "https://localhost:8080/"
        },
        "id": "bsrq4S58PSo0",
        "outputId": "a2e8f649-8ad0-4c5d-cf51-3d83ddf3bcfc"
      },
      "execution_count": null,
      "outputs": [
        {
          "output_type": "execute_result",
          "data": {
            "text/plain": [
              "Chrompet      1702\n",
              "Karapakkam    1366\n",
              "KK Nagar       997\n",
              "Velachery      981\n",
              "Anna Nagar     788\n",
              "Adyar          774\n",
              "T Nagar        501\n",
              "Name: AREA, dtype: int64"
            ]
          },
          "metadata": {},
          "execution_count": 17
        }
      ]
    },
    {
      "cell_type": "code",
      "source": [
        "df['AREA'].value_counts().plot(kind = 'bar')\n",
        "plt.ylabel('Number of Buildings')\n",
        "plt.title('Area vs Number of buildings')"
      ],
      "metadata": {
        "colab": {
          "base_uri": "https://localhost:8080/",
          "height": 352
        },
        "id": "aP5y6Zl6PkU6",
        "outputId": "bb3784bc-addb-4112-a24f-04976682c356"
      },
      "execution_count": null,
      "outputs": [
        {
          "output_type": "execute_result",
          "data": {
            "text/plain": [
              "Text(0.5, 1.0, 'Area vs Number of buildings')"
            ]
          },
          "metadata": {},
          "execution_count": 18
        },
        {
          "output_type": "display_data",
          "data": {
            "text/plain": [
              "<Figure size 432x288 with 1 Axes>"
            ],
            "image/png": "[encoded data removed]"
          },
          "metadata": {
            "needs_background": "light"
          }
        }
      ]
    },
    {
      "cell_type": "markdown",
      "source": [
        "**2. INT_SQFT**"
      ],
      "metadata": {
        "id": "WH89jWGUR3LB"
      }
    },
    {
      "cell_type": "code",
      "source": [
        "df.INT_SQFT.values"
      ],
      "metadata": {
        "colab": {
          "base_uri": "https://localhost:8080/"
        },
        "id": "eqXIfdnwRsO-",
        "outputId": "d11e634a-c236-4082-a8f5-92a9947c54bd"
      },
      "execution_count": null,
      "outputs": [
        {
          "output_type": "execute_result",
          "data": {
            "text/plain": [
              "array([1004, 1986,  909, ..., 1614,  787, 1896])"
            ]
          },
          "metadata": {},
          "execution_count": 19
        }
      ]
    },
    {
      "cell_type": "code",
      "source": [
        "df.INT_SQFT.describe()"
      ],
      "metadata": {
        "colab": {
          "base_uri": "https://localhost:8080/"
        },
        "id": "PIl-t6COSUT8",
        "outputId": "b27f27b6-814c-45bc-b8dd-98f3ff4a20f8"
      },
      "execution_count": null,
      "outputs": [
        {
          "output_type": "execute_result",
          "data": {
            "text/plain": [
              "count    7109.000000\n",
              "mean     1382.073006\n",
              "std       457.410902\n",
              "min       500.000000\n",
              "25%       993.000000\n",
              "50%      1373.000000\n",
              "75%      1744.000000\n",
              "max      2500.000000\n",
              "Name: INT_SQFT, dtype: float64"
            ]
          },
          "metadata": {},
          "execution_count": 20
        }
      ]
    },
    {
      "cell_type": "code",
      "source": [
        "q3 = df.INT_SQFT.quantile(0.75)\n",
        "q1 = df.INT_SQFT.quantile(0.25)\n",
        "iqr = q3 - q1\n",
        "iqr"
      ],
      "metadata": {
        "colab": {
          "base_uri": "https://localhost:8080/"
        },
        "id": "gNcqQHVGVUkX",
        "outputId": "ddbbaf21-d5b8-4398-855f-ffeb617580a7"
      },
      "execution_count": null,
      "outputs": [
        {
          "output_type": "execute_result",
          "data": {
            "text/plain": [
              "751.0"
            ]
          },
          "metadata": {},
          "execution_count": 21
        }
      ]
    },
    {
      "cell_type": "code",
      "source": [
        "q3 + 1.5*iqr"
      ],
      "metadata": {
        "colab": {
          "base_uri": "https://localhost:8080/"
        },
        "id": "X66FaoZVXfdt",
        "outputId": "ae8e4956-ac87-444d-a016-1dd02e3a6430"
      },
      "execution_count": null,
      "outputs": [
        {
          "output_type": "execute_result",
          "data": {
            "text/plain": [
              "2870.5"
            ]
          },
          "metadata": {},
          "execution_count": 22
        }
      ]
    },
    {
      "cell_type": "code",
      "source": [
        "q1 - 1.5*iqr"
      ],
      "metadata": {
        "colab": {
          "base_uri": "https://localhost:8080/"
        },
        "id": "7RpMRPPqXjvc",
        "outputId": "3156382b-3cd9-4946-f67a-0b0ef402594a"
      },
      "execution_count": null,
      "outputs": [
        {
          "output_type": "execute_result",
          "data": {
            "text/plain": [
              "-133.5"
            ]
          },
          "metadata": {},
          "execution_count": 23
        }
      ]
    },
    {
      "cell_type": "code",
      "source": [
        "df.INT_SQFT.dtype"
      ],
      "metadata": {
        "colab": {
          "base_uri": "https://localhost:8080/"
        },
        "id": "iTfxocfJXoE9",
        "outputId": "ea42f09e-e982-4475-aa40-ca0a91fb8e49"
      },
      "execution_count": null,
      "outputs": [
        {
          "output_type": "execute_result",
          "data": {
            "text/plain": [
              "dtype('int64')"
            ]
          },
          "metadata": {},
          "execution_count": 24
        }
      ]
    },
    {
      "cell_type": "code",
      "source": [
        "df.groupby('AREA')['INT_SQFT'].mean().sort_values().plot(kind = 'bar')\n",
        "plt.ylabel('Average Sq.Ft')\n",
        "plt.title('Area vs Average Sqft')"
      ],
      "metadata": {
        "colab": {
          "base_uri": "https://localhost:8080/",
          "height": 366
        },
        "id": "vfs_b4uhM8fP",
        "outputId": "5a5cc473-8abb-4795-9769-469fcd12ae1d"
      },
      "execution_count": null,
      "outputs": [
        {
          "output_type": "execute_result",
          "data": {
            "text/plain": [
              "Text(0.5, 1.0, 'Area vs Average Sqft')"
            ]
          },
          "metadata": {},
          "execution_count": 25
        },
        {
          "output_type": "display_data",
          "data": {
            "text/plain": [
              "<Figure size 432x288 with 1 Axes>"
            ],
            "image/png": "[encoded data removed]"
          },
          "metadata": {
            "needs_background": "light"
          }
        }
      ]
    },
    {
      "cell_type": "markdown",
      "source": [
        "**3. DATE_SALE**"
      ],
      "metadata": {
        "id": "hlgJG9w2YBAB"
      }
    },
    {
      "cell_type": "code",
      "source": [
        "df.DATE_SALE.values"
      ],
      "metadata": {
        "colab": {
          "base_uri": "https://localhost:8080/"
        },
        "id": "VrT1Mt_6X8KZ",
        "outputId": "8e8fcbc7-073f-40fe-bd87-6d2347242afe"
      },
      "execution_count": null,
      "outputs": [
        {
          "output_type": "execute_result",
          "data": {
            "text/plain": [
              "array(['04-05-2011', '19-12-2006', '04-02-2012', ..., '25-08-2006',\n",
              "       '03-08-2009', '13-07-2005'], dtype=object)"
            ]
          },
          "metadata": {},
          "execution_count": 26
        }
      ]
    },
    {
      "cell_type": "code",
      "source": [
        "df['DATE_SALE'].describe()"
      ],
      "metadata": {
        "colab": {
          "base_uri": "https://localhost:8080/"
        },
        "id": "CaZAtDHvOdAs",
        "outputId": "6c5b1992-eae8-41ff-a0a3-3a2e3dec4074"
      },
      "execution_count": null,
      "outputs": [
        {
          "output_type": "execute_result",
          "data": {
            "text/plain": [
              "count           7109\n",
              "unique          2798\n",
              "top       06-10-2009\n",
              "freq              12\n",
              "Name: DATE_SALE, dtype: object"
            ]
          },
          "metadata": {},
          "execution_count": 27
        }
      ]
    },
    {
      "cell_type": "code",
      "source": [
        "df['DATE_SALE'].head()"
      ],
      "metadata": {
        "colab": {
          "base_uri": "https://localhost:8080/"
        },
        "id": "bFEGM-DoOQSA",
        "outputId": "806019c8-3b82-4aff-ba61-aaec390a8979"
      },
      "execution_count": null,
      "outputs": [
        {
          "output_type": "execute_result",
          "data": {
            "text/plain": [
              "0    04-05-2011\n",
              "1    19-12-2006\n",
              "2    04-02-2012\n",
              "3    13-03-2010\n",
              "4    05-10-2009\n",
              "Name: DATE_SALE, dtype: object"
            ]
          },
          "metadata": {},
          "execution_count": 28
        }
      ]
    },
    {
      "cell_type": "code",
      "source": [
        "df.DATE_SALE.dtype"
      ],
      "metadata": {
        "colab": {
          "base_uri": "https://localhost:8080/"
        },
        "id": "Pa2X9k9kYDwf",
        "outputId": "91dbddec-29f1-4799-e8f1-d1f2bb40870b"
      },
      "execution_count": null,
      "outputs": [
        {
          "output_type": "execute_result",
          "data": {
            "text/plain": [
              "dtype('O')"
            ]
          },
          "metadata": {},
          "execution_count": 29
        }
      ]
    },
    {
      "cell_type": "code",
      "source": [
        "import datetime"
      ],
      "metadata": {
        "id": "GihJKBOSYHo9"
      },
      "execution_count": null,
      "outputs": []
    },
    {
      "cell_type": "code",
      "source": [
        "df['DATE_SALE'] = pd.to_datetime(df['DATE_SALE'])"
      ],
      "metadata": {
        "id": "Rwtdiv5aP-tZ"
      },
      "execution_count": null,
      "outputs": []
    },
    {
      "cell_type": "code",
      "source": [
        "df['DATE_SALE'].head()"
      ],
      "metadata": {
        "colab": {
          "base_uri": "https://localhost:8080/"
        },
        "id": "m6arDr3BPoJC",
        "outputId": "33e17e87-2963-48e4-859b-0621b7b73f6b"
      },
      "execution_count": null,
      "outputs": [
        {
          "output_type": "execute_result",
          "data": {
            "text/plain": [
              "0   2011-04-05\n",
              "1   2006-12-19\n",
              "2   2012-04-02\n",
              "3   2010-03-13\n",
              "4   2009-05-10\n",
              "Name: DATE_SALE, dtype: datetime64[ns]"
            ]
          },
          "metadata": {},
          "execution_count": 32
        }
      ]
    },
    {
      "cell_type": "code",
      "source": [
        "df.DATE_SALE.dtype"
      ],
      "metadata": {
        "colab": {
          "base_uri": "https://localhost:8080/"
        },
        "id": "vEI4nIGjYTrO",
        "outputId": "ea823e56-4e31-4066-b657-7123d8190e31"
      },
      "execution_count": null,
      "outputs": [
        {
          "output_type": "execute_result",
          "data": {
            "text/plain": [
              "dtype('<M8[ns]')"
            ]
          },
          "metadata": {},
          "execution_count": 33
        }
      ]
    },
    {
      "cell_type": "code",
      "source": [
        "df['DATE_SALE'].value_counts().head()"
      ],
      "metadata": {
        "colab": {
          "base_uri": "https://localhost:8080/"
        },
        "id": "JhzcYOiZQ2CP",
        "outputId": "018e2e5b-eab0-4534-925b-d3568dea89be"
      },
      "execution_count": null,
      "outputs": [
        {
          "output_type": "execute_result",
          "data": {
            "text/plain": [
              "2009-06-10    12\n",
              "2009-06-01    10\n",
              "2011-12-04    10\n",
              "2012-02-26    10\n",
              "2010-11-17    10\n",
              "Name: DATE_SALE, dtype: int64"
            ]
          },
          "metadata": {},
          "execution_count": 34
        }
      ]
    },
    {
      "cell_type": "code",
      "source": [
        "df['DATE_SALE'].dt.year.value_counts()"
      ],
      "metadata": {
        "colab": {
          "base_uri": "https://localhost:8080/"
        },
        "id": "HiCsozjrRJLh",
        "outputId": "5c22cf8a-4ecc-4974-c56b-09627354a7a8"
      },
      "execution_count": null,
      "outputs": [
        {
          "output_type": "execute_result",
          "data": {
            "text/plain": [
              "2010    1341\n",
              "2011    1300\n",
              "2009    1122\n",
              "2008     814\n",
              "2012     654\n",
              "2007     651\n",
              "2013     365\n",
              "2014     335\n",
              "2006     253\n",
              "2004     116\n",
              "2005     107\n",
              "2015      51\n",
              "Name: DATE_SALE, dtype: int64"
            ]
          },
          "metadata": {},
          "execution_count": 35
        }
      ]
    },
    {
      "cell_type": "code",
      "source": [
        "df['DATE_SALE'].dt.year.value_counts().plot(kind = 'bar')\n",
        "plt.ylabel('Houses sold')\n",
        "plt.title('Year vs sales')"
      ],
      "metadata": {
        "id": "3Rxdjp6tYX0r",
        "colab": {
          "base_uri": "https://localhost:8080/",
          "height": 315
        },
        "outputId": "132628aa-9487-4f08-d6e7-bf1e3cca5a67"
      },
      "execution_count": null,
      "outputs": [
        {
          "output_type": "execute_result",
          "data": {
            "text/plain": [
              "Text(0.5, 1.0, 'Year vs sales')"
            ]
          },
          "metadata": {},
          "execution_count": 36
        },
        {
          "output_type": "display_data",
          "data": {
            "text/plain": [
              "<Figure size 432x288 with 1 Axes>"
            ],
            "image/png": "[encoded data removed]"
          },
          "metadata": {
            "needs_background": "light"
          }
        }
      ]
    },
    {
      "cell_type": "code",
      "source": [
        "df['DATE_SALE'].dt.month.value_counts()"
      ],
      "metadata": {
        "colab": {
          "base_uri": "https://localhost:8080/"
        },
        "id": "tep-2pm7A0ii",
        "outputId": "57da8eaa-6517-42cf-9fe2-ddbac90e5942"
      },
      "execution_count": null,
      "outputs": [
        {
          "output_type": "execute_result",
          "data": {
            "text/plain": [
              "10    639\n",
              "3     629\n",
              "1     626\n",
              "12    620\n",
              "6     588\n",
              "9     588\n",
              "5     583\n",
              "8     581\n",
              "11    577\n",
              "7     574\n",
              "2     566\n",
              "4     538\n",
              "Name: DATE_SALE, dtype: int64"
            ]
          },
          "metadata": {},
          "execution_count": 37
        }
      ]
    },
    {
      "cell_type": "code",
      "source": [
        "df['DATE_SALE'].dt.month.value_counts().plot(kind = 'bar')\n",
        "plt.ylabel('Houses sold')\n",
        "plt.title('Month vs sales')"
      ],
      "metadata": {
        "colab": {
          "base_uri": "https://localhost:8080/",
          "height": 302
        },
        "id": "WnW4HtJsBUA6",
        "outputId": "9a2c5185-382f-43af-9ed3-bbc6fdab18ae"
      },
      "execution_count": null,
      "outputs": [
        {
          "output_type": "execute_result",
          "data": {
            "text/plain": [
              "Text(0.5, 1.0, 'Month vs sales')"
            ]
          },
          "metadata": {},
          "execution_count": 38
        },
        {
          "output_type": "display_data",
          "data": {
            "text/plain": [
              "<Figure size 432x288 with 1 Axes>"
            ],
            "image/png": "[encoded data removed]"
          },
          "metadata": {
            "needs_background": "light"
          }
        }
      ]
    },
    {
      "cell_type": "markdown",
      "source": [
        "**4. DIST_MAINROAD**"
      ],
      "metadata": {
        "id": "w8n5YzRUZC_5"
      }
    },
    {
      "cell_type": "code",
      "source": [
        "df.DIST_MAINROAD.values"
      ],
      "metadata": {
        "colab": {
          "base_uri": "https://localhost:8080/"
        },
        "id": "jcT6lnIxZHAU",
        "outputId": "fa94037b-3200-4128-e8ea-f884749f431f"
      },
      "execution_count": null,
      "outputs": [
        {
          "output_type": "execute_result",
          "data": {
            "text/plain": [
              "array([131,  26,  70, ..., 152,  40, 156])"
            ]
          },
          "metadata": {},
          "execution_count": 39
        }
      ]
    },
    {
      "cell_type": "code",
      "source": [
        "df.DIST_MAINROAD.dtype"
      ],
      "metadata": {
        "colab": {
          "base_uri": "https://localhost:8080/"
        },
        "id": "Omzfpl-XZc00",
        "outputId": "66415cdf-adf5-40d9-ba44-1f3d1f358229"
      },
      "execution_count": null,
      "outputs": [
        {
          "output_type": "execute_result",
          "data": {
            "text/plain": [
              "dtype('int64')"
            ]
          },
          "metadata": {},
          "execution_count": 40
        }
      ]
    },
    {
      "cell_type": "code",
      "source": [
        "df.DIST_MAINROAD.describe()"
      ],
      "metadata": {
        "colab": {
          "base_uri": "https://localhost:8080/"
        },
        "id": "W0vnScEeZhWx",
        "outputId": "14ce46b0-b76e-4013-8648-2fa1987853d4"
      },
      "execution_count": null,
      "outputs": [
        {
          "output_type": "execute_result",
          "data": {
            "text/plain": [
              "count    7109.000000\n",
              "mean       99.603179\n",
              "std        57.403110\n",
              "min         0.000000\n",
              "25%        50.000000\n",
              "50%        99.000000\n",
              "75%       148.000000\n",
              "max       200.000000\n",
              "Name: DIST_MAINROAD, dtype: float64"
            ]
          },
          "metadata": {},
          "execution_count": 41
        }
      ]
    },
    {
      "cell_type": "code",
      "source": [
        "q3 = df.DIST_MAINROAD.quantile(0.75)\n",
        "q1 = df.DIST_MAINROAD.quantile(0.25)\n",
        "iqr = q3 - q1\n",
        "iqr"
      ],
      "metadata": {
        "colab": {
          "base_uri": "https://localhost:8080/"
        },
        "id": "OOBBD0YyZmed",
        "outputId": "2b3ae433-7127-43f6-d5fb-6797e1a9d077"
      },
      "execution_count": null,
      "outputs": [
        {
          "output_type": "execute_result",
          "data": {
            "text/plain": [
              "98.0"
            ]
          },
          "metadata": {},
          "execution_count": 42
        }
      ]
    },
    {
      "cell_type": "code",
      "source": [
        "q3 + 1.5*iqr"
      ],
      "metadata": {
        "colab": {
          "base_uri": "https://localhost:8080/"
        },
        "id": "W72WRk8VZ8Tp",
        "outputId": "5fd0574f-53d6-49fc-b66b-08dcb6e7c837"
      },
      "execution_count": null,
      "outputs": [
        {
          "output_type": "execute_result",
          "data": {
            "text/plain": [
              "295.0"
            ]
          },
          "metadata": {},
          "execution_count": 43
        }
      ]
    },
    {
      "cell_type": "code",
      "source": [
        "q1 - 1.5*iqr"
      ],
      "metadata": {
        "colab": {
          "base_uri": "https://localhost:8080/"
        },
        "id": "JIkWrWk4aDrv",
        "outputId": "f486a5c9-8aa6-4a58-d69d-9b4aaba16db3"
      },
      "execution_count": null,
      "outputs": [
        {
          "output_type": "execute_result",
          "data": {
            "text/plain": [
              "-97.0"
            ]
          },
          "metadata": {},
          "execution_count": 44
        }
      ]
    },
    {
      "cell_type": "markdown",
      "source": [
        "No outliers"
      ],
      "metadata": {
        "id": "vcDhUadpaH4S"
      }
    },
    {
      "cell_type": "code",
      "source": [
        "df.groupby('AREA')['DIST_MAINROAD'].mean()"
      ],
      "metadata": {
        "colab": {
          "base_uri": "https://localhost:8080/"
        },
        "id": "EAjo480mMqYS",
        "outputId": "bb30f4c7-cade-43bc-bbb2-e8d896d93ab4"
      },
      "execution_count": null,
      "outputs": [
        {
          "output_type": "execute_result",
          "data": {
            "text/plain": [
              "AREA\n",
              "Adyar         101.332041\n",
              "Anna Nagar    100.661168\n",
              "Chrompet       98.133373\n",
              "KK Nagar      100.700100\n",
              "Karapakkam    101.028551\n",
              "T Nagar       103.516966\n",
              "Velachery      94.840979\n",
              "Name: DIST_MAINROAD, dtype: float64"
            ]
          },
          "metadata": {},
          "execution_count": 45
        }
      ]
    },
    {
      "cell_type": "markdown",
      "source": [
        "**5. N_BEDROOM, N_BATHROOM, N_ROOM**"
      ],
      "metadata": {
        "id": "ufPkr7WeM-Xj"
      }
    },
    {
      "cell_type": "code",
      "source": [
        "df[['N_BEDROOM', 'N_BATHROOM', 'N_ROOM']].describe()"
      ],
      "metadata": {
        "colab": {
          "base_uri": "https://localhost:8080/",
          "height": 300
        },
        "id": "Ly1TUxJuMITW",
        "outputId": "e0fd99f2-9f5d-44dc-fe70-dfab9f2fadde"
      },
      "execution_count": null,
      "outputs": [
        {
          "output_type": "execute_result",
          "data": {
            "text/plain": [
              "         N_BEDROOM   N_BATHROOM       N_ROOM\n",
              "count  7108.000000  7104.000000  7109.000000\n",
              "mean      1.637029     1.213260     3.688704\n",
              "std       0.802902     0.409639     1.019099\n",
              "min       1.000000     1.000000     2.000000\n",
              "25%       1.000000     1.000000     3.000000\n",
              "50%       1.000000     1.000000     4.000000\n",
              "75%       2.000000     1.000000     4.000000\n",
              "max       4.000000     2.000000     6.000000"
            ],
            "text/html": [
              "\n",
              "  <div id=\"df-04930028-71c3-4536-8d00-1c178676915a\">\n",
              "    <div class=\"colab-df-container\">\n",
              "      <div>\n",
              "<style scoped>\n",
              "    .dataframe tbody tr th:only-of-type {\n",
              "        vertical-align: middle;\n",
              "    }\n",
              "\n",
              "    .dataframe tbody tr th {\n",
              "        vertical-align: top;\n",
              "    }\n",
              "\n",
              "    .dataframe thead th {\n",
              "        text-align: right;\n",
              "    }\n",
              "</style>\n",
              "<table border=\"1\" class=\"dataframe\">\n",
              "  <thead>\n",
              "    <tr style=\"text-align: right;\">\n",
              "      <th></th>\n",
              "      <th>N_BEDROOM</th>\n",
              "      <th>N_BATHROOM</th>\n",
              "      <th>N_ROOM</th>\n",
              "    </tr>\n",
              "  </thead>\n",
              "  <tbody>\n",
              "    <tr>\n",
              "      <th>count</th>\n",
              "      <td>7108.000000</td>\n",
              "      <td>7104.000000</td>\n",
              "      <td>7109.000000</td>\n",
              "    </tr>\n",
              "    <tr>\n",
              "      <th>mean</th>\n",
              "      <td>1.637029</td>\n",
              "      <td>1.213260</td>\n",
              "      <td>3.688704</td>\n",
              "    </tr>\n",
              "    <tr>\n",
              "      <th>std</th>\n",
              "      <td>0.802902</td>\n",
              "      <td>0.409639</td>\n",
              "      <td>1.019099</td>\n",
              "    </tr>\n",
              "    <tr>\n",
              "      <th>min</th>\n",
              "      <td>1.000000</td>\n",
              "      <td>1.000000</td>\n",
              "      <td>2.000000</td>\n",
              "    </tr>\n",
              "    <tr>\n",
              "      <th>25%</th>\n",
              "      <td>1.000000</td>\n",
              "      <td>1.000000</td>\n",
              "      <td>3.000000</td>\n",
              "    </tr>\n",
              "    <tr>\n",
              "      <th>50%</th>\n",
              "      <td>1.000000</td>\n",
              "      <td>1.000000</td>\n",
              "      <td>4.000000</td>\n",
              "    </tr>\n",
              "    <tr>\n",
              "      <th>75%</th>\n",
              "      <td>2.000000</td>\n",
              "      <td>1.000000</td>\n",
              "      <td>4.000000</td>\n",
              "    </tr>\n",
              "    <tr>\n",
              "      <th>max</th>\n",
              "      <td>4.000000</td>\n",
              "      <td>2.000000</td>\n",
              "      <td>6.000000</td>\n",
              "    </tr>\n",
              "  </tbody>\n",
              "</table>\n",
              "</div>\n",
              "      <button class=\"colab-df-convert\" onclick=\"convertToInteractive('df-04930028-71c3-4536-8d00-1c178676915a')\"\n",
              "              title=\"Convert this dataframe to an interactive table.\"\n",
              "              style=\"display:none;\">\n",
              "        \n",
              "  <svg xmlns=\"http://www.w3.org/2000/svg\" height=\"24px\"viewBox=\"0 0 24 24\"\n",
              "       width=\"24px\">\n",
              "    <path d=\"M0 0h24v24H0V0z\" fill=\"none\"/>\n",
              "    <path d=\"M18.56 5.44l.94 2.06.94-2.06 2.06-.94-2.06-.94-.94-2.06-.94 2.06-2.06.94zm-11 1L8.5 8.5l.94-2.06 2.06-.94-2.06-.94L8.5 2.5l-.94 2.06-2.06.94zm10 10l.94 2.06.94-2.06 2.06-.94-2.06-.94-.94-2.06-.94 2.06-2.06.94z\"/><path d=\"M17.41 7.96l-1.37-1.37c-.4-.4-.92-.59-1.43-.59-.52 0-1.04.2-1.43.59L10.3 9.45l-7.72 7.72c-.78.78-.78 2.05 0 2.83L4 21.41c.39.39.9.59 1.41.59.51 0 1.02-.2 1.41-.59l7.78-7.78 2.81-2.81c.8-.78.8-2.07 0-2.86zM5.41 20L4 18.59l7.72-7.72 1.47 1.35L5.41 20z\"/>\n",
              "  </svg>\n",
              "      </button>\n",
              "      \n",
              "  <style>\n",
              "    .colab-df-container {\n",
              "      display:flex;\n",
              "      flex-wrap:wrap;\n",
              "      gap: 12px;\n",
              "    }\n",
              "\n",
              "    .colab-df-convert {\n",
              "      background-color: #E8F0FE;\n",
              "      border: none;\n",
              "      border-radius: 50%;\n",
              "      cursor: pointer;\n",
              "      display: none;\n",
              "      fill: #1967D2;\n",
              "      height: 32px;\n",
              "      padding: 0 0 0 0;\n",
              "      width: 32px;\n",
              "    }\n",
              "\n",
              "    .colab-df-convert:hover {\n",
              "      background-color: #E2EBFA;\n",
              "      box-shadow: 0px 1px 2px rgba(60, 64, 67, 0.3), 0px 1px 3px 1px rgba(60, 64, 67, 0.15);\n",
              "      fill: #174EA6;\n",
              "    }\n",
              "\n",
              "    [theme=dark] .colab-df-convert {\n",
              "      background-color: #3B4455;\n",
              "      fill: #D2E3FC;\n",
              "    }\n",
              "\n",
              "    [theme=dark] .colab-df-convert:hover {\n",
              "      background-color: #434B5C;\n",
              "      box-shadow: 0px 1px 3px 1px rgba(0, 0, 0, 0.15);\n",
              "      filter: drop-shadow(0px 1px 2px rgba(0, 0, 0, 0.3));\n",
              "      fill: #FFFFFF;\n",
              "    }\n",
              "  </style>\n",
              "\n",
              "      <script>\n",
              "        const buttonEl =\n",
              "          document.querySelector('#df-04930028-71c3-4536-8d00-1c178676915a button.colab-df-convert');\n",
              "        buttonEl.style.display =\n",
              "          google.colab.kernel.accessAllowed ? 'block' : 'none';\n",
              "\n",
              "        async function convertToInteractive(key) {\n",
              "          const element = document.querySelector('#df-04930028-71c3-4536-8d00-1c178676915a');\n",
              "          const dataTable =\n",
              "            await google.colab.kernel.invokeFunction('convertToInteractive',\n",
              "                                                     [key], {});\n",
              "          if (!dataTable) return;\n",
              "\n",
              "          const docLinkHtml = 'Like what you see? Visit the ' +\n",
              "            '<a target=\"_blank\" href=https://colab.research.google.com/notebooks/data_table.ipynb>data table notebook</a>'\n",
              "            + ' to learn more about interactive tables.';\n",
              "          element.innerHTML = '';\n",
              "          dataTable['output_type'] = 'display_data';\n",
              "          await google.colab.output.renderOutput(dataTable, element);\n",
              "          const docLink = document.createElement('div');\n",
              "          docLink.innerHTML = docLinkHtml;\n",
              "          element.appendChild(docLink);\n",
              "        }\n",
              "      </script>\n",
              "    </div>\n",
              "  </div>\n",
              "  "
            ]
          },
          "metadata": {},
          "execution_count": 46
        }
      ]
    },
    {
      "cell_type": "code",
      "source": [
        "df[['N_BEDROOM', 'N_BATHROOM', 'N_ROOM']].info()"
      ],
      "metadata": {
        "colab": {
          "base_uri": "https://localhost:8080/"
        },
        "id": "u0dhDQjHNgAl",
        "outputId": "5fdf511c-d8e6-4201-f331-9a69b64731d9"
      },
      "execution_count": null,
      "outputs": [
        {
          "output_type": "stream",
          "name": "stdout",
          "text": [
            "<class 'pandas.core.frame.DataFrame'>\n",
            "RangeIndex: 7109 entries, 0 to 7108\n",
            "Data columns (total 3 columns):\n",
            " #   Column      Non-Null Count  Dtype  \n",
            "---  ------      --------------  -----  \n",
            " 0   N_BEDROOM   7108 non-null   float64\n",
            " 1   N_BATHROOM  7104 non-null   float64\n",
            " 2   N_ROOM      7109 non-null   int64  \n",
            "dtypes: float64(2), int64(1)\n",
            "memory usage: 166.7 KB\n"
          ]
        }
      ]
    },
    {
      "cell_type": "code",
      "source": [
        "# calculationg mode\n",
        "\n",
        "mod_bed = df['N_BEDROOM'].mode()\n",
        "mod_bath = df['N_BATHROOM'].mode()\n",
        "print('Mode of N_BEDROOM: ', df['N_BEDROOM'].mode())\n",
        "print('Mode of N_BATHROOM: ', df['N_BATHROOM'].mode())"
      ],
      "metadata": {
        "colab": {
          "base_uri": "https://localhost:8080/"
        },
        "id": "zDYLkRShNqHr",
        "outputId": "dcd21d38-4bd1-4fe1-c5b3-b3e39667a9c9"
      },
      "execution_count": null,
      "outputs": [
        {
          "output_type": "stream",
          "name": "stdout",
          "text": [
            "Mode of N_BEDROOM:  0    1.0\n",
            "dtype: float64\n",
            "Mode of N_BATHROOM:  0    1.0\n",
            "dtype: float64\n"
          ]
        }
      ]
    },
    {
      "cell_type": "code",
      "source": [
        "# instead of dropping null values, imputting them with mode which lies well in the context\n",
        "\n",
        "df['N_BEDROOM'].fillna(1, inplace = True)\n",
        "df['N_BATHROOM'].fillna(1, inplace = True)"
      ],
      "metadata": {
        "id": "gTY_0OGIF7il"
      },
      "execution_count": null,
      "outputs": []
    },
    {
      "cell_type": "code",
      "source": [
        "df['N_BEDROOM'] = df['N_BATHROOM'].astype(int) # converting to int, since number of Bedrooms wiil not be in decimals (float)\n",
        "df['N_BEDROOM'] = df['N_BATHROOM'].astype(int) # same here"
      ],
      "metadata": {
        "id": "u2eLP19ZGSkd"
      },
      "execution_count": null,
      "outputs": []
    },
    {
      "cell_type": "code",
      "source": [
        "df[['N_BEDROOM', 'N_BATHROOM', 'N_ROOM']].describe()"
      ],
      "metadata": {
        "colab": {
          "base_uri": "https://localhost:8080/",
          "height": 300
        },
        "id": "8gDU3r0hGqUM",
        "outputId": "f7c00efb-69fa-41f3-dfb5-41d2211c9e2e"
      },
      "execution_count": null,
      "outputs": [
        {
          "output_type": "execute_result",
          "data": {
            "text/plain": [
              "         N_BEDROOM   N_BATHROOM       N_ROOM\n",
              "count  7109.000000  7109.000000  7109.000000\n",
              "mean      1.213110     1.213110     3.688704\n",
              "std       0.409534     0.409534     1.019099\n",
              "min       1.000000     1.000000     2.000000\n",
              "25%       1.000000     1.000000     3.000000\n",
              "50%       1.000000     1.000000     4.000000\n",
              "75%       1.000000     1.000000     4.000000\n",
              "max       2.000000     2.000000     6.000000"
            ],
            "text/html": [
              "\n",
              "  <div id=\"df-8b53f3b3-0baf-48dc-ad1e-abe71c4c9b15\">\n",
              "    <div class=\"colab-df-container\">\n",
              "      <div>\n",
              "<style scoped>\n",
              "    .dataframe tbody tr th:only-of-type {\n",
              "        vertical-align: middle;\n",
              "    }\n",
              "\n",
              "    .dataframe tbody tr th {\n",
              "        vertical-align: top;\n",
              "    }\n",
              "\n",
              "    .dataframe thead th {\n",
              "        text-align: right;\n",
              "    }\n",
              "</style>\n",
              "<table border=\"1\" class=\"dataframe\">\n",
              "  <thead>\n",
              "    <tr style=\"text-align: right;\">\n",
              "      <th></th>\n",
              "      <th>N_BEDROOM</th>\n",
              "      <th>N_BATHROOM</th>\n",
              "      <th>N_ROOM</th>\n",
              "    </tr>\n",
              "  </thead>\n",
              "  <tbody>\n",
              "    <tr>\n",
              "      <th>count</th>\n",
              "      <td>7109.000000</td>\n",
              "      <td>7109.000000</td>\n",
              "      <td>7109.000000</td>\n",
              "    </tr>\n",
              "    <tr>\n",
              "      <th>mean</th>\n",
              "      <td>1.213110</td>\n",
              "      <td>1.213110</td>\n",
              "      <td>3.688704</td>\n",
              "    </tr>\n",
              "    <tr>\n",
              "      <th>std</th>\n",
              "      <td>0.409534</td>\n",
              "      <td>0.409534</td>\n",
              "      <td>1.019099</td>\n",
              "    </tr>\n",
              "    <tr>\n",
              "      <th>min</th>\n",
              "      <td>1.000000</td>\n",
              "      <td>1.000000</td>\n",
              "      <td>2.000000</td>\n",
              "    </tr>\n",
              "    <tr>\n",
              "      <th>25%</th>\n",
              "      <td>1.000000</td>\n",
              "      <td>1.000000</td>\n",
              "      <td>3.000000</td>\n",
              "    </tr>\n",
              "    <tr>\n",
              "      <th>50%</th>\n",
              "      <td>1.000000</td>\n",
              "      <td>1.000000</td>\n",
              "      <td>4.000000</td>\n",
              "    </tr>\n",
              "    <tr>\n",
              "      <th>75%</th>\n",
              "      <td>1.000000</td>\n",
              "      <td>1.000000</td>\n",
              "      <td>4.000000</td>\n",
              "    </tr>\n",
              "    <tr>\n",
              "      <th>max</th>\n",
              "      <td>2.000000</td>\n",
              "      <td>2.000000</td>\n",
              "      <td>6.000000</td>\n",
              "    </tr>\n",
              "  </tbody>\n",
              "</table>\n",
              "</div>\n",
              "      <button class=\"colab-df-convert\" onclick=\"convertToInteractive('df-8b53f3b3-0baf-48dc-ad1e-abe71c4c9b15')\"\n",
              "              title=\"Convert this dataframe to an interactive table.\"\n",
              "              style=\"display:none;\">\n",
              "        \n",
              "  <svg xmlns=\"http://www.w3.org/2000/svg\" height=\"24px\"viewBox=\"0 0 24 24\"\n",
              "       width=\"24px\">\n",
              "    <path d=\"M0 0h24v24H0V0z\" fill=\"none\"/>\n",
              "    <path d=\"M18.56 5.44l.94 2.06.94-2.06 2.06-.94-2.06-.94-.94-2.06-.94 2.06-2.06.94zm-11 1L8.5 8.5l.94-2.06 2.06-.94-2.06-.94L8.5 2.5l-.94 2.06-2.06.94zm10 10l.94 2.06.94-2.06 2.06-.94-2.06-.94-.94-2.06-.94 2.06-2.06.94z\"/><path d=\"M17.41 7.96l-1.37-1.37c-.4-.4-.92-.59-1.43-.59-.52 0-1.04.2-1.43.59L10.3 9.45l-7.72 7.72c-.78.78-.78 2.05 0 2.83L4 21.41c.39.39.9.59 1.41.59.51 0 1.02-.2 1.41-.59l7.78-7.78 2.81-2.81c.8-.78.8-2.07 0-2.86zM5.41 20L4 18.59l7.72-7.72 1.47 1.35L5.41 20z\"/>\n",
              "  </svg>\n",
              "      </button>\n",
              "      \n",
              "  <style>\n",
              "    .colab-df-container {\n",
              "      display:flex;\n",
              "      flex-wrap:wrap;\n",
              "      gap: 12px;\n",
              "    }\n",
              "\n",
              "    .colab-df-convert {\n",
              "      background-color: #E8F0FE;\n",
              "      border: none;\n",
              "      border-radius: 50%;\n",
              "      cursor: pointer;\n",
              "      display: none;\n",
              "      fill: #1967D2;\n",
              "      height: 32px;\n",
              "      padding: 0 0 0 0;\n",
              "      width: 32px;\n",
              "    }\n",
              "\n",
              "    .colab-df-convert:hover {\n",
              "      background-color: #E2EBFA;\n",
              "      box-shadow: 0px 1px 2px rgba(60, 64, 67, 0.3), 0px 1px 3px 1px rgba(60, 64, 67, 0.15);\n",
              "      fill: #174EA6;\n",
              "    }\n",
              "\n",
              "    [theme=dark] .colab-df-convert {\n",
              "      background-color: #3B4455;\n",
              "      fill: #D2E3FC;\n",
              "    }\n",
              "\n",
              "    [theme=dark] .colab-df-convert:hover {\n",
              "      background-color: #434B5C;\n",
              "      box-shadow: 0px 1px 3px 1px rgba(0, 0, 0, 0.15);\n",
              "      filter: drop-shadow(0px 1px 2px rgba(0, 0, 0, 0.3));\n",
              "      fill: #FFFFFF;\n",
              "    }\n",
              "  </style>\n",
              "\n",
              "      <script>\n",
              "        const buttonEl =\n",
              "          document.querySelector('#df-8b53f3b3-0baf-48dc-ad1e-abe71c4c9b15 button.colab-df-convert');\n",
              "        buttonEl.style.display =\n",
              "          google.colab.kernel.accessAllowed ? 'block' : 'none';\n",
              "\n",
              "        async function convertToInteractive(key) {\n",
              "          const element = document.querySelector('#df-8b53f3b3-0baf-48dc-ad1e-abe71c4c9b15');\n",
              "          const dataTable =\n",
              "            await google.colab.kernel.invokeFunction('convertToInteractive',\n",
              "                                                     [key], {});\n",
              "          if (!dataTable) return;\n",
              "\n",
              "          const docLinkHtml = 'Like what you see? Visit the ' +\n",
              "            '<a target=\"_blank\" href=https://colab.research.google.com/notebooks/data_table.ipynb>data table notebook</a>'\n",
              "            + ' to learn more about interactive tables.';\n",
              "          element.innerHTML = '';\n",
              "          dataTable['output_type'] = 'display_data';\n",
              "          await google.colab.output.renderOutput(dataTable, element);\n",
              "          const docLink = document.createElement('div');\n",
              "          docLink.innerHTML = docLinkHtml;\n",
              "          element.appendChild(docLink);\n",
              "        }\n",
              "      </script>\n",
              "    </div>\n",
              "  </div>\n",
              "  "
            ]
          },
          "metadata": {},
          "execution_count": 51
        }
      ]
    },
    {
      "cell_type": "code",
      "source": [
        "df.groupby('AREA')[['N_BEDROOM', 'N_BATHROOM', 'N_ROOM']].mean()"
      ],
      "metadata": {
        "colab": {
          "base_uri": "https://localhost:8080/",
          "height": 300
        },
        "id": "NrsaaowqKyOR",
        "outputId": "fa326e89-e84e-41cf-ebed-17a3cfd25b28"
      },
      "execution_count": null,
      "outputs": [
        {
          "output_type": "execute_result",
          "data": {
            "text/plain": [
              "            N_BEDROOM  N_BATHROOM    N_ROOM\n",
              "AREA                                       \n",
              "Adyar        1.170543    1.170543  2.895349\n",
              "Anna Nagar   1.000000    1.000000  4.398477\n",
              "Chrompet     1.000000    1.000000  3.002938\n",
              "KK Nagar     1.595787    1.595787  4.811434\n",
              "Karapakkam   1.308931    1.308931  2.992679\n",
              "T Nagar      1.000000    1.000000  4.449102\n",
              "Velachery    1.374108    1.374108  4.374108"
            ],
            "text/html": [
              "\n",
              "  <div id=\"df-c9896374-a75f-4a5a-812c-71ccd2437048\">\n",
              "    <div class=\"colab-df-container\">\n",
              "      <div>\n",
              "<style scoped>\n",
              "    .dataframe tbody tr th:only-of-type {\n",
              "        vertical-align: middle;\n",
              "    }\n",
              "\n",
              "    .dataframe tbody tr th {\n",
              "        vertical-align: top;\n",
              "    }\n",
              "\n",
              "    .dataframe thead th {\n",
              "        text-align: right;\n",
              "    }\n",
              "</style>\n",
              "<table border=\"1\" class=\"dataframe\">\n",
              "  <thead>\n",
              "    <tr style=\"text-align: right;\">\n",
              "      <th></th>\n",
              "      <th>N_BEDROOM</th>\n",
              "      <th>N_BATHROOM</th>\n",
              "      <th>N_ROOM</th>\n",
              "    </tr>\n",
              "    <tr>\n",
              "      <th>AREA</th>\n",
              "      <th></th>\n",
              "      <th></th>\n",
              "      <th></th>\n",
              "    </tr>\n",
              "  </thead>\n",
              "  <tbody>\n",
              "    <tr>\n",
              "      <th>Adyar</th>\n",
              "      <td>1.170543</td>\n",
              "      <td>1.170543</td>\n",
              "      <td>2.895349</td>\n",
              "    </tr>\n",
              "    <tr>\n",
              "      <th>Anna Nagar</th>\n",
              "      <td>1.000000</td>\n",
              "      <td>1.000000</td>\n",
              "      <td>4.398477</td>\n",
              "    </tr>\n",
              "    <tr>\n",
              "      <th>Chrompet</th>\n",
              "      <td>1.000000</td>\n",
              "      <td>1.000000</td>\n",
              "      <td>3.002938</td>\n",
              "    </tr>\n",
              "    <tr>\n",
              "      <th>KK Nagar</th>\n",
              "      <td>1.595787</td>\n",
              "      <td>1.595787</td>\n",
              "      <td>4.811434</td>\n",
              "    </tr>\n",
              "    <tr>\n",
              "      <th>Karapakkam</th>\n",
              "      <td>1.308931</td>\n",
              "      <td>1.308931</td>\n",
              "      <td>2.992679</td>\n",
              "    </tr>\n",
              "    <tr>\n",
              "      <th>T Nagar</th>\n",
              "      <td>1.000000</td>\n",
              "      <td>1.000000</td>\n",
              "      <td>4.449102</td>\n",
              "    </tr>\n",
              "    <tr>\n",
              "      <th>Velachery</th>\n",
              "      <td>1.374108</td>\n",
              "      <td>1.374108</td>\n",
              "      <td>4.374108</td>\n",
              "    </tr>\n",
              "  </tbody>\n",
              "</table>\n",
              "</div>\n",
              "      <button class=\"colab-df-convert\" onclick=\"convertToInteractive('df-c9896374-a75f-4a5a-812c-71ccd2437048')\"\n",
              "              title=\"Convert this dataframe to an interactive table.\"\n",
              "              style=\"display:none;\">\n",
              "        \n",
              "  <svg xmlns=\"http://www.w3.org/2000/svg\" height=\"24px\"viewBox=\"0 0 24 24\"\n",
              "       width=\"24px\">\n",
              "    <path d=\"M0 0h24v24H0V0z\" fill=\"none\"/>\n",
              "    <path d=\"M18.56 5.44l.94 2.06.94-2.06 2.06-.94-2.06-.94-.94-2.06-.94 2.06-2.06.94zm-11 1L8.5 8.5l.94-2.06 2.06-.94-2.06-.94L8.5 2.5l-.94 2.06-2.06.94zm10 10l.94 2.06.94-2.06 2.06-.94-2.06-.94-.94-2.06-.94 2.06-2.06.94z\"/><path d=\"M17.41 7.96l-1.37-1.37c-.4-.4-.92-.59-1.43-.59-.52 0-1.04.2-1.43.59L10.3 9.45l-7.72 7.72c-.78.78-.78 2.05 0 2.83L4 21.41c.39.39.9.59 1.41.59.51 0 1.02-.2 1.41-.59l7.78-7.78 2.81-2.81c.8-.78.8-2.07 0-2.86zM5.41 20L4 18.59l7.72-7.72 1.47 1.35L5.41 20z\"/>\n",
              "  </svg>\n",
              "      </button>\n",
              "      \n",
              "  <style>\n",
              "    .colab-df-container {\n",
              "      display:flex;\n",
              "      flex-wrap:wrap;\n",
              "      gap: 12px;\n",
              "    }\n",
              "\n",
              "    .colab-df-convert {\n",
              "      background-color: #E8F0FE;\n",
              "      border: none;\n",
              "      border-radius: 50%;\n",
              "      cursor: pointer;\n",
              "      display: none;\n",
              "      fill: #1967D2;\n",
              "      height: 32px;\n",
              "      padding: 0 0 0 0;\n",
              "      width: 32px;\n",
              "    }\n",
              "\n",
              "    .colab-df-convert:hover {\n",
              "      background-color: #E2EBFA;\n",
              "      box-shadow: 0px 1px 2px rgba(60, 64, 67, 0.3), 0px 1px 3px 1px rgba(60, 64, 67, 0.15);\n",
              "      fill: #174EA6;\n",
              "    }\n",
              "\n",
              "    [theme=dark] .colab-df-convert {\n",
              "      background-color: #3B4455;\n",
              "      fill: #D2E3FC;\n",
              "    }\n",
              "\n",
              "    [theme=dark] .colab-df-convert:hover {\n",
              "      background-color: #434B5C;\n",
              "      box-shadow: 0px 1px 3px 1px rgba(0, 0, 0, 0.15);\n",
              "      filter: drop-shadow(0px 1px 2px rgba(0, 0, 0, 0.3));\n",
              "      fill: #FFFFFF;\n",
              "    }\n",
              "  </style>\n",
              "\n",
              "      <script>\n",
              "        const buttonEl =\n",
              "          document.querySelector('#df-c9896374-a75f-4a5a-812c-71ccd2437048 button.colab-df-convert');\n",
              "        buttonEl.style.display =\n",
              "          google.colab.kernel.accessAllowed ? 'block' : 'none';\n",
              "\n",
              "        async function convertToInteractive(key) {\n",
              "          const element = document.querySelector('#df-c9896374-a75f-4a5a-812c-71ccd2437048');\n",
              "          const dataTable =\n",
              "            await google.colab.kernel.invokeFunction('convertToInteractive',\n",
              "                                                     [key], {});\n",
              "          if (!dataTable) return;\n",
              "\n",
              "          const docLinkHtml = 'Like what you see? Visit the ' +\n",
              "            '<a target=\"_blank\" href=https://colab.research.google.com/notebooks/data_table.ipynb>data table notebook</a>'\n",
              "            + ' to learn more about interactive tables.';\n",
              "          element.innerHTML = '';\n",
              "          dataTable['output_type'] = 'display_data';\n",
              "          await google.colab.output.renderOutput(dataTable, element);\n",
              "          const docLink = document.createElement('div');\n",
              "          docLink.innerHTML = docLinkHtml;\n",
              "          element.appendChild(docLink);\n",
              "        }\n",
              "      </script>\n",
              "    </div>\n",
              "  </div>\n",
              "  "
            ]
          },
          "metadata": {},
          "execution_count": 52
        }
      ]
    },
    {
      "cell_type": "code",
      "source": [
        "df.groupby('AREA')[['N_BEDROOM', 'N_BATHROOM', 'N_ROOM']].mean().plot(kind = 'bar')"
      ],
      "metadata": {
        "colab": {
          "base_uri": "https://localhost:8080/",
          "height": 351
        },
        "id": "QiX0Cky6LI7r",
        "outputId": "3162cd44-6fe6-44e2-f6d8-07680fabf1cc"
      },
      "execution_count": null,
      "outputs": [
        {
          "output_type": "execute_result",
          "data": {
            "text/plain": [
              "<matplotlib.axes._subplots.AxesSubplot at 0x7fa3aba9c940>"
            ]
          },
          "metadata": {},
          "execution_count": 53
        },
        {
          "output_type": "display_data",
          "data": {
            "text/plain": [
              "<Figure size 432x288 with 1 Axes>"
            ],
            "image/png": "[encoded data removed]"
          },
          "metadata": {
            "needs_background": "light"
          }
        }
      ]
    },
    {
      "cell_type": "markdown",
      "source": [
        "**AREA vs Rooms**"
      ],
      "metadata": {
        "id": "LNOkfZc2LzrD"
      }
    },
    {
      "cell_type": "code",
      "source": [
        "df.groupby('AREA')['N_ROOM'].mean().sort_values(ascending = False)"
      ],
      "metadata": {
        "colab": {
          "base_uri": "https://localhost:8080/"
        },
        "id": "DbyUSdUILaS-",
        "outputId": "ee960ee0-d809-4e8a-e24a-7fbfebce99e0"
      },
      "execution_count": null,
      "outputs": [
        {
          "output_type": "execute_result",
          "data": {
            "text/plain": [
              "AREA\n",
              "KK Nagar      4.811434\n",
              "T Nagar       4.449102\n",
              "Anna Nagar    4.398477\n",
              "Velachery     4.374108\n",
              "Chrompet      3.002938\n",
              "Karapakkam    2.992679\n",
              "Adyar         2.895349\n",
              "Name: N_ROOM, dtype: float64"
            ]
          },
          "metadata": {},
          "execution_count": 54
        }
      ]
    },
    {
      "cell_type": "code",
      "source": [
        "plt.figure(figsize = (9, 5))\n",
        "sns.boxplot(x='AREA', y='N_ROOM', df=df)\n",
        "plt.title('Area vs Number of Rooms')"
      ],
      "metadata": {
        "id": "oELqVlyrL7jT"
      },
      "execution_count": null,
      "outputs": []
    },
    {
      "cell_type": "code",
      "source": [
        "plt.figure(figsize = (10, 4))\n",
        "\n",
        "plt.subplot(1, 2, 1)\n",
        "df.groupby('AREA')['INT_SQFT'].mean().sort_values().plot(kind = 'bar')\n",
        "plt.ylabel('Average sqft')\n",
        "plt.title('Area vs Avearge sqft')\n",
        "\n",
        "plt.subplot(1, 2, 2)\n",
        "df.groupby('AREA')['N_ROOM'].mean().sort_values().plot(kind = 'bar')\n",
        "plt.ylabel('Number of Rooms')\n",
        "plt.title('Area vs N_ROOMS')"
      ],
      "metadata": {
        "id": "UXFKKVJuQbtA"
      },
      "execution_count": null,
      "outputs": []
    },
    {
      "cell_type": "markdown",
      "source": [
        "**8 SALE_COND**"
      ],
      "metadata": {
        "id": "vcnkUkUlc40o"
      }
    },
    {
      "cell_type": "code",
      "source": [
        "df['SALE_COND'].value_counts()"
      ],
      "metadata": {
        "id": "YQKL2ljRU2aj"
      },
      "execution_count": null,
      "outputs": []
    },
    {
      "cell_type": "code",
      "source": [
        "df.SALE_COND.values"
      ],
      "metadata": {
        "id": "FH9lx02gc5ah"
      },
      "execution_count": null,
      "outputs": []
    },
    {
      "cell_type": "code",
      "source": [
        "df.SALE_COND.unique()"
      ],
      "metadata": {
        "id": "BELxA3E0dAwE"
      },
      "execution_count": null,
      "outputs": []
    },
    {
      "cell_type": "code",
      "source": [
        "df[\"SALE_COND\"] = df[\"SALE_COND\"].replace({\"Adjland\":\"Adj Land\", \"AdjLand\":\"Adj Land\", \"Partiall\":\"Partial\", \"Partiall\":\"Partial\", \"PartiaLl\":\"Partial\", \"Ab Normal\":\"AbNormal\"})"
      ],
      "metadata": {
        "id": "AsbQWbQGdvD1"
      },
      "execution_count": null,
      "outputs": []
    },
    {
      "cell_type": "code",
      "source": [
        "df.SALE_COND.unique()"
      ],
      "metadata": {
        "id": "w-pXUreyecw5"
      },
      "execution_count": null,
      "outputs": []
    },
    {
      "cell_type": "code",
      "source": [
        "df.SALE_COND.value_counts()"
      ],
      "metadata": {
        "id": "6-woDwUGegWY"
      },
      "execution_count": null,
      "outputs": []
    },
    {
      "cell_type": "code",
      "source": [
        "df['SALE_COND'].value_counts().sort_values().plot(kind = 'bar')\n",
        "plt.ylabel('Number of sales')\n",
        "plt.xlabel('sale condition')\n",
        "plt.title('Sale condition vs Number of sales')"
      ],
      "metadata": {
        "id": "McEUEq3KWkzh"
      },
      "execution_count": null,
      "outputs": []
    },
    {
      "cell_type": "code",
      "source": [
        "plt.figure(figsize = (12, 8))\n",
        "sns.countplot(df = df, x='AREA', hue='SALE_COND')"
      ],
      "metadata": {
        "id": "_4X7it7chX8b"
      },
      "execution_count": null,
      "outputs": []
    },
    {
      "cell_type": "markdown",
      "source": [
        "**9 PARK_FACIL**"
      ],
      "metadata": {
        "id": "M3RXVETHg-Kh"
      }
    },
    {
      "cell_type": "code",
      "source": [
        "df.PARK_FACIL.values"
      ],
      "metadata": {
        "id": "GCHHPljLhB_P"
      },
      "execution_count": null,
      "outputs": []
    },
    {
      "cell_type": "code",
      "source": [
        "#df.PARK_FACIL = df.PARK_FACIL.replace({\"Yes\":1, \"No\":0, \"Noo\":0})\n",
        "df['PARK_FACIL'] = df['PARK_FACIL'].replace('Noo', 'No')"
      ],
      "metadata": {
        "id": "bm8_kJ_AhKgP"
      },
      "execution_count": null,
      "outputs": []
    },
    {
      "cell_type": "code",
      "source": [
        "df.PARK_FACIL.value_counts()"
      ],
      "metadata": {
        "id": "vBku32kOhcuX"
      },
      "execution_count": null,
      "outputs": []
    },
    {
      "cell_type": "code",
      "source": [
        "df['PARK_FACIL'].describe()"
      ],
      "metadata": {
        "id": "kR_qWuHDiOX5"
      },
      "execution_count": null,
      "outputs": []
    },
    {
      "cell_type": "code",
      "source": [
        "# Null values\n",
        "df['PARK_FACIL'].isna().sum()"
      ],
      "metadata": {
        "id": "XMLXJsWOiTP-"
      },
      "execution_count": null,
      "outputs": []
    },
    {
      "cell_type": "code",
      "source": [
        "df.groupby('AREA')['PARK_FACIL'].value_counts()"
      ],
      "metadata": {
        "id": "uj4R9s0hjU6a"
      },
      "execution_count": null,
      "outputs": []
    },
    {
      "cell_type": "code",
      "source": [
        "plt.figure(figsize = (8, 5))\n",
        "sns.countplot(df = df, x='AREA', hue = 'PARK_FACIL')\n",
        "plt.title('Area vs Parking space availability')"
      ],
      "metadata": {
        "id": "iXBjQg2kjdSW"
      },
      "execution_count": null,
      "outputs": []
    },
    {
      "cell_type": "markdown",
      "source": [
        "**10. DATE_BUILD**"
      ],
      "metadata": {
        "id": "HIMFLds9hl3y"
      }
    },
    {
      "cell_type": "code",
      "source": [
        "df.DATE_BUILD.values"
      ],
      "metadata": {
        "id": "PMTdStschpI1"
      },
      "execution_count": null,
      "outputs": []
    },
    {
      "cell_type": "code",
      "source": [
        "df.DATE_BUILD.dtype"
      ],
      "metadata": {
        "id": "_Lz3uNpthxO0"
      },
      "execution_count": null,
      "outputs": []
    },
    {
      "cell_type": "code",
      "source": [
        "df.DATE_BUILD.head()"
      ],
      "metadata": {
        "id": "9S1DeQW8h0IT"
      },
      "execution_count": null,
      "outputs": []
    },
    {
      "cell_type": "code",
      "source": [
        "df.DATE_BUILD = pd.to_datetime(df.DATE_BUILD)\n",
        "df.DATE_BUILD.head()"
      ],
      "metadata": {
        "id": "bRdorxZmh-q9"
      },
      "execution_count": null,
      "outputs": []
    },
    {
      "cell_type": "code",
      "source": [
        "df.DATE_BUILD.dtype"
      ],
      "metadata": {
        "id": "LUYvnyp1iLbc"
      },
      "execution_count": null,
      "outputs": []
    },
    {
      "cell_type": "code",
      "source": [
        "df.shape"
      ],
      "metadata": {
        "id": "uIQHbOXxiYcn"
      },
      "execution_count": null,
      "outputs": []
    },
    {
      "cell_type": "markdown",
      "source": [
        "**11. AGE - Derived Feature**"
      ],
      "metadata": {
        "id": "D-TpHwkEi8hK"
      }
    },
    {
      "cell_type": "code",
      "source": [
        "df['AGE_OF_BUILD'] = df['DATE_SALE'].dt.year - df['DATE_BUILD'].dt.year\n",
        "df['AGE_OF_BUILD']"
      ],
      "metadata": {
        "id": "1WiCXvCSlIZb"
      },
      "execution_count": null,
      "outputs": []
    },
    {
      "cell_type": "code",
      "source": [
        "plt.figure(figsize = (8, 7))\n",
        "df.groupby('AREA')['AGE_OF_BUILD'].mean().sort_values().plot(kind = 'bar')\n",
        "df.groupby('AREA')['AGE_OF_BUILD'].mean().sort_values().plot(kind = 'line')\n",
        "plt.ylabel('Mean Age of Buildings')\n",
        "plt.title('Area vs Mean Age of Buildings')"
      ],
      "metadata": {
        "id": "HTkd0-YulZGy"
      },
      "execution_count": null,
      "outputs": []
    },
    {
      "cell_type": "code",
      "source": [
        "df.columns"
      ],
      "metadata": {
        "id": "4Q8hwDRxnk2l"
      },
      "execution_count": null,
      "outputs": []
    },
    {
      "cell_type": "markdown",
      "source": [
        "**12. BUILDTYPE**"
      ],
      "metadata": {
        "id": "tlHUHSdklCV2"
      }
    },
    {
      "cell_type": "code",
      "source": [
        "df.BUILDTYPE.values"
      ],
      "metadata": {
        "id": "NnS6_SVmk5Ev",
        "colab": {
          "base_uri": "https://localhost:8080/"
        },
        "outputId": "a7b4f874-45a1-4894-9c0c-3840536ba82e"
      },
      "execution_count": null,
      "outputs": [
        {
          "output_type": "execute_result",
          "data": {
            "text/plain": [
              "array(['Commercial', 'Commercial', 'Commercial', ..., 'House',\n",
              "       'Commercial', 'Others'], dtype=object)"
            ]
          },
          "metadata": {},
          "execution_count": 56
        }
      ]
    },
    {
      "cell_type": "code",
      "source": [
        "df['BUILDTYPE'].describe()"
      ],
      "metadata": {
        "id": "sRHf3GJmmMxv",
        "colab": {
          "base_uri": "https://localhost:8080/"
        },
        "outputId": "e1419740-8abd-4f07-ff30-ec0b063f0978"
      },
      "execution_count": null,
      "outputs": [
        {
          "output_type": "execute_result",
          "data": {
            "text/plain": [
              "count      7109\n",
              "unique        5\n",
              "top       House\n",
              "freq       2444\n",
              "Name: BUILDTYPE, dtype: object"
            ]
          },
          "metadata": {},
          "execution_count": 57
        }
      ]
    },
    {
      "cell_type": "code",
      "source": [
        "df.BUILDTYPE.unique()"
      ],
      "metadata": {
        "id": "SpbEIjSClKq3",
        "colab": {
          "base_uri": "https://localhost:8080/"
        },
        "outputId": "3d130236-e836-40d2-942d-4873c92db812"
      },
      "execution_count": null,
      "outputs": [
        {
          "output_type": "execute_result",
          "data": {
            "text/plain": [
              "array(['Commercial', 'Others', 'Other', 'House', 'Comercial'],\n",
              "      dtype=object)"
            ]
          },
          "metadata": {},
          "execution_count": 58
        }
      ]
    },
    {
      "cell_type": "code",
      "source": [
        "df.BUILDTYPE.value_counts()"
      ],
      "metadata": {
        "id": "1VK0fcPFlPSU",
        "colab": {
          "base_uri": "https://localhost:8080/"
        },
        "outputId": "1e041748-16d0-4456-86fb-2bd27104e10f"
      },
      "execution_count": null,
      "outputs": [
        {
          "output_type": "execute_result",
          "data": {
            "text/plain": [
              "House         2444\n",
              "Commercial    2325\n",
              "Others        2310\n",
              "Other           26\n",
              "Comercial        4\n",
              "Name: BUILDTYPE, dtype: int64"
            ]
          },
          "metadata": {},
          "execution_count": 59
        }
      ]
    },
    {
      "cell_type": "code",
      "source": [
        "df.BUILDTYPE = df.BUILDTYPE.replace({\"Other\":\"Others\", \"Comercial\":\"Commercial\"})"
      ],
      "metadata": {
        "id": "sMQuvuHWlU9w"
      },
      "execution_count": null,
      "outputs": []
    },
    {
      "cell_type": "code",
      "source": [
        "df.BUILDTYPE.unique()"
      ],
      "metadata": {
        "id": "BYQ94Fu8JVSu",
        "colab": {
          "base_uri": "https://localhost:8080/"
        },
        "outputId": "6c9824bf-7f0f-461b-9cba-f9a80c3398e1"
      },
      "execution_count": null,
      "outputs": [
        {
          "output_type": "execute_result",
          "data": {
            "text/plain": [
              "array(['Commercial', 'Others', 'House'], dtype=object)"
            ]
          },
          "metadata": {},
          "execution_count": 61
        }
      ]
    },
    {
      "cell_type": "code",
      "source": [
        "df.BUILDTYPE.value_counts()"
      ],
      "metadata": {
        "id": "6PW2YAEdlnT5",
        "colab": {
          "base_uri": "https://localhost:8080/"
        },
        "outputId": "a017369c-93f3-4193-e129-41a78f7b28c8"
      },
      "execution_count": null,
      "outputs": [
        {
          "output_type": "execute_result",
          "data": {
            "text/plain": [
              "House         2444\n",
              "Others        2336\n",
              "Commercial    2329\n",
              "Name: BUILDTYPE, dtype: int64"
            ]
          },
          "metadata": {},
          "execution_count": 62
        }
      ]
    },
    {
      "cell_type": "code",
      "source": [
        "pd.crosstab(index=df['AREA'], columns=df['BUILDTYPE'])"
      ],
      "metadata": {
        "id": "ocJ__g4UmxLq",
        "colab": {
          "base_uri": "https://localhost:8080/",
          "height": 300
        },
        "outputId": "61bc0502-614a-4af7-ed81-90d2dd5a6336"
      },
      "execution_count": null,
      "outputs": [
        {
          "output_type": "execute_result",
          "data": {
            "text/plain": [
              "BUILDTYPE   Commercial  House  Others\n",
              "AREA                                 \n",
              "Adyar              247    263     264\n",
              "Anna Nagar         252    276     260\n",
              "Chrompet           562    591     549\n",
              "KK Nagar           322    348     327\n",
              "Karapakkam         433    486     447\n",
              "T Nagar            178    156     167\n",
              "Velachery          335    324     322"
            ],
            "text/html": [
              "\n",
              "  <div id=\"df-c9c85ee1-ed73-47a5-a62f-28c6afeef787\">\n",
              "    <div class=\"colab-df-container\">\n",
              "      <div>\n",
              "<style scoped>\n",
              "    .dataframe tbody tr th:only-of-type {\n",
              "        vertical-align: middle;\n",
              "    }\n",
              "\n",
              "    .dataframe tbody tr th {\n",
              "        vertical-align: top;\n",
              "    }\n",
              "\n",
              "    .dataframe thead th {\n",
              "        text-align: right;\n",
              "    }\n",
              "</style>\n",
              "<table border=\"1\" class=\"dataframe\">\n",
              "  <thead>\n",
              "    <tr style=\"text-align: right;\">\n",
              "      <th>BUILDTYPE</th>\n",
              "      <th>Commercial</th>\n",
              "      <th>House</th>\n",
              "      <th>Others</th>\n",
              "    </tr>\n",
              "    <tr>\n",
              "      <th>AREA</th>\n",
              "      <th></th>\n",
              "      <th></th>\n",
              "      <th></th>\n",
              "    </tr>\n",
              "  </thead>\n",
              "  <tbody>\n",
              "    <tr>\n",
              "      <th>Adyar</th>\n",
              "      <td>247</td>\n",
              "      <td>263</td>\n",
              "      <td>264</td>\n",
              "    </tr>\n",
              "    <tr>\n",
              "      <th>Anna Nagar</th>\n",
              "      <td>252</td>\n",
              "      <td>276</td>\n",
              "      <td>260</td>\n",
              "    </tr>\n",
              "    <tr>\n",
              "      <th>Chrompet</th>\n",
              "      <td>562</td>\n",
              "      <td>591</td>\n",
              "      <td>549</td>\n",
              "    </tr>\n",
              "    <tr>\n",
              "      <th>KK Nagar</th>\n",
              "      <td>322</td>\n",
              "      <td>348</td>\n",
              "      <td>327</td>\n",
              "    </tr>\n",
              "    <tr>\n",
              "      <th>Karapakkam</th>\n",
              "      <td>433</td>\n",
              "      <td>486</td>\n",
              "      <td>447</td>\n",
              "    </tr>\n",
              "    <tr>\n",
              "      <th>T Nagar</th>\n",
              "      <td>178</td>\n",
              "      <td>156</td>\n",
              "      <td>167</td>\n",
              "    </tr>\n",
              "    <tr>\n",
              "      <th>Velachery</th>\n",
              "      <td>335</td>\n",
              "      <td>324</td>\n",
              "      <td>322</td>\n",
              "    </tr>\n",
              "  </tbody>\n",
              "</table>\n",
              "</div>\n",
              "      <button class=\"colab-df-convert\" onclick=\"convertToInteractive('df-c9c85ee1-ed73-47a5-a62f-28c6afeef787')\"\n",
              "              title=\"Convert this dataframe to an interactive table.\"\n",
              "              style=\"display:none;\">\n",
              "        \n",
              "  <svg xmlns=\"http://www.w3.org/2000/svg\" height=\"24px\"viewBox=\"0 0 24 24\"\n",
              "       width=\"24px\">\n",
              "    <path d=\"M0 0h24v24H0V0z\" fill=\"none\"/>\n",
              "    <path d=\"M18.56 5.44l.94 2.06.94-2.06 2.06-.94-2.06-.94-.94-2.06-.94 2.06-2.06.94zm-11 1L8.5 8.5l.94-2.06 2.06-.94-2.06-.94L8.5 2.5l-.94 2.06-2.06.94zm10 10l.94 2.06.94-2.06 2.06-.94-2.06-.94-.94-2.06-.94 2.06-2.06.94z\"/><path d=\"M17.41 7.96l-1.37-1.37c-.4-.4-.92-.59-1.43-.59-.52 0-1.04.2-1.43.59L10.3 9.45l-7.72 7.72c-.78.78-.78 2.05 0 2.83L4 21.41c.39.39.9.59 1.41.59.51 0 1.02-.2 1.41-.59l7.78-7.78 2.81-2.81c.8-.78.8-2.07 0-2.86zM5.41 20L4 18.59l7.72-7.72 1.47 1.35L5.41 20z\"/>\n",
              "  </svg>\n",
              "      </button>\n",
              "      \n",
              "  <style>\n",
              "    .colab-df-container {\n",
              "      display:flex;\n",
              "      flex-wrap:wrap;\n",
              "      gap: 12px;\n",
              "    }\n",
              "\n",
              "    .colab-df-convert {\n",
              "      background-color: #E8F0FE;\n",
              "      border: none;\n",
              "      border-radius: 50%;\n",
              "      cursor: pointer;\n",
              "      display: none;\n",
              "      fill: #1967D2;\n",
              "      height: 32px;\n",
              "      padding: 0 0 0 0;\n",
              "      width: 32px;\n",
              "    }\n",
              "\n",
              "    .colab-df-convert:hover {\n",
              "      background-color: #E2EBFA;\n",
              "      box-shadow: 0px 1px 2px rgba(60, 64, 67, 0.3), 0px 1px 3px 1px rgba(60, 64, 67, 0.15);\n",
              "      fill: #174EA6;\n",
              "    }\n",
              "\n",
              "    [theme=dark] .colab-df-convert {\n",
              "      background-color: #3B4455;\n",
              "      fill: #D2E3FC;\n",
              "    }\n",
              "\n",
              "    [theme=dark] .colab-df-convert:hover {\n",
              "      background-color: #434B5C;\n",
              "      box-shadow: 0px 1px 3px 1px rgba(0, 0, 0, 0.15);\n",
              "      filter: drop-shadow(0px 1px 2px rgba(0, 0, 0, 0.3));\n",
              "      fill: #FFFFFF;\n",
              "    }\n",
              "  </style>\n",
              "\n",
              "      <script>\n",
              "        const buttonEl =\n",
              "          document.querySelector('#df-c9c85ee1-ed73-47a5-a62f-28c6afeef787 button.colab-df-convert');\n",
              "        buttonEl.style.display =\n",
              "          google.colab.kernel.accessAllowed ? 'block' : 'none';\n",
              "\n",
              "        async function convertToInteractive(key) {\n",
              "          const element = document.querySelector('#df-c9c85ee1-ed73-47a5-a62f-28c6afeef787');\n",
              "          const dataTable =\n",
              "            await google.colab.kernel.invokeFunction('convertToInteractive',\n",
              "                                                     [key], {});\n",
              "          if (!dataTable) return;\n",
              "\n",
              "          const docLinkHtml = 'Like what you see? Visit the ' +\n",
              "            '<a target=\"_blank\" href=https://colab.research.google.com/notebooks/data_table.ipynb>data table notebook</a>'\n",
              "            + ' to learn more about interactive tables.';\n",
              "          element.innerHTML = '';\n",
              "          dataTable['output_type'] = 'display_data';\n",
              "          await google.colab.output.renderOutput(dataTable, element);\n",
              "          const docLink = document.createElement('div');\n",
              "          docLink.innerHTML = docLinkHtml;\n",
              "          element.appendChild(docLink);\n",
              "        }\n",
              "      </script>\n",
              "    </div>\n",
              "  </div>\n",
              "  "
            ]
          },
          "metadata": {},
          "execution_count": 64
        }
      ]
    },
    {
      "cell_type": "code",
      "source": [
        "plt.figure(figsize = (10,7.5))\n",
        "sns.countplot(df = df, x = 'AREA', hue = 'BUILDTYPE')\n",
        "plt.title('Area vs Type of Buildings')"
      ],
      "metadata": {
        "id": "i0rxoJhznBqS"
      },
      "execution_count": null,
      "outputs": []
    },
    {
      "cell_type": "markdown",
      "source": [
        "**13. UTILITY_AVAIL**"
      ],
      "metadata": {
        "id": "kqaRfDQbooCo"
      }
    },
    {
      "cell_type": "code",
      "source": [
        "df.UTILITY_AVAIL.values"
      ],
      "metadata": {
        "id": "m2obmrp9onN5",
        "colab": {
          "base_uri": "https://localhost:8080/"
        },
        "outputId": "16446314-4a31-42cf-d2bc-bd8054d37375"
      },
      "execution_count": null,
      "outputs": [
        {
          "output_type": "execute_result",
          "data": {
            "text/plain": [
              "array(['AllPub', 'AllPub', 'ELO', ..., 'NoSeWa', 'ELO', 'ELO'],\n",
              "      dtype=object)"
            ]
          },
          "metadata": {},
          "execution_count": 69
        }
      ]
    },
    {
      "cell_type": "code",
      "source": [
        "df.UTILITY_AVAIL.unique()"
      ],
      "metadata": {
        "id": "j-Is3YSfpHX8",
        "colab": {
          "base_uri": "https://localhost:8080/"
        },
        "outputId": "b6d1bbf1-fecb-4ebc-b54e-9c79e28e8065"
      },
      "execution_count": null,
      "outputs": [
        {
          "output_type": "execute_result",
          "data": {
            "text/plain": [
              "array(['AllPub', 'ELO', 'NoSewr ', 'NoSeWa', 'All Pub'], dtype=object)"
            ]
          },
          "metadata": {},
          "execution_count": 70
        }
      ]
    },
    {
      "cell_type": "code",
      "source": [
        "df.UTILITY_AVAIL.value_counts()"
      ],
      "metadata": {
        "id": "ZGYcw_WupLDl",
        "colab": {
          "base_uri": "https://localhost:8080/"
        },
        "outputId": "9160b853-8b32-4514-abb5-48437aa5e4e2"
      },
      "execution_count": null,
      "outputs": [
        {
          "output_type": "execute_result",
          "data": {
            "text/plain": [
              "AllPub     1886\n",
              "NoSeWa     1871\n",
              "NoSewr     1829\n",
              "ELO        1522\n",
              "All Pub       1\n",
              "Name: UTILITY_AVAIL, dtype: int64"
            ]
          },
          "metadata": {},
          "execution_count": 71
        }
      ]
    },
    {
      "cell_type": "code",
      "source": [
        "df.UTILITY_AVAIL = df.UTILITY_AVAIL.replace({\"All Pub\":\"AllPub\"})"
      ],
      "metadata": {
        "id": "JfWpu3CspQIo"
      },
      "execution_count": null,
      "outputs": []
    },
    {
      "cell_type": "code",
      "source": [
        "df.UTILITY_AVAIL.value_counts()"
      ],
      "metadata": {
        "id": "Y2GhHZ5TpbB8",
        "colab": {
          "base_uri": "https://localhost:8080/"
        },
        "outputId": "f4fe2993-372c-42e0-fe6d-e55da973afaf"
      },
      "execution_count": null,
      "outputs": [
        {
          "output_type": "execute_result",
          "data": {
            "text/plain": [
              "AllPub     1887\n",
              "NoSeWa     1871\n",
              "NoSewr     1829\n",
              "ELO        1522\n",
              "Name: UTILITY_AVAIL, dtype: int64"
            ]
          },
          "metadata": {},
          "execution_count": 73
        }
      ]
    },
    {
      "cell_type": "code",
      "source": [
        "df.groupby(\"UTILITY_AVAIL\")[\"SALES_PRICE\"].mean().sort_values(ascending = True).plot.bar()"
      ],
      "metadata": {
        "id": "HuMRldoppjB5",
        "colab": {
          "base_uri": "https://localhost:8080/",
          "height": 340
        },
        "outputId": "d2c244f4-0b64-4331-a0e3-694f15a594c5"
      },
      "execution_count": null,
      "outputs": [
        {
          "output_type": "execute_result",
          "data": {
            "text/plain": [
              "<matplotlib.axes._subplots.AxesSubplot at 0x7fa3ab84cfd0>"
            ]
          },
          "metadata": {},
          "execution_count": 74
        },
        {
          "output_type": "display_data",
          "data": {
            "text/plain": [
              "<Figure size 432x288 with 1 Axes>"
            ],
            "image/png": "[encoded data removed]"
          },
          "metadata": {
            "needs_background": "light"
          }
        }
      ]
    },
    {
      "cell_type": "code",
      "source": [
        "pd.crosstab(index = df['AREA'], columns = df['UTILITY_AVAIL'])"
      ],
      "metadata": {
        "id": "E0K8srAEDD86",
        "colab": {
          "base_uri": "https://localhost:8080/",
          "height": 300
        },
        "outputId": "bd3a6953-5604-40c6-8585-0d293633b425"
      },
      "execution_count": null,
      "outputs": [
        {
          "output_type": "execute_result",
          "data": {
            "text/plain": [
              "UTILITY_AVAIL  AllPub  ELO  NoSeWa  NoSewr \n",
              "AREA                                       \n",
              "Adyar             189  218     199      168\n",
              "Anna Nagar        212  204     187      185\n",
              "Chrompet          430  404     426      442\n",
              "KK Nagar          329    0     344      324\n",
              "Karapakkam        349  321     345      351\n",
              "T Nagar           125  118     131      127\n",
              "Velachery         253  257     239      232"
            ],
            "text/html": [
              "\n",
              "  <div id=\"df-89db843f-313b-4f91-91e7-b283c3759da3\">\n",
              "    <div class=\"colab-df-container\">\n",
              "      <div>\n",
              "<style scoped>\n",
              "    .dataframe tbody tr th:only-of-type {\n",
              "        vertical-align: middle;\n",
              "    }\n",
              "\n",
              "    .dataframe tbody tr th {\n",
              "        vertical-align: top;\n",
              "    }\n",
              "\n",
              "    .dataframe thead th {\n",
              "        text-align: right;\n",
              "    }\n",
              "</style>\n",
              "<table border=\"1\" class=\"dataframe\">\n",
              "  <thead>\n",
              "    <tr style=\"text-align: right;\">\n",
              "      <th>UTILITY_AVAIL</th>\n",
              "      <th>AllPub</th>\n",
              "      <th>ELO</th>\n",
              "      <th>NoSeWa</th>\n",
              "      <th>NoSewr</th>\n",
              "    </tr>\n",
              "    <tr>\n",
              "      <th>AREA</th>\n",
              "      <th></th>\n",
              "      <th></th>\n",
              "      <th></th>\n",
              "      <th></th>\n",
              "    </tr>\n",
              "  </thead>\n",
              "  <tbody>\n",
              "    <tr>\n",
              "      <th>Adyar</th>\n",
              "      <td>189</td>\n",
              "      <td>218</td>\n",
              "      <td>199</td>\n",
              "      <td>168</td>\n",
              "    </tr>\n",
              "    <tr>\n",
              "      <th>Anna Nagar</th>\n",
              "      <td>212</td>\n",
              "      <td>204</td>\n",
              "      <td>187</td>\n",
              "      <td>185</td>\n",
              "    </tr>\n",
              "    <tr>\n",
              "      <th>Chrompet</th>\n",
              "      <td>430</td>\n",
              "      <td>404</td>\n",
              "      <td>426</td>\n",
              "      <td>442</td>\n",
              "    </tr>\n",
              "    <tr>\n",
              "      <th>KK Nagar</th>\n",
              "      <td>329</td>\n",
              "      <td>0</td>\n",
              "      <td>344</td>\n",
              "      <td>324</td>\n",
              "    </tr>\n",
              "    <tr>\n",
              "      <th>Karapakkam</th>\n",
              "      <td>349</td>\n",
              "      <td>321</td>\n",
              "      <td>345</td>\n",
              "      <td>351</td>\n",
              "    </tr>\n",
              "    <tr>\n",
              "      <th>T Nagar</th>\n",
              "      <td>125</td>\n",
              "      <td>118</td>\n",
              "      <td>131</td>\n",
              "      <td>127</td>\n",
              "    </tr>\n",
              "    <tr>\n",
              "      <th>Velachery</th>\n",
              "      <td>253</td>\n",
              "      <td>257</td>\n",
              "      <td>239</td>\n",
              "      <td>232</td>\n",
              "    </tr>\n",
              "  </tbody>\n",
              "</table>\n",
              "</div>\n",
              "      <button class=\"colab-df-convert\" onclick=\"convertToInteractive('df-89db843f-313b-4f91-91e7-b283c3759da3')\"\n",
              "              title=\"Convert this dataframe to an interactive table.\"\n",
              "              style=\"display:none;\">\n",
              "        \n",
              "  <svg xmlns=\"http://www.w3.org/2000/svg\" height=\"24px\"viewBox=\"0 0 24 24\"\n",
              "       width=\"24px\">\n",
              "    <path d=\"M0 0h24v24H0V0z\" fill=\"none\"/>\n",
              "    <path d=\"M18.56 5.44l.94 2.06.94-2.06 2.06-.94-2.06-.94-.94-2.06-.94 2.06-2.06.94zm-11 1L8.5 8.5l.94-2.06 2.06-.94-2.06-.94L8.5 2.5l-.94 2.06-2.06.94zm10 10l.94 2.06.94-2.06 2.06-.94-2.06-.94-.94-2.06-.94 2.06-2.06.94z\"/><path d=\"M17.41 7.96l-1.37-1.37c-.4-.4-.92-.59-1.43-.59-.52 0-1.04.2-1.43.59L10.3 9.45l-7.72 7.72c-.78.78-.78 2.05 0 2.83L4 21.41c.39.39.9.59 1.41.59.51 0 1.02-.2 1.41-.59l7.78-7.78 2.81-2.81c.8-.78.8-2.07 0-2.86zM5.41 20L4 18.59l7.72-7.72 1.47 1.35L5.41 20z\"/>\n",
              "  </svg>\n",
              "      </button>\n",
              "      \n",
              "  <style>\n",
              "    .colab-df-container {\n",
              "      display:flex;\n",
              "      flex-wrap:wrap;\n",
              "      gap: 12px;\n",
              "    }\n",
              "\n",
              "    .colab-df-convert {\n",
              "      background-color: #E8F0FE;\n",
              "      border: none;\n",
              "      border-radius: 50%;\n",
              "      cursor: pointer;\n",
              "      display: none;\n",
              "      fill: #1967D2;\n",
              "      height: 32px;\n",
              "      padding: 0 0 0 0;\n",
              "      width: 32px;\n",
              "    }\n",
              "\n",
              "    .colab-df-convert:hover {\n",
              "      background-color: #E2EBFA;\n",
              "      box-shadow: 0px 1px 2px rgba(60, 64, 67, 0.3), 0px 1px 3px 1px rgba(60, 64, 67, 0.15);\n",
              "      fill: #174EA6;\n",
              "    }\n",
              "\n",
              "    [theme=dark] .colab-df-convert {\n",
              "      background-color: #3B4455;\n",
              "      fill: #D2E3FC;\n",
              "    }\n",
              "\n",
              "    [theme=dark] .colab-df-convert:hover {\n",
              "      background-color: #434B5C;\n",
              "      box-shadow: 0px 1px 3px 1px rgba(0, 0, 0, 0.15);\n",
              "      filter: drop-shadow(0px 1px 2px rgba(0, 0, 0, 0.3));\n",
              "      fill: #FFFFFF;\n",
              "    }\n",
              "  </style>\n",
              "\n",
              "      <script>\n",
              "        const buttonEl =\n",
              "          document.querySelector('#df-89db843f-313b-4f91-91e7-b283c3759da3 button.colab-df-convert');\n",
              "        buttonEl.style.display =\n",
              "          google.colab.kernel.accessAllowed ? 'block' : 'none';\n",
              "\n",
              "        async function convertToInteractive(key) {\n",
              "          const element = document.querySelector('#df-89db843f-313b-4f91-91e7-b283c3759da3');\n",
              "          const dataTable =\n",
              "            await google.colab.kernel.invokeFunction('convertToInteractive',\n",
              "                                                     [key], {});\n",
              "          if (!dataTable) return;\n",
              "\n",
              "          const docLinkHtml = 'Like what you see? Visit the ' +\n",
              "            '<a target=\"_blank\" href=https://colab.research.google.com/notebooks/data_table.ipynb>data table notebook</a>'\n",
              "            + ' to learn more about interactive tables.';\n",
              "          element.innerHTML = '';\n",
              "          dataTable['output_type'] = 'display_data';\n",
              "          await google.colab.output.renderOutput(dataTable, element);\n",
              "          const docLink = document.createElement('div');\n",
              "          docLink.innerHTML = docLinkHtml;\n",
              "          element.appendChild(docLink);\n",
              "        }\n",
              "      </script>\n",
              "    </div>\n",
              "  </div>\n",
              "  "
            ]
          },
          "metadata": {},
          "execution_count": 75
        }
      ]
    },
    {
      "cell_type": "code",
      "source": [
        "df['UTILITY_AVAIL'].value_counts().plot(kind = 'bar')"
      ],
      "metadata": {
        "id": "al26UUODDSYZ",
        "colab": {
          "base_uri": "https://localhost:8080/",
          "height": 315
        },
        "outputId": "611e1e6f-441a-4c19-905f-0f274a75d6d1"
      },
      "execution_count": null,
      "outputs": [
        {
          "output_type": "execute_result",
          "data": {
            "text/plain": [
              "<matplotlib.axes._subplots.AxesSubplot at 0x7fa3aab42ca0>"
            ]
          },
          "metadata": {},
          "execution_count": 76
        },
        {
          "output_type": "display_data",
          "data": {
            "text/plain": [
              "<Figure size 432x288 with 1 Axes>"
            ],
            "image/png": "[encoded data removed]"
          },
          "metadata": {
            "needs_background": "light"
          }
        }
      ]
    },
    {
      "cell_type": "markdown",
      "source": [
        "**14. STREET**"
      ],
      "metadata": {
        "id": "uDIJxKe0r3YV"
      }
    },
    {
      "cell_type": "code",
      "source": [
        "df['STREET'].describe()"
      ],
      "metadata": {
        "id": "X_0s2wz1Dyvy",
        "colab": {
          "base_uri": "https://localhost:8080/"
        },
        "outputId": "cf16ee58-0f13-44fa-ca9c-cf3d279c1cd3"
      },
      "execution_count": null,
      "outputs": [
        {
          "output_type": "execute_result",
          "data": {
            "text/plain": [
              "count      7109\n",
              "unique        5\n",
              "top       Paved\n",
              "freq       2560\n",
              "Name: STREET, dtype: object"
            ]
          },
          "metadata": {},
          "execution_count": 77
        }
      ]
    },
    {
      "cell_type": "code",
      "source": [
        "df.STREET.values"
      ],
      "metadata": {
        "id": "U9tVOwUer1aF",
        "colab": {
          "base_uri": "https://localhost:8080/"
        },
        "outputId": "08ade40a-7f0c-43f8-cc2a-f14b84cc6745"
      },
      "execution_count": null,
      "outputs": [
        {
          "output_type": "execute_result",
          "data": {
            "text/plain": [
              "array(['Paved', 'Gravel', 'Gravel', ..., 'Gravel', 'Paved', 'Paved'],\n",
              "      dtype=object)"
            ]
          },
          "metadata": {},
          "execution_count": 78
        }
      ]
    },
    {
      "cell_type": "code",
      "source": [
        "df.STREET.value_counts()"
      ],
      "metadata": {
        "id": "f3sfbLv0r-If",
        "colab": {
          "base_uri": "https://localhost:8080/"
        },
        "outputId": "b0a02266-b0ed-4e7a-acd8-c8d549c26ab7"
      },
      "execution_count": null,
      "outputs": [
        {
          "output_type": "execute_result",
          "data": {
            "text/plain": [
              "Paved        2560\n",
              "Gravel       2520\n",
              "No Access    2010\n",
              "Pavd           12\n",
              "NoAccess        7\n",
              "Name: STREET, dtype: int64"
            ]
          },
          "metadata": {},
          "execution_count": 79
        }
      ]
    },
    {
      "cell_type": "code",
      "source": [
        "df['STREET'].unique()"
      ],
      "metadata": {
        "id": "3Eb1rPiNst7B",
        "colab": {
          "base_uri": "https://localhost:8080/"
        },
        "outputId": "918fbcb2-dd78-4832-9d1a-c9a80b23746b"
      },
      "execution_count": null,
      "outputs": [
        {
          "output_type": "execute_result",
          "data": {
            "text/plain": [
              "array(['Paved', 'Gravel', 'No Access', 'Pavd', 'NoAccess'], dtype=object)"
            ]
          },
          "metadata": {},
          "execution_count": 80
        }
      ]
    },
    {
      "cell_type": "code",
      "source": [
        "df.STREET = df.STREET.replace({\"NoAccess\":\"No Access\", \"Pavd\":\"Paved\"})"
      ],
      "metadata": {
        "id": "d5rYsiR4sCdH"
      },
      "execution_count": null,
      "outputs": []
    },
    {
      "cell_type": "code",
      "source": [
        "df.STREET.value_counts()"
      ],
      "metadata": {
        "id": "qdCHAGg9sPRG",
        "colab": {
          "base_uri": "https://localhost:8080/"
        },
        "outputId": "2152f322-7792-4bfd-a5d8-9a368d164ad6"
      },
      "execution_count": null,
      "outputs": [
        {
          "output_type": "execute_result",
          "data": {
            "text/plain": [
              "Paved        2572\n",
              "Gravel       2520\n",
              "No Access    2017\n",
              "Name: STREET, dtype: int64"
            ]
          },
          "metadata": {},
          "execution_count": 82
        }
      ]
    },
    {
      "cell_type": "code",
      "source": [
        "df['STREET'].unique()"
      ],
      "metadata": {
        "id": "CQ_APxp-EZud",
        "colab": {
          "base_uri": "https://localhost:8080/"
        },
        "outputId": "fa46bac1-7aab-4ee9-f821-a88b2ef4f13b"
      },
      "execution_count": null,
      "outputs": [
        {
          "output_type": "execute_result",
          "data": {
            "text/plain": [
              "array(['Paved', 'Gravel', 'No Access'], dtype=object)"
            ]
          },
          "metadata": {},
          "execution_count": 83
        }
      ]
    },
    {
      "cell_type": "code",
      "source": [
        "df.groupby(\"STREET\")[\"SALES_PRICE\"].mean().sort_values(ascending = True).plot.bar()"
      ],
      "metadata": {
        "id": "E1gh-EeFshQ-",
        "colab": {
          "base_uri": "https://localhost:8080/",
          "height": 349
        },
        "outputId": "6e0b4ea5-8452-49cf-b48c-524728da9a46"
      },
      "execution_count": null,
      "outputs": [
        {
          "output_type": "execute_result",
          "data": {
            "text/plain": [
              "<matplotlib.axes._subplots.AxesSubplot at 0x7fa3aab2c880>"
            ]
          },
          "metadata": {},
          "execution_count": 84
        },
        {
          "output_type": "display_data",
          "data": {
            "text/plain": [
              "<Figure size 432x288 with 1 Axes>"
            ],
            "image/png": "[encoded data removed]"
          },
          "metadata": {
            "needs_background": "light"
          }
        }
      ]
    },
    {
      "cell_type": "code",
      "source": [
        "pd.crosstab(index = df['AREA'], columns = df['STREET'])"
      ],
      "metadata": {
        "id": "ILjGQMU0GGlM",
        "colab": {
          "base_uri": "https://localhost:8080/",
          "height": 300
        },
        "outputId": "fdc113e0-7dc0-475d-bd66-b57a760a3d31"
      },
      "execution_count": null,
      "outputs": [
        {
          "output_type": "execute_result",
          "data": {
            "text/plain": [
              "STREET      Gravel  No Access  Paved\n",
              "AREA                                \n",
              "Adyar          256        255    263\n",
              "Anna Nagar     271        271    246\n",
              "Chrompet       584        553    565\n",
              "KK Nagar       479          0    518\n",
              "Karapakkam     444        467    455\n",
              "T Nagar        161        161    179\n",
              "Velachery      325        310    346"
            ],
            "text/html": [
              "\n",
              "  <div id=\"df-9e0823a2-5426-4dee-8c70-2dd625fb9e59\">\n",
              "    <div class=\"colab-df-container\">\n",
              "      <div>\n",
              "<style scoped>\n",
              "    .dataframe tbody tr th:only-of-type {\n",
              "        vertical-align: middle;\n",
              "    }\n",
              "\n",
              "    .dataframe tbody tr th {\n",
              "        vertical-align: top;\n",
              "    }\n",
              "\n",
              "    .dataframe thead th {\n",
              "        text-align: right;\n",
              "    }\n",
              "</style>\n",
              "<table border=\"1\" class=\"dataframe\">\n",
              "  <thead>\n",
              "    <tr style=\"text-align: right;\">\n",
              "      <th>STREET</th>\n",
              "      <th>Gravel</th>\n",
              "      <th>No Access</th>\n",
              "      <th>Paved</th>\n",
              "    </tr>\n",
              "    <tr>\n",
              "      <th>AREA</th>\n",
              "      <th></th>\n",
              "      <th></th>\n",
              "      <th></th>\n",
              "    </tr>\n",
              "  </thead>\n",
              "  <tbody>\n",
              "    <tr>\n",
              "      <th>Adyar</th>\n",
              "      <td>256</td>\n",
              "      <td>255</td>\n",
              "      <td>263</td>\n",
              "    </tr>\n",
              "    <tr>\n",
              "      <th>Anna Nagar</th>\n",
              "      <td>271</td>\n",
              "      <td>271</td>\n",
              "      <td>246</td>\n",
              "    </tr>\n",
              "    <tr>\n",
              "      <th>Chrompet</th>\n",
              "      <td>584</td>\n",
              "      <td>553</td>\n",
              "      <td>565</td>\n",
              "    </tr>\n",
              "    <tr>\n",
              "      <th>KK Nagar</th>\n",
              "      <td>479</td>\n",
              "      <td>0</td>\n",
              "      <td>518</td>\n",
              "    </tr>\n",
              "    <tr>\n",
              "      <th>Karapakkam</th>\n",
              "      <td>444</td>\n",
              "      <td>467</td>\n",
              "      <td>455</td>\n",
              "    </tr>\n",
              "    <tr>\n",
              "      <th>T Nagar</th>\n",
              "      <td>161</td>\n",
              "      <td>161</td>\n",
              "      <td>179</td>\n",
              "    </tr>\n",
              "    <tr>\n",
              "      <th>Velachery</th>\n",
              "      <td>325</td>\n",
              "      <td>310</td>\n",
              "      <td>346</td>\n",
              "    </tr>\n",
              "  </tbody>\n",
              "</table>\n",
              "</div>\n",
              "      <button class=\"colab-df-convert\" onclick=\"convertToInteractive('df-9e0823a2-5426-4dee-8c70-2dd625fb9e59')\"\n",
              "              title=\"Convert this dataframe to an interactive table.\"\n",
              "              style=\"display:none;\">\n",
              "        \n",
              "  <svg xmlns=\"http://www.w3.org/2000/svg\" height=\"24px\"viewBox=\"0 0 24 24\"\n",
              "       width=\"24px\">\n",
              "    <path d=\"M0 0h24v24H0V0z\" fill=\"none\"/>\n",
              "    <path d=\"M18.56 5.44l.94 2.06.94-2.06 2.06-.94-2.06-.94-.94-2.06-.94 2.06-2.06.94zm-11 1L8.5 8.5l.94-2.06 2.06-.94-2.06-.94L8.5 2.5l-.94 2.06-2.06.94zm10 10l.94 2.06.94-2.06 2.06-.94-2.06-.94-.94-2.06-.94 2.06-2.06.94z\"/><path d=\"M17.41 7.96l-1.37-1.37c-.4-.4-.92-.59-1.43-.59-.52 0-1.04.2-1.43.59L10.3 9.45l-7.72 7.72c-.78.78-.78 2.05 0 2.83L4 21.41c.39.39.9.59 1.41.59.51 0 1.02-.2 1.41-.59l7.78-7.78 2.81-2.81c.8-.78.8-2.07 0-2.86zM5.41 20L4 18.59l7.72-7.72 1.47 1.35L5.41 20z\"/>\n",
              "  </svg>\n",
              "      </button>\n",
              "      \n",
              "  <style>\n",
              "    .colab-df-container {\n",
              "      display:flex;\n",
              "      flex-wrap:wrap;\n",
              "      gap: 12px;\n",
              "    }\n",
              "\n",
              "    .colab-df-convert {\n",
              "      background-color: #E8F0FE;\n",
              "      border: none;\n",
              "      border-radius: 50%;\n",
              "      cursor: pointer;\n",
              "      display: none;\n",
              "      fill: #1967D2;\n",
              "      height: 32px;\n",
              "      padding: 0 0 0 0;\n",
              "      width: 32px;\n",
              "    }\n",
              "\n",
              "    .colab-df-convert:hover {\n",
              "      background-color: #E2EBFA;\n",
              "      box-shadow: 0px 1px 2px rgba(60, 64, 67, 0.3), 0px 1px 3px 1px rgba(60, 64, 67, 0.15);\n",
              "      fill: #174EA6;\n",
              "    }\n",
              "\n",
              "    [theme=dark] .colab-df-convert {\n",
              "      background-color: #3B4455;\n",
              "      fill: #D2E3FC;\n",
              "    }\n",
              "\n",
              "    [theme=dark] .colab-df-convert:hover {\n",
              "      background-color: #434B5C;\n",
              "      box-shadow: 0px 1px 3px 1px rgba(0, 0, 0, 0.15);\n",
              "      filter: drop-shadow(0px 1px 2px rgba(0, 0, 0, 0.3));\n",
              "      fill: #FFFFFF;\n",
              "    }\n",
              "  </style>\n",
              "\n",
              "      <script>\n",
              "        const buttonEl =\n",
              "          document.querySelector('#df-9e0823a2-5426-4dee-8c70-2dd625fb9e59 button.colab-df-convert');\n",
              "        buttonEl.style.display =\n",
              "          google.colab.kernel.accessAllowed ? 'block' : 'none';\n",
              "\n",
              "        async function convertToInteractive(key) {\n",
              "          const element = document.querySelector('#df-9e0823a2-5426-4dee-8c70-2dd625fb9e59');\n",
              "          const dataTable =\n",
              "            await google.colab.kernel.invokeFunction('convertToInteractive',\n",
              "                                                     [key], {});\n",
              "          if (!dataTable) return;\n",
              "\n",
              "          const docLinkHtml = 'Like what you see? Visit the ' +\n",
              "            '<a target=\"_blank\" href=https://colab.research.google.com/notebooks/data_table.ipynb>data table notebook</a>'\n",
              "            + ' to learn more about interactive tables.';\n",
              "          element.innerHTML = '';\n",
              "          dataTable['output_type'] = 'display_data';\n",
              "          await google.colab.output.renderOutput(dataTable, element);\n",
              "          const docLink = document.createElement('div');\n",
              "          docLink.innerHTML = docLinkHtml;\n",
              "          element.appendChild(docLink);\n",
              "        }\n",
              "      </script>\n",
              "    </div>\n",
              "  </div>\n",
              "  "
            ]
          },
          "metadata": {},
          "execution_count": 85
        }
      ]
    },
    {
      "cell_type": "code",
      "source": [
        "plt.figure(figsize = (10, 7))\n",
        "sns.countplot(df = df, x = 'AREA', hue = 'STREET')\n",
        "plt.title('Area vs Type of Road (accessibility')"
      ],
      "metadata": {
        "id": "N3IROF4FGRwj"
      },
      "execution_count": null,
      "outputs": []
    },
    {
      "cell_type": "code",
      "source": [
        "pd.crosstab(index = df['AREA'], columns = df['BUILDTYPE'])"
      ],
      "metadata": {
        "id": "WBk5iBzEHvqz",
        "colab": {
          "base_uri": "https://localhost:8080/",
          "height": 300
        },
        "outputId": "376b8a1a-cb4b-461b-9ae4-4c8226d3ccc5"
      },
      "execution_count": null,
      "outputs": [
        {
          "output_type": "execute_result",
          "data": {
            "text/plain": [
              "BUILDTYPE   Commercial  House  Others\n",
              "AREA                                 \n",
              "Adyar              247    263     264\n",
              "Anna Nagar         252    276     260\n",
              "Chrompet           562    591     549\n",
              "KK Nagar           322    348     327\n",
              "Karapakkam         433    486     447\n",
              "T Nagar            178    156     167\n",
              "Velachery          335    324     322"
            ],
            "text/html": [
              "\n",
              "  <div id=\"df-53be5843-f415-45f2-8590-4247e14ef5df\">\n",
              "    <div class=\"colab-df-container\">\n",
              "      <div>\n",
              "<style scoped>\n",
              "    .dataframe tbody tr th:only-of-type {\n",
              "        vertical-align: middle;\n",
              "    }\n",
              "\n",
              "    .dataframe tbody tr th {\n",
              "        vertical-align: top;\n",
              "    }\n",
              "\n",
              "    .dataframe thead th {\n",
              "        text-align: right;\n",
              "    }\n",
              "</style>\n",
              "<table border=\"1\" class=\"dataframe\">\n",
              "  <thead>\n",
              "    <tr style=\"text-align: right;\">\n",
              "      <th>BUILDTYPE</th>\n",
              "      <th>Commercial</th>\n",
              "      <th>House</th>\n",
              "      <th>Others</th>\n",
              "    </tr>\n",
              "    <tr>\n",
              "      <th>AREA</th>\n",
              "      <th></th>\n",
              "      <th></th>\n",
              "      <th></th>\n",
              "    </tr>\n",
              "  </thead>\n",
              "  <tbody>\n",
              "    <tr>\n",
              "      <th>Adyar</th>\n",
              "      <td>247</td>\n",
              "      <td>263</td>\n",
              "      <td>264</td>\n",
              "    </tr>\n",
              "    <tr>\n",
              "      <th>Anna Nagar</th>\n",
              "      <td>252</td>\n",
              "      <td>276</td>\n",
              "      <td>260</td>\n",
              "    </tr>\n",
              "    <tr>\n",
              "      <th>Chrompet</th>\n",
              "      <td>562</td>\n",
              "      <td>591</td>\n",
              "      <td>549</td>\n",
              "    </tr>\n",
              "    <tr>\n",
              "      <th>KK Nagar</th>\n",
              "      <td>322</td>\n",
              "      <td>348</td>\n",
              "      <td>327</td>\n",
              "    </tr>\n",
              "    <tr>\n",
              "      <th>Karapakkam</th>\n",
              "      <td>433</td>\n",
              "      <td>486</td>\n",
              "      <td>447</td>\n",
              "    </tr>\n",
              "    <tr>\n",
              "      <th>T Nagar</th>\n",
              "      <td>178</td>\n",
              "      <td>156</td>\n",
              "      <td>167</td>\n",
              "    </tr>\n",
              "    <tr>\n",
              "      <th>Velachery</th>\n",
              "      <td>335</td>\n",
              "      <td>324</td>\n",
              "      <td>322</td>\n",
              "    </tr>\n",
              "  </tbody>\n",
              "</table>\n",
              "</div>\n",
              "      <button class=\"colab-df-convert\" onclick=\"convertToInteractive('df-53be5843-f415-45f2-8590-4247e14ef5df')\"\n",
              "              title=\"Convert this dataframe to an interactive table.\"\n",
              "              style=\"display:none;\">\n",
              "        \n",
              "  <svg xmlns=\"http://www.w3.org/2000/svg\" height=\"24px\"viewBox=\"0 0 24 24\"\n",
              "       width=\"24px\">\n",
              "    <path d=\"M0 0h24v24H0V0z\" fill=\"none\"/>\n",
              "    <path d=\"M18.56 5.44l.94 2.06.94-2.06 2.06-.94-2.06-.94-.94-2.06-.94 2.06-2.06.94zm-11 1L8.5 8.5l.94-2.06 2.06-.94-2.06-.94L8.5 2.5l-.94 2.06-2.06.94zm10 10l.94 2.06.94-2.06 2.06-.94-2.06-.94-.94-2.06-.94 2.06-2.06.94z\"/><path d=\"M17.41 7.96l-1.37-1.37c-.4-.4-.92-.59-1.43-.59-.52 0-1.04.2-1.43.59L10.3 9.45l-7.72 7.72c-.78.78-.78 2.05 0 2.83L4 21.41c.39.39.9.59 1.41.59.51 0 1.02-.2 1.41-.59l7.78-7.78 2.81-2.81c.8-.78.8-2.07 0-2.86zM5.41 20L4 18.59l7.72-7.72 1.47 1.35L5.41 20z\"/>\n",
              "  </svg>\n",
              "      </button>\n",
              "      \n",
              "  <style>\n",
              "    .colab-df-container {\n",
              "      display:flex;\n",
              "      flex-wrap:wrap;\n",
              "      gap: 12px;\n",
              "    }\n",
              "\n",
              "    .colab-df-convert {\n",
              "      background-color: #E8F0FE;\n",
              "      border: none;\n",
              "      border-radius: 50%;\n",
              "      cursor: pointer;\n",
              "      display: none;\n",
              "      fill: #1967D2;\n",
              "      height: 32px;\n",
              "      padding: 0 0 0 0;\n",
              "      width: 32px;\n",
              "    }\n",
              "\n",
              "    .colab-df-convert:hover {\n",
              "      background-color: #E2EBFA;\n",
              "      box-shadow: 0px 1px 2px rgba(60, 64, 67, 0.3), 0px 1px 3px 1px rgba(60, 64, 67, 0.15);\n",
              "      fill: #174EA6;\n",
              "    }\n",
              "\n",
              "    [theme=dark] .colab-df-convert {\n",
              "      background-color: #3B4455;\n",
              "      fill: #D2E3FC;\n",
              "    }\n",
              "\n",
              "    [theme=dark] .colab-df-convert:hover {\n",
              "      background-color: #434B5C;\n",
              "      box-shadow: 0px 1px 3px 1px rgba(0, 0, 0, 0.15);\n",
              "      filter: drop-shadow(0px 1px 2px rgba(0, 0, 0, 0.3));\n",
              "      fill: #FFFFFF;\n",
              "    }\n",
              "  </style>\n",
              "\n",
              "      <script>\n",
              "        const buttonEl =\n",
              "          document.querySelector('#df-53be5843-f415-45f2-8590-4247e14ef5df button.colab-df-convert');\n",
              "        buttonEl.style.display =\n",
              "          google.colab.kernel.accessAllowed ? 'block' : 'none';\n",
              "\n",
              "        async function convertToInteractive(key) {\n",
              "          const element = document.querySelector('#df-53be5843-f415-45f2-8590-4247e14ef5df');\n",
              "          const dataTable =\n",
              "            await google.colab.kernel.invokeFunction('convertToInteractive',\n",
              "                                                     [key], {});\n",
              "          if (!dataTable) return;\n",
              "\n",
              "          const docLinkHtml = 'Like what you see? Visit the ' +\n",
              "            '<a target=\"_blank\" href=https://colab.research.google.com/notebooks/data_table.ipynb>data table notebook</a>'\n",
              "            + ' to learn more about interactive tables.';\n",
              "          element.innerHTML = '';\n",
              "          dataTable['output_type'] = 'display_data';\n",
              "          await google.colab.output.renderOutput(dataTable, element);\n",
              "          const docLink = document.createElement('div');\n",
              "          docLink.innerHTML = docLinkHtml;\n",
              "          element.appendChild(docLink);\n",
              "        }\n",
              "      </script>\n",
              "    </div>\n",
              "  </div>\n",
              "  "
            ]
          },
          "metadata": {},
          "execution_count": 87
        }
      ]
    },
    {
      "cell_type": "code",
      "source": [
        "g = sns.catplot(x=\"AREA\", hue=\"STREET\", col=\"BUILDTYPE\", df=df, \n",
        "                kind=\"count\", col_wrap=2, height=7)\n",
        "\n",
        "(g.set_axis_labels(\"\", \"STREET ACCESSIBILITY\")\n",
        "  .set_titles(\"{col_name} {col_var}\")\n",
        ")"
      ],
      "metadata": {
        "id": "7fzdS36xQIBc"
      },
      "execution_count": null,
      "outputs": []
    },
    {
      "cell_type": "markdown",
      "source": [
        "**15 MZZONE**"
      ],
      "metadata": {
        "id": "hHUh_t6ouFd4"
      }
    },
    {
      "cell_type": "code",
      "source": [
        "df['MZZONE'].describe()"
      ],
      "metadata": {
        "id": "L53nM0MhJl3h"
      },
      "execution_count": null,
      "outputs": []
    },
    {
      "cell_type": "code",
      "source": [
        "df.MZZONE.values"
      ],
      "metadata": {
        "id": "4k9xcSQKuKCa"
      },
      "execution_count": null,
      "outputs": []
    },
    {
      "cell_type": "code",
      "source": [
        "df.MZZONE.value_counts()"
      ],
      "metadata": {
        "id": "QUNq8_d2uaQX"
      },
      "execution_count": null,
      "outputs": []
    },
    {
      "cell_type": "code",
      "source": [
        "pd.crosstab(index = df['AREA'], columns = df['MZZONE'])"
      ],
      "metadata": {
        "id": "ABh9H2aKJwol"
      },
      "execution_count": null,
      "outputs": []
    },
    {
      "cell_type": "code",
      "source": [
        "plt.figure(figsize = (10, 7))\n",
        "sns.countplot(df = df, x = 'AREA', hue = 'MZZONE')"
      ],
      "metadata": {
        "id": "pomQO26jKMdn"
      },
      "execution_count": null,
      "outputs": []
    },
    {
      "cell_type": "markdown",
      "source": [
        "**QS_Rooms, QS_Bathroom, QS_Bedroom, QS_Overall**"
      ],
      "metadata": {
        "id": "Itwfqc6vQmJN"
      }
    },
    {
      "cell_type": "code",
      "source": [
        "df.columns"
      ],
      "metadata": {
        "id": "pkn5FGkXKfD7",
        "colab": {
          "base_uri": "https://localhost:8080/"
        },
        "outputId": "a99eebc4-ee9b-4c5b-e292-a7eafcfb12cd"
      },
      "execution_count": null,
      "outputs": [
        {
          "output_type": "execute_result",
          "data": {
            "text/plain": [
              "Index(['AREA', 'INT_SQFT', 'DATE_SALE', 'DIST_MAINROAD', 'N_BEDROOM',\n",
              "       'N_BATHROOM', 'N_ROOM', 'SALE_COND', 'PARK_FACIL', 'DATE_BUILD',\n",
              "       'BUILDTYPE', 'UTILITY_AVAIL', 'STREET', 'MZZONE', 'QS_ROOMS',\n",
              "       'QS_BATHROOM', 'QS_BEDROOM', 'QS_OVERALL', 'REG_FEE', 'COMMIS',\n",
              "       'SALES_PRICE'],\n",
              "      dtype='object')"
            ]
          },
          "metadata": {},
          "execution_count": 91
        }
      ]
    },
    {
      "cell_type": "code",
      "source": [
        "df[['QS_ROOMS', 'QS_BATHROOM', 'QS_BATHROOM', 'QS_OVERALL']].describe()"
      ],
      "metadata": {
        "id": "UGYK7FRPKh6z",
        "colab": {
          "base_uri": "https://localhost:8080/",
          "height": 300
        },
        "outputId": "cfe6ed17-6311-44cb-98ed-c21f81440f11"
      },
      "execution_count": null,
      "outputs": [
        {
          "output_type": "execute_result",
          "data": {
            "text/plain": [
              "          QS_ROOMS  QS_BATHROOM  QS_BATHROOM   QS_OVERALL\n",
              "count  7109.000000  7109.000000  7109.000000  7061.000000\n",
              "mean      3.517471     3.507244     3.507244     3.503254\n",
              "std       0.891972     0.897834     0.897834     0.527223\n",
              "min       2.000000     2.000000     2.000000     2.000000\n",
              "25%       2.700000     2.700000     2.700000     3.130000\n",
              "50%       3.500000     3.500000     3.500000     3.500000\n",
              "75%       4.300000     4.300000     4.300000     3.890000\n",
              "max       5.000000     5.000000     5.000000     4.970000"
            ],
            "text/html": [
              "\n",
              "  <div id=\"df-4a1aebab-6bb8-49b0-a3b3-8da228399067\">\n",
              "    <div class=\"colab-df-container\">\n",
              "      <div>\n",
              "<style scoped>\n",
              "    .dataframe tbody tr th:only-of-type {\n",
              "        vertical-align: middle;\n",
              "    }\n",
              "\n",
              "    .dataframe tbody tr th {\n",
              "        vertical-align: top;\n",
              "    }\n",
              "\n",
              "    .dataframe thead th {\n",
              "        text-align: right;\n",
              "    }\n",
              "</style>\n",
              "<table border=\"1\" class=\"dataframe\">\n",
              "  <thead>\n",
              "    <tr style=\"text-align: right;\">\n",
              "      <th></th>\n",
              "      <th>QS_ROOMS</th>\n",
              "      <th>QS_BATHROOM</th>\n",
              "      <th>QS_BATHROOM</th>\n",
              "      <th>QS_OVERALL</th>\n",
              "    </tr>\n",
              "  </thead>\n",
              "  <tbody>\n",
              "    <tr>\n",
              "      <th>count</th>\n",
              "      <td>7109.000000</td>\n",
              "      <td>7109.000000</td>\n",
              "      <td>7109.000000</td>\n",
              "      <td>7061.000000</td>\n",
              "    </tr>\n",
              "    <tr>\n",
              "      <th>mean</th>\n",
              "      <td>3.517471</td>\n",
              "      <td>3.507244</td>\n",
              "      <td>3.507244</td>\n",
              "      <td>3.503254</td>\n",
              "    </tr>\n",
              "    <tr>\n",
              "      <th>std</th>\n",
              "      <td>0.891972</td>\n",
              "      <td>0.897834</td>\n",
              "      <td>0.897834</td>\n",
              "      <td>0.527223</td>\n",
              "    </tr>\n",
              "    <tr>\n",
              "      <th>min</th>\n",
              "      <td>2.000000</td>\n",
              "      <td>2.000000</td>\n",
              "      <td>2.000000</td>\n",
              "      <td>2.000000</td>\n",
              "    </tr>\n",
              "    <tr>\n",
              "      <th>25%</th>\n",
              "      <td>2.700000</td>\n",
              "      <td>2.700000</td>\n",
              "      <td>2.700000</td>\n",
              "      <td>3.130000</td>\n",
              "    </tr>\n",
              "    <tr>\n",
              "      <th>50%</th>\n",
              "      <td>3.500000</td>\n",
              "      <td>3.500000</td>\n",
              "      <td>3.500000</td>\n",
              "      <td>3.500000</td>\n",
              "    </tr>\n",
              "    <tr>\n",
              "      <th>75%</th>\n",
              "      <td>4.300000</td>\n",
              "      <td>4.300000</td>\n",
              "      <td>4.300000</td>\n",
              "      <td>3.890000</td>\n",
              "    </tr>\n",
              "    <tr>\n",
              "      <th>max</th>\n",
              "      <td>5.000000</td>\n",
              "      <td>5.000000</td>\n",
              "      <td>5.000000</td>\n",
              "      <td>4.970000</td>\n",
              "    </tr>\n",
              "  </tbody>\n",
              "</table>\n",
              "</div>\n",
              "      <button class=\"colab-df-convert\" onclick=\"convertToInteractive('df-4a1aebab-6bb8-49b0-a3b3-8da228399067')\"\n",
              "              title=\"Convert this dataframe to an interactive table.\"\n",
              "              style=\"display:none;\">\n",
              "        \n",
              "  <svg xmlns=\"http://www.w3.org/2000/svg\" height=\"24px\"viewBox=\"0 0 24 24\"\n",
              "       width=\"24px\">\n",
              "    <path d=\"M0 0h24v24H0V0z\" fill=\"none\"/>\n",
              "    <path d=\"M18.56 5.44l.94 2.06.94-2.06 2.06-.94-2.06-.94-.94-2.06-.94 2.06-2.06.94zm-11 1L8.5 8.5l.94-2.06 2.06-.94-2.06-.94L8.5 2.5l-.94 2.06-2.06.94zm10 10l.94 2.06.94-2.06 2.06-.94-2.06-.94-.94-2.06-.94 2.06-2.06.94z\"/><path d=\"M17.41 7.96l-1.37-1.37c-.4-.4-.92-.59-1.43-.59-.52 0-1.04.2-1.43.59L10.3 9.45l-7.72 7.72c-.78.78-.78 2.05 0 2.83L4 21.41c.39.39.9.59 1.41.59.51 0 1.02-.2 1.41-.59l7.78-7.78 2.81-2.81c.8-.78.8-2.07 0-2.86zM5.41 20L4 18.59l7.72-7.72 1.47 1.35L5.41 20z\"/>\n",
              "  </svg>\n",
              "      </button>\n",
              "      \n",
              "  <style>\n",
              "    .colab-df-container {\n",
              "      display:flex;\n",
              "      flex-wrap:wrap;\n",
              "      gap: 12px;\n",
              "    }\n",
              "\n",
              "    .colab-df-convert {\n",
              "      background-color: #E8F0FE;\n",
              "      border: none;\n",
              "      border-radius: 50%;\n",
              "      cursor: pointer;\n",
              "      display: none;\n",
              "      fill: #1967D2;\n",
              "      height: 32px;\n",
              "      padding: 0 0 0 0;\n",
              "      width: 32px;\n",
              "    }\n",
              "\n",
              "    .colab-df-convert:hover {\n",
              "      background-color: #E2EBFA;\n",
              "      box-shadow: 0px 1px 2px rgba(60, 64, 67, 0.3), 0px 1px 3px 1px rgba(60, 64, 67, 0.15);\n",
              "      fill: #174EA6;\n",
              "    }\n",
              "\n",
              "    [theme=dark] .colab-df-convert {\n",
              "      background-color: #3B4455;\n",
              "      fill: #D2E3FC;\n",
              "    }\n",
              "\n",
              "    [theme=dark] .colab-df-convert:hover {\n",
              "      background-color: #434B5C;\n",
              "      box-shadow: 0px 1px 3px 1px rgba(0, 0, 0, 0.15);\n",
              "      filter: drop-shadow(0px 1px 2px rgba(0, 0, 0, 0.3));\n",
              "      fill: #FFFFFF;\n",
              "    }\n",
              "  </style>\n",
              "\n",
              "      <script>\n",
              "        const buttonEl =\n",
              "          document.querySelector('#df-4a1aebab-6bb8-49b0-a3b3-8da228399067 button.colab-df-convert');\n",
              "        buttonEl.style.display =\n",
              "          google.colab.kernel.accessAllowed ? 'block' : 'none';\n",
              "\n",
              "        async function convertToInteractive(key) {\n",
              "          const element = document.querySelector('#df-4a1aebab-6bb8-49b0-a3b3-8da228399067');\n",
              "          const dataTable =\n",
              "            await google.colab.kernel.invokeFunction('convertToInteractive',\n",
              "                                                     [key], {});\n",
              "          if (!dataTable) return;\n",
              "\n",
              "          const docLinkHtml = 'Like what you see? Visit the ' +\n",
              "            '<a target=\"_blank\" href=https://colab.research.google.com/notebooks/data_table.ipynb>data table notebook</a>'\n",
              "            + ' to learn more about interactive tables.';\n",
              "          element.innerHTML = '';\n",
              "          dataTable['output_type'] = 'display_data';\n",
              "          await google.colab.output.renderOutput(dataTable, element);\n",
              "          const docLink = document.createElement('div');\n",
              "          docLink.innerHTML = docLinkHtml;\n",
              "          element.appendChild(docLink);\n",
              "        }\n",
              "      </script>\n",
              "    </div>\n",
              "  </div>\n",
              "  "
            ]
          },
          "metadata": {},
          "execution_count": 92
        }
      ]
    },
    {
      "cell_type": "code",
      "source": [
        "df['QS_OVERALL'].isna().sum()"
      ],
      "metadata": {
        "id": "5xobxGvCK2Fz",
        "colab": {
          "base_uri": "https://localhost:8080/"
        },
        "outputId": "4eed736f-ac1e-48b0-cab9-7936f15fc427"
      },
      "execution_count": null,
      "outputs": [
        {
          "output_type": "execute_result",
          "data": {
            "text/plain": [
              "0"
            ]
          },
          "metadata": {},
          "execution_count": 94
        }
      ]
    },
    {
      "cell_type": "code",
      "source": [
        "df['QS_OVERALL'] = df['QS_OVERALL'].fillna(3.5) # filling null/missing values with same values"
      ],
      "metadata": {
        "id": "jTS7jV7BK_KJ"
      },
      "execution_count": null,
      "outputs": []
    },
    {
      "cell_type": "code",
      "source": [
        "df['QS_OVERALL'].isna().sum()"
      ],
      "metadata": {
        "id": "0NKl5dFvK_oq",
        "colab": {
          "base_uri": "https://localhost:8080/"
        },
        "outputId": "783221ce-fa66-4cbe-ab37-a1059bdf2aa2"
      },
      "execution_count": null,
      "outputs": [
        {
          "output_type": "execute_result",
          "data": {
            "text/plain": [
              "0"
            ]
          },
          "metadata": {},
          "execution_count": 95
        }
      ]
    },
    {
      "cell_type": "code",
      "source": [
        "df[['QS_ROOMS', 'QS_BATHROOM', 'QS_BEDROOM', 'QS_OVERALL']].describe()"
      ],
      "metadata": {
        "id": "tmaDXOqTLWXT",
        "colab": {
          "base_uri": "https://localhost:8080/",
          "height": 300
        },
        "outputId": "27667a22-6c78-4892-fbd2-b951f205391f"
      },
      "execution_count": null,
      "outputs": [
        {
          "output_type": "execute_result",
          "data": {
            "text/plain": [
              "          QS_ROOMS  QS_BATHROOM   QS_BEDROOM   QS_OVERALL\n",
              "count  7109.000000  7109.000000  7109.000000  7109.000000\n",
              "mean      3.517471     3.507244     3.485300     3.503232\n",
              "std       0.891972     0.897834     0.887266     0.525440\n",
              "min       2.000000     2.000000     2.000000     2.000000\n",
              "25%       2.700000     2.700000     2.700000     3.130000\n",
              "50%       3.500000     3.500000     3.500000     3.500000\n",
              "75%       4.300000     4.300000     4.300000     3.880000\n",
              "max       5.000000     5.000000     5.000000     4.970000"
            ],
            "text/html": [
              "\n",
              "  <div id=\"df-1855ae99-a686-4fae-adb1-6bed18f0ce4c\">\n",
              "    <div class=\"colab-df-container\">\n",
              "      <div>\n",
              "<style scoped>\n",
              "    .dataframe tbody tr th:only-of-type {\n",
              "        vertical-align: middle;\n",
              "    }\n",
              "\n",
              "    .dataframe tbody tr th {\n",
              "        vertical-align: top;\n",
              "    }\n",
              "\n",
              "    .dataframe thead th {\n",
              "        text-align: right;\n",
              "    }\n",
              "</style>\n",
              "<table border=\"1\" class=\"dataframe\">\n",
              "  <thead>\n",
              "    <tr style=\"text-align: right;\">\n",
              "      <th></th>\n",
              "      <th>QS_ROOMS</th>\n",
              "      <th>QS_BATHROOM</th>\n",
              "      <th>QS_BEDROOM</th>\n",
              "      <th>QS_OVERALL</th>\n",
              "    </tr>\n",
              "  </thead>\n",
              "  <tbody>\n",
              "    <tr>\n",
              "      <th>count</th>\n",
              "      <td>7109.000000</td>\n",
              "      <td>7109.000000</td>\n",
              "      <td>7109.000000</td>\n",
              "      <td>7109.000000</td>\n",
              "    </tr>\n",
              "    <tr>\n",
              "      <th>mean</th>\n",
              "      <td>3.517471</td>\n",
              "      <td>3.507244</td>\n",
              "      <td>3.485300</td>\n",
              "      <td>3.503232</td>\n",
              "    </tr>\n",
              "    <tr>\n",
              "      <th>std</th>\n",
              "      <td>0.891972</td>\n",
              "      <td>0.897834</td>\n",
              "      <td>0.887266</td>\n",
              "      <td>0.525440</td>\n",
              "    </tr>\n",
              "    <tr>\n",
              "      <th>min</th>\n",
              "      <td>2.000000</td>\n",
              "      <td>2.000000</td>\n",
              "      <td>2.000000</td>\n",
              "      <td>2.000000</td>\n",
              "    </tr>\n",
              "    <tr>\n",
              "      <th>25%</th>\n",
              "      <td>2.700000</td>\n",
              "      <td>2.700000</td>\n",
              "      <td>2.700000</td>\n",
              "      <td>3.130000</td>\n",
              "    </tr>\n",
              "    <tr>\n",
              "      <th>50%</th>\n",
              "      <td>3.500000</td>\n",
              "      <td>3.500000</td>\n",
              "      <td>3.500000</td>\n",
              "      <td>3.500000</td>\n",
              "    </tr>\n",
              "    <tr>\n",
              "      <th>75%</th>\n",
              "      <td>4.300000</td>\n",
              "      <td>4.300000</td>\n",
              "      <td>4.300000</td>\n",
              "      <td>3.880000</td>\n",
              "    </tr>\n",
              "    <tr>\n",
              "      <th>max</th>\n",
              "      <td>5.000000</td>\n",
              "      <td>5.000000</td>\n",
              "      <td>5.000000</td>\n",
              "      <td>4.970000</td>\n",
              "    </tr>\n",
              "  </tbody>\n",
              "</table>\n",
              "</div>\n",
              "      <button class=\"colab-df-convert\" onclick=\"convertToInteractive('df-1855ae99-a686-4fae-adb1-6bed18f0ce4c')\"\n",
              "              title=\"Convert this dataframe to an interactive table.\"\n",
              "              style=\"display:none;\">\n",
              "        \n",
              "  <svg xmlns=\"http://www.w3.org/2000/svg\" height=\"24px\"viewBox=\"0 0 24 24\"\n",
              "       width=\"24px\">\n",
              "    <path d=\"M0 0h24v24H0V0z\" fill=\"none\"/>\n",
              "    <path d=\"M18.56 5.44l.94 2.06.94-2.06 2.06-.94-2.06-.94-.94-2.06-.94 2.06-2.06.94zm-11 1L8.5 8.5l.94-2.06 2.06-.94-2.06-.94L8.5 2.5l-.94 2.06-2.06.94zm10 10l.94 2.06.94-2.06 2.06-.94-2.06-.94-.94-2.06-.94 2.06-2.06.94z\"/><path d=\"M17.41 7.96l-1.37-1.37c-.4-.4-.92-.59-1.43-.59-.52 0-1.04.2-1.43.59L10.3 9.45l-7.72 7.72c-.78.78-.78 2.05 0 2.83L4 21.41c.39.39.9.59 1.41.59.51 0 1.02-.2 1.41-.59l7.78-7.78 2.81-2.81c.8-.78.8-2.07 0-2.86zM5.41 20L4 18.59l7.72-7.72 1.47 1.35L5.41 20z\"/>\n",
              "  </svg>\n",
              "      </button>\n",
              "      \n",
              "  <style>\n",
              "    .colab-df-container {\n",
              "      display:flex;\n",
              "      flex-wrap:wrap;\n",
              "      gap: 12px;\n",
              "    }\n",
              "\n",
              "    .colab-df-convert {\n",
              "      background-color: #E8F0FE;\n",
              "      border: none;\n",
              "      border-radius: 50%;\n",
              "      cursor: pointer;\n",
              "      display: none;\n",
              "      fill: #1967D2;\n",
              "      height: 32px;\n",
              "      padding: 0 0 0 0;\n",
              "      width: 32px;\n",
              "    }\n",
              "\n",
              "    .colab-df-convert:hover {\n",
              "      background-color: #E2EBFA;\n",
              "      box-shadow: 0px 1px 2px rgba(60, 64, 67, 0.3), 0px 1px 3px 1px rgba(60, 64, 67, 0.15);\n",
              "      fill: #174EA6;\n",
              "    }\n",
              "\n",
              "    [theme=dark] .colab-df-convert {\n",
              "      background-color: #3B4455;\n",
              "      fill: #D2E3FC;\n",
              "    }\n",
              "\n",
              "    [theme=dark] .colab-df-convert:hover {\n",
              "      background-color: #434B5C;\n",
              "      box-shadow: 0px 1px 3px 1px rgba(0, 0, 0, 0.15);\n",
              "      filter: drop-shadow(0px 1px 2px rgba(0, 0, 0, 0.3));\n",
              "      fill: #FFFFFF;\n",
              "    }\n",
              "  </style>\n",
              "\n",
              "      <script>\n",
              "        const buttonEl =\n",
              "          document.querySelector('#df-1855ae99-a686-4fae-adb1-6bed18f0ce4c button.colab-df-convert');\n",
              "        buttonEl.style.display =\n",
              "          google.colab.kernel.accessAllowed ? 'block' : 'none';\n",
              "\n",
              "        async function convertToInteractive(key) {\n",
              "          const element = document.querySelector('#df-1855ae99-a686-4fae-adb1-6bed18f0ce4c');\n",
              "          const dataTable =\n",
              "            await google.colab.kernel.invokeFunction('convertToInteractive',\n",
              "                                                     [key], {});\n",
              "          if (!dataTable) return;\n",
              "\n",
              "          const docLinkHtml = 'Like what you see? Visit the ' +\n",
              "            '<a target=\"_blank\" href=https://colab.research.google.com/notebooks/data_table.ipynb>data table notebook</a>'\n",
              "            + ' to learn more about interactive tables.';\n",
              "          element.innerHTML = '';\n",
              "          dataTable['output_type'] = 'display_data';\n",
              "          await google.colab.output.renderOutput(dataTable, element);\n",
              "          const docLink = document.createElement('div');\n",
              "          docLink.innerHTML = docLinkHtml;\n",
              "          element.appendChild(docLink);\n",
              "        }\n",
              "      </script>\n",
              "    </div>\n",
              "  </div>\n",
              "  "
            ]
          },
          "metadata": {},
          "execution_count": 98
        }
      ]
    },
    {
      "cell_type": "markdown",
      "source": [
        "**Registration Fees, Commission**"
      ],
      "metadata": {
        "id": "dbiQ-YLFLlyV"
      }
    },
    {
      "cell_type": "code",
      "source": [
        "df.columns"
      ],
      "metadata": {
        "id": "Z-0FP7f9LlAW",
        "colab": {
          "base_uri": "https://localhost:8080/"
        },
        "outputId": "6ae54eb8-2fe5-4482-c329-223d640e1724"
      },
      "execution_count": null,
      "outputs": [
        {
          "output_type": "execute_result",
          "data": {
            "text/plain": [
              "Index(['AREA', 'INT_SQFT', 'DATE_SALE', 'DIST_MAINROAD', 'N_BEDROOM',\n",
              "       'N_BATHROOM', 'N_ROOM', 'SALE_COND', 'PARK_FACIL', 'DATE_BUILD',\n",
              "       'BUILDTYPE', 'UTILITY_AVAIL', 'STREET', 'MZZONE', 'QS_ROOMS',\n",
              "       'QS_BATHROOM', 'QS_BEDROOM', 'QS_OVERALL', 'REG_FEE', 'COMMIS',\n",
              "       'SALES_PRICE'],\n",
              "      dtype='object')"
            ]
          },
          "metadata": {},
          "execution_count": 99
        }
      ]
    },
    {
      "cell_type": "code",
      "source": [
        "df[['REG_FEE', 'COMMIS']].describe()"
      ],
      "metadata": {
        "id": "nls0-md0Ltev",
        "colab": {
          "base_uri": "https://localhost:8080/",
          "height": 300
        },
        "outputId": "205aaee0-0615-4e96-c530-665e4656adaa"
      },
      "execution_count": null,
      "outputs": [
        {
          "output_type": "execute_result",
          "data": {
            "text/plain": [
              "             REG_FEE         COMMIS\n",
              "count    7109.000000    7109.000000\n",
              "mean   376938.330708  141005.726544\n",
              "std    143070.662010   78768.093718\n",
              "min     71177.000000    5055.000000\n",
              "25%    272406.000000   84219.000000\n",
              "50%    349486.000000  127628.000000\n",
              "75%    451562.000000  184506.000000\n",
              "max    983922.000000  495405.000000"
            ],
            "text/html": [
              "\n",
              "  <div id=\"df-a90c57ec-3b99-4550-84b1-1d85a62444d0\">\n",
              "    <div class=\"colab-df-container\">\n",
              "      <div>\n",
              "<style scoped>\n",
              "    .dataframe tbody tr th:only-of-type {\n",
              "        vertical-align: middle;\n",
              "    }\n",
              "\n",
              "    .dataframe tbody tr th {\n",
              "        vertical-align: top;\n",
              "    }\n",
              "\n",
              "    .dataframe thead th {\n",
              "        text-align: right;\n",
              "    }\n",
              "</style>\n",
              "<table border=\"1\" class=\"dataframe\">\n",
              "  <thead>\n",
              "    <tr style=\"text-align: right;\">\n",
              "      <th></th>\n",
              "      <th>REG_FEE</th>\n",
              "      <th>COMMIS</th>\n",
              "    </tr>\n",
              "  </thead>\n",
              "  <tbody>\n",
              "    <tr>\n",
              "      <th>count</th>\n",
              "      <td>7109.000000</td>\n",
              "      <td>7109.000000</td>\n",
              "    </tr>\n",
              "    <tr>\n",
              "      <th>mean</th>\n",
              "      <td>376938.330708</td>\n",
              "      <td>141005.726544</td>\n",
              "    </tr>\n",
              "    <tr>\n",
              "      <th>std</th>\n",
              "      <td>143070.662010</td>\n",
              "      <td>78768.093718</td>\n",
              "    </tr>\n",
              "    <tr>\n",
              "      <th>min</th>\n",
              "      <td>71177.000000</td>\n",
              "      <td>5055.000000</td>\n",
              "    </tr>\n",
              "    <tr>\n",
              "      <th>25%</th>\n",
              "      <td>272406.000000</td>\n",
              "      <td>84219.000000</td>\n",
              "    </tr>\n",
              "    <tr>\n",
              "      <th>50%</th>\n",
              "      <td>349486.000000</td>\n",
              "      <td>127628.000000</td>\n",
              "    </tr>\n",
              "    <tr>\n",
              "      <th>75%</th>\n",
              "      <td>451562.000000</td>\n",
              "      <td>184506.000000</td>\n",
              "    </tr>\n",
              "    <tr>\n",
              "      <th>max</th>\n",
              "      <td>983922.000000</td>\n",
              "      <td>495405.000000</td>\n",
              "    </tr>\n",
              "  </tbody>\n",
              "</table>\n",
              "</div>\n",
              "      <button class=\"colab-df-convert\" onclick=\"convertToInteractive('df-a90c57ec-3b99-4550-84b1-1d85a62444d0')\"\n",
              "              title=\"Convert this dataframe to an interactive table.\"\n",
              "              style=\"display:none;\">\n",
              "        \n",
              "  <svg xmlns=\"http://www.w3.org/2000/svg\" height=\"24px\"viewBox=\"0 0 24 24\"\n",
              "       width=\"24px\">\n",
              "    <path d=\"M0 0h24v24H0V0z\" fill=\"none\"/>\n",
              "    <path d=\"M18.56 5.44l.94 2.06.94-2.06 2.06-.94-2.06-.94-.94-2.06-.94 2.06-2.06.94zm-11 1L8.5 8.5l.94-2.06 2.06-.94-2.06-.94L8.5 2.5l-.94 2.06-2.06.94zm10 10l.94 2.06.94-2.06 2.06-.94-2.06-.94-.94-2.06-.94 2.06-2.06.94z\"/><path d=\"M17.41 7.96l-1.37-1.37c-.4-.4-.92-.59-1.43-.59-.52 0-1.04.2-1.43.59L10.3 9.45l-7.72 7.72c-.78.78-.78 2.05 0 2.83L4 21.41c.39.39.9.59 1.41.59.51 0 1.02-.2 1.41-.59l7.78-7.78 2.81-2.81c.8-.78.8-2.07 0-2.86zM5.41 20L4 18.59l7.72-7.72 1.47 1.35L5.41 20z\"/>\n",
              "  </svg>\n",
              "      </button>\n",
              "      \n",
              "  <style>\n",
              "    .colab-df-container {\n",
              "      display:flex;\n",
              "      flex-wrap:wrap;\n",
              "      gap: 12px;\n",
              "    }\n",
              "\n",
              "    .colab-df-convert {\n",
              "      background-color: #E8F0FE;\n",
              "      border: none;\n",
              "      border-radius: 50%;\n",
              "      cursor: pointer;\n",
              "      display: none;\n",
              "      fill: #1967D2;\n",
              "      height: 32px;\n",
              "      padding: 0 0 0 0;\n",
              "      width: 32px;\n",
              "    }\n",
              "\n",
              "    .colab-df-convert:hover {\n",
              "      background-color: #E2EBFA;\n",
              "      box-shadow: 0px 1px 2px rgba(60, 64, 67, 0.3), 0px 1px 3px 1px rgba(60, 64, 67, 0.15);\n",
              "      fill: #174EA6;\n",
              "    }\n",
              "\n",
              "    [theme=dark] .colab-df-convert {\n",
              "      background-color: #3B4455;\n",
              "      fill: #D2E3FC;\n",
              "    }\n",
              "\n",
              "    [theme=dark] .colab-df-convert:hover {\n",
              "      background-color: #434B5C;\n",
              "      box-shadow: 0px 1px 3px 1px rgba(0, 0, 0, 0.15);\n",
              "      filter: drop-shadow(0px 1px 2px rgba(0, 0, 0, 0.3));\n",
              "      fill: #FFFFFF;\n",
              "    }\n",
              "  </style>\n",
              "\n",
              "      <script>\n",
              "        const buttonEl =\n",
              "          document.querySelector('#df-a90c57ec-3b99-4550-84b1-1d85a62444d0 button.colab-df-convert');\n",
              "        buttonEl.style.display =\n",
              "          google.colab.kernel.accessAllowed ? 'block' : 'none';\n",
              "\n",
              "        async function convertToInteractive(key) {\n",
              "          const element = document.querySelector('#df-a90c57ec-3b99-4550-84b1-1d85a62444d0');\n",
              "          const dataTable =\n",
              "            await google.colab.kernel.invokeFunction('convertToInteractive',\n",
              "                                                     [key], {});\n",
              "          if (!dataTable) return;\n",
              "\n",
              "          const docLinkHtml = 'Like what you see? Visit the ' +\n",
              "            '<a target=\"_blank\" href=https://colab.research.google.com/notebooks/data_table.ipynb>data table notebook</a>'\n",
              "            + ' to learn more about interactive tables.';\n",
              "          element.innerHTML = '';\n",
              "          dataTable['output_type'] = 'display_data';\n",
              "          await google.colab.output.renderOutput(dataTable, element);\n",
              "          const docLink = document.createElement('div');\n",
              "          docLink.innerHTML = docLinkHtml;\n",
              "          element.appendChild(docLink);\n",
              "        }\n",
              "      </script>\n",
              "    </div>\n",
              "  </div>\n",
              "  "
            ]
          },
          "metadata": {},
          "execution_count": 100
        }
      ]
    },
    {
      "cell_type": "code",
      "source": [
        "del df['REG_FEE']\n",
        "del df['COMMIS']"
      ],
      "metadata": {
        "id": "wHYQqCalL4ZO"
      },
      "execution_count": null,
      "outputs": []
    },
    {
      "cell_type": "markdown",
      "source": [
        "**Sales Price: Target (Dependent Variable)**"
      ],
      "metadata": {
        "id": "XmS7zi1MMOhP"
      }
    },
    {
      "cell_type": "code",
      "source": [
        "df['SALES_PRICE'].describe()"
      ],
      "metadata": {
        "id": "yEHmg0opMI8X",
        "colab": {
          "base_uri": "https://localhost:8080/"
        },
        "outputId": "033b6359-7eb8-4f14-b66f-284f201b230e"
      },
      "execution_count": null,
      "outputs": [
        {
          "output_type": "execute_result",
          "data": {
            "text/plain": [
              "count    7.109000e+03\n",
              "mean     1.089491e+07\n",
              "std      3.768603e+06\n",
              "min      2.156875e+06\n",
              "25%      8.272100e+06\n",
              "50%      1.033505e+07\n",
              "75%      1.299390e+07\n",
              "max      2.366734e+07\n",
              "Name: SALES_PRICE, dtype: float64"
            ]
          },
          "metadata": {},
          "execution_count": 102
        }
      ]
    },
    {
      "cell_type": "code",
      "source": [
        "# outliers\n",
        "\n",
        "Q3, Q1 = np.percentile(df['SALES_PRICE'], [75, 25])\n",
        "\n",
        "IQR = Q3 - Q1\n",
        "print(IQR)\n",
        "\n",
        "# upper limit and lower limit Threshold\n",
        "\n",
        "UL = Q3 + (1.5 * IQR)\n",
        "LL = Q1 - (1.5 * IQR)\n",
        "\n",
        "print('UL : ', UL, 'LL : ', LL)\n",
        "\n",
        "df.loc[df['SALES_PRICE'] > UL, :]"
      ],
      "metadata": {
        "id": "8YzG9YmQMUrd",
        "colab": {
          "base_uri": "https://localhost:8080/",
          "height": 697
        },
        "outputId": "d9cccc10-99be-4c71-e56a-ea657fd7f745"
      },
      "execution_count": null,
      "outputs": [
        {
          "output_type": "stream",
          "name": "stdout",
          "text": [
            "4721800.0\n",
            "UL :  20076600.0 LL :  1189400.0\n"
          ]
        },
        {
          "output_type": "execute_result",
          "data": {
            "text/plain": [
              "            AREA  INT_SQFT  DATE_SALE  DIST_MAINROAD  N_BEDROOM  N_BATHROOM  \\\n",
              "1     Anna Nagar      1986 2006-12-19             26          1         1.0   \n",
              "19    Anna Nagar      1902 2012-02-07            168          1         1.0   \n",
              "47    Anna Nagar      1710 2009-12-11             15          1         1.0   \n",
              "125      T Nagar      1973 2007-01-29             63          1         1.0   \n",
              "168      T Nagar      1926 2007-05-27            193          1         1.0   \n",
              "...          ...       ...        ...            ...        ...         ...   \n",
              "7000     T Nagar      1901 2007-12-31             83          1         1.0   \n",
              "7008     T Nagar      1810 2014-06-06            109          1         1.0   \n",
              "7024  Anna Nagar      1703 2007-04-16            164          1         1.0   \n",
              "7058     T Nagar      1858 2009-02-27             36          1         1.0   \n",
              "7076     T Nagar      1921 2013-09-22            188          1         1.0   \n",
              "\n",
              "      N_ROOM    SALE_COND PARK_FACIL  DATE_BUILD   BUILDTYPE UTILITY_AVAIL  \\\n",
              "1          5     AbNormal         No  22-12-1995  Commercial        AllPub   \n",
              "19         5       Family        Yes  13-07-1970  Commercial           ELO   \n",
              "47         4  Normal Sale        Yes  15-11-1998  Commercial        AllPub   \n",
              "125        5       Family        Yes  07-02-1972  Commercial        AllPub   \n",
              "168        5      AdjLand        Yes  31-05-1990  Commercial       NoSewr    \n",
              "...      ...          ...        ...         ...         ...           ...   \n",
              "7000       5  Normal Sale        Yes  01-01-2003  Commercial           ELO   \n",
              "7008       5      AdjLand        Yes  09-06-2000  Commercial       NoSewr    \n",
              "7024       4      AdjLand        Yes  17-04-2002  Commercial        AllPub   \n",
              "7058       5  Normal Sale        Yes  08-03-1974  Commercial           ELO   \n",
              "7076       5       Family        Yes  26-09-1998  Commercial        NoSeWa   \n",
              "\n",
              "         STREET MZZONE  QS_ROOMS  QS_BATHROOM  QS_BEDROOM  QS_OVERALL  \\\n",
              "1        Gravel     RH       4.9          4.2         2.5       3.765   \n",
              "19        Paved     RL       4.5          4.9         4.9       4.760   \n",
              "47       Gravel     RH       2.7          4.0         2.2       2.825   \n",
              "125      Gravel     RM       2.6          2.9         4.9       3.710   \n",
              "168   No Access     RM       4.2          4.9         3.1       3.880   \n",
              "...         ...    ...       ...          ...         ...         ...   \n",
              "7000      Paved     RM       4.9          2.2         2.6       3.190   \n",
              "7008  No Access     RM       2.6          2.2         2.5       2.455   \n",
              "7024      Paved     RL       2.7          3.6         3.5       3.245   \n",
              "7058  No Access     RM       2.0          4.7         4.9       3.980   \n",
              "7076     Gravel     RM       4.8          2.7         3.7       3.780   \n",
              "\n",
              "      SALES_PRICE  \n",
              "1        21717770  \n",
              "19       21203240  \n",
              "47       20215970  \n",
              "125      23307000  \n",
              "168      22630540  \n",
              "...           ...  \n",
              "7000     22629400  \n",
              "7008     21556330  \n",
              "7024     20782250  \n",
              "7058     21185700  \n",
              "7076     23013500  \n",
              "\n",
              "[228 rows x 19 columns]"
            ],
            "text/html": [
              "\n",
              "  <div id=\"df-6ee51612-1559-4737-86af-f0d3cc0ce8a4\">\n",
              "    <div class=\"colab-df-container\">\n",
              "      <div>\n",
              "<style scoped>\n",
              "    .dataframe tbody tr th:only-of-type {\n",
              "        vertical-align: middle;\n",
              "    }\n",
              "\n",
              "    .dataframe tbody tr th {\n",
              "        vertical-align: top;\n",
              "    }\n",
              "\n",
              "    .dataframe thead th {\n",
              "        text-align: right;\n",
              "    }\n",
              "</style>\n",
              "<table border=\"1\" class=\"dataframe\">\n",
              "  <thead>\n",
              "    <tr style=\"text-align: right;\">\n",
              "      <th></th>\n",
              "      <th>AREA</th>\n",
              "      <th>INT_SQFT</th>\n",
              "      <th>DATE_SALE</th>\n",
              "      <th>DIST_MAINROAD</th>\n",
              "      <th>N_BEDROOM</th>\n",
              "      <th>N_BATHROOM</th>\n",
              "      <th>N_ROOM</th>\n",
              "      <th>SALE_COND</th>\n",
              "      <th>PARK_FACIL</th>\n",
              "      <th>DATE_BUILD</th>\n",
              "      <th>BUILDTYPE</th>\n",
              "      <th>UTILITY_AVAIL</th>\n",
              "      <th>STREET</th>\n",
              "      <th>MZZONE</th>\n",
              "      <th>QS_ROOMS</th>\n",
              "      <th>QS_BATHROOM</th>\n",
              "      <th>QS_BEDROOM</th>\n",
              "      <th>QS_OVERALL</th>\n",
              "      <th>SALES_PRICE</th>\n",
              "    </tr>\n",
              "  </thead>\n",
              "  <tbody>\n",
              "    <tr>\n",
              "      <th>1</th>\n",
              "      <td>Anna Nagar</td>\n",
              "      <td>1986</td>\n",
              "      <td>2006-12-19</td>\n",
              "      <td>26</td>\n",
              "      <td>1</td>\n",
              "      <td>1.0</td>\n",
              "      <td>5</td>\n",
              "      <td>AbNormal</td>\n",
              "      <td>No</td>\n",
              "      <td>22-12-1995</td>\n",
              "      <td>Commercial</td>\n",
              "      <td>AllPub</td>\n",
              "      <td>Gravel</td>\n",
              "      <td>RH</td>\n",
              "      <td>4.9</td>\n",
              "      <td>4.2</td>\n",
              "      <td>2.5</td>\n",
              "      <td>3.765</td>\n",
              "      <td>21717770</td>\n",
              "    </tr>\n",
              "    <tr>\n",
              "      <th>19</th>\n",
              "      <td>Anna Nagar</td>\n",
              "      <td>1902</td>\n",
              "      <td>2012-02-07</td>\n",
              "      <td>168</td>\n",
              "      <td>1</td>\n",
              "      <td>1.0</td>\n",
              "      <td>5</td>\n",
              "      <td>Family</td>\n",
              "      <td>Yes</td>\n",
              "      <td>13-07-1970</td>\n",
              "      <td>Commercial</td>\n",
              "      <td>ELO</td>\n",
              "      <td>Paved</td>\n",
              "      <td>RL</td>\n",
              "      <td>4.5</td>\n",
              "      <td>4.9</td>\n",
              "      <td>4.9</td>\n",
              "      <td>4.760</td>\n",
              "      <td>21203240</td>\n",
              "    </tr>\n",
              "    <tr>\n",
              "      <th>47</th>\n",
              "      <td>Anna Nagar</td>\n",
              "      <td>1710</td>\n",
              "      <td>2009-12-11</td>\n",
              "      <td>15</td>\n",
              "      <td>1</td>\n",
              "      <td>1.0</td>\n",
              "      <td>4</td>\n",
              "      <td>Normal Sale</td>\n",
              "      <td>Yes</td>\n",
              "      <td>15-11-1998</td>\n",
              "      <td>Commercial</td>\n",
              "      <td>AllPub</td>\n",
              "      <td>Gravel</td>\n",
              "      <td>RH</td>\n",
              "      <td>2.7</td>\n",
              "      <td>4.0</td>\n",
              "      <td>2.2</td>\n",
              "      <td>2.825</td>\n",
              "      <td>20215970</td>\n",
              "    </tr>\n",
              "    <tr>\n",
              "      <th>125</th>\n",
              "      <td>T Nagar</td>\n",
              "      <td>1973</td>\n",
              "      <td>2007-01-29</td>\n",
              "      <td>63</td>\n",
              "      <td>1</td>\n",
              "      <td>1.0</td>\n",
              "      <td>5</td>\n",
              "      <td>Family</td>\n",
              "      <td>Yes</td>\n",
              "      <td>07-02-1972</td>\n",
              "      <td>Commercial</td>\n",
              "      <td>AllPub</td>\n",
              "      <td>Gravel</td>\n",
              "      <td>RM</td>\n",
              "      <td>2.6</td>\n",
              "      <td>2.9</td>\n",
              "      <td>4.9</td>\n",
              "      <td>3.710</td>\n",
              "      <td>23307000</td>\n",
              "    </tr>\n",
              "    <tr>\n",
              "      <th>168</th>\n",
              "      <td>T Nagar</td>\n",
              "      <td>1926</td>\n",
              "      <td>2007-05-27</td>\n",
              "      <td>193</td>\n",
              "      <td>1</td>\n",
              "      <td>1.0</td>\n",
              "      <td>5</td>\n",
              "      <td>AdjLand</td>\n",
              "      <td>Yes</td>\n",
              "      <td>31-05-1990</td>\n",
              "      <td>Commercial</td>\n",
              "      <td>NoSewr</td>\n",
              "      <td>No Access</td>\n",
              "      <td>RM</td>\n",
              "      <td>4.2</td>\n",
              "      <td>4.9</td>\n",
              "      <td>3.1</td>\n",
              "      <td>3.880</td>\n",
              "      <td>22630540</td>\n",
              "    </tr>\n",
              "    <tr>\n",
              "      <th>...</th>\n",
              "      <td>...</td>\n",
              "      <td>...</td>\n",
              "      <td>...</td>\n",
              "      <td>...</td>\n",
              "      <td>...</td>\n",
              "      <td>...</td>\n",
              "      <td>...</td>\n",
              "      <td>...</td>\n",
              "      <td>...</td>\n",
              "      <td>...</td>\n",
              "      <td>...</td>\n",
              "      <td>...</td>\n",
              "      <td>...</td>\n",
              "      <td>...</td>\n",
              "      <td>...</td>\n",
              "      <td>...</td>\n",
              "      <td>...</td>\n",
              "      <td>...</td>\n",
              "      <td>...</td>\n",
              "    </tr>\n",
              "    <tr>\n",
              "      <th>7000</th>\n",
              "      <td>T Nagar</td>\n",
              "      <td>1901</td>\n",
              "      <td>2007-12-31</td>\n",
              "      <td>83</td>\n",
              "      <td>1</td>\n",
              "      <td>1.0</td>\n",
              "      <td>5</td>\n",
              "      <td>Normal Sale</td>\n",
              "      <td>Yes</td>\n",
              "      <td>01-01-2003</td>\n",
              "      <td>Commercial</td>\n",
              "      <td>ELO</td>\n",
              "      <td>Paved</td>\n",
              "      <td>RM</td>\n",
              "      <td>4.9</td>\n",
              "      <td>2.2</td>\n",
              "      <td>2.6</td>\n",
              "      <td>3.190</td>\n",
              "      <td>22629400</td>\n",
              "    </tr>\n",
              "    <tr>\n",
              "      <th>7008</th>\n",
              "      <td>T Nagar</td>\n",
              "      <td>1810</td>\n",
              "      <td>2014-06-06</td>\n",
              "      <td>109</td>\n",
              "      <td>1</td>\n",
              "      <td>1.0</td>\n",
              "      <td>5</td>\n",
              "      <td>AdjLand</td>\n",
              "      <td>Yes</td>\n",
              "      <td>09-06-2000</td>\n",
              "      <td>Commercial</td>\n",
              "      <td>NoSewr</td>\n",
              "      <td>No Access</td>\n",
              "      <td>RM</td>\n",
              "      <td>2.6</td>\n",
              "      <td>2.2</td>\n",
              "      <td>2.5</td>\n",
              "      <td>2.455</td>\n",
              "      <td>21556330</td>\n",
              "    </tr>\n",
              "    <tr>\n",
              "      <th>7024</th>\n",
              "      <td>Anna Nagar</td>\n",
              "      <td>1703</td>\n",
              "      <td>2007-04-16</td>\n",
              "      <td>164</td>\n",
              "      <td>1</td>\n",
              "      <td>1.0</td>\n",
              "      <td>4</td>\n",
              "      <td>AdjLand</td>\n",
              "      <td>Yes</td>\n",
              "      <td>17-04-2002</td>\n",
              "      <td>Commercial</td>\n",
              "      <td>AllPub</td>\n",
              "      <td>Paved</td>\n",
              "      <td>RL</td>\n",
              "      <td>2.7</td>\n",
              "      <td>3.6</td>\n",
              "      <td>3.5</td>\n",
              "      <td>3.245</td>\n",
              "      <td>20782250</td>\n",
              "    </tr>\n",
              "    <tr>\n",
              "      <th>7058</th>\n",
              "      <td>T Nagar</td>\n",
              "      <td>1858</td>\n",
              "      <td>2009-02-27</td>\n",
              "      <td>36</td>\n",
              "      <td>1</td>\n",
              "      <td>1.0</td>\n",
              "      <td>5</td>\n",
              "      <td>Normal Sale</td>\n",
              "      <td>Yes</td>\n",
              "      <td>08-03-1974</td>\n",
              "      <td>Commercial</td>\n",
              "      <td>ELO</td>\n",
              "      <td>No Access</td>\n",
              "      <td>RM</td>\n",
              "      <td>2.0</td>\n",
              "      <td>4.7</td>\n",
              "      <td>4.9</td>\n",
              "      <td>3.980</td>\n",
              "      <td>21185700</td>\n",
              "    </tr>\n",
              "    <tr>\n",
              "      <th>7076</th>\n",
              "      <td>T Nagar</td>\n",
              "      <td>1921</td>\n",
              "      <td>2013-09-22</td>\n",
              "      <td>188</td>\n",
              "      <td>1</td>\n",
              "      <td>1.0</td>\n",
              "      <td>5</td>\n",
              "      <td>Family</td>\n",
              "      <td>Yes</td>\n",
              "      <td>26-09-1998</td>\n",
              "      <td>Commercial</td>\n",
              "      <td>NoSeWa</td>\n",
              "      <td>Gravel</td>\n",
              "      <td>RM</td>\n",
              "      <td>4.8</td>\n",
              "      <td>2.7</td>\n",
              "      <td>3.7</td>\n",
              "      <td>3.780</td>\n",
              "      <td>23013500</td>\n",
              "    </tr>\n",
              "  </tbody>\n",
              "</table>\n",
              "<p>228 rows × 19 columns</p>\n",
              "</div>\n",
              "      <button class=\"colab-df-convert\" onclick=\"convertToInteractive('df-6ee51612-1559-4737-86af-f0d3cc0ce8a4')\"\n",
              "              title=\"Convert this dataframe to an interactive table.\"\n",
              "              style=\"display:none;\">\n",
              "        \n",
              "  <svg xmlns=\"http://www.w3.org/2000/svg\" height=\"24px\"viewBox=\"0 0 24 24\"\n",
              "       width=\"24px\">\n",
              "    <path d=\"M0 0h24v24H0V0z\" fill=\"none\"/>\n",
              "    <path d=\"M18.56 5.44l.94 2.06.94-2.06 2.06-.94-2.06-.94-.94-2.06-.94 2.06-2.06.94zm-11 1L8.5 8.5l.94-2.06 2.06-.94-2.06-.94L8.5 2.5l-.94 2.06-2.06.94zm10 10l.94 2.06.94-2.06 2.06-.94-2.06-.94-.94-2.06-.94 2.06-2.06.94z\"/><path d=\"M17.41 7.96l-1.37-1.37c-.4-.4-.92-.59-1.43-.59-.52 0-1.04.2-1.43.59L10.3 9.45l-7.72 7.72c-.78.78-.78 2.05 0 2.83L4 21.41c.39.39.9.59 1.41.59.51 0 1.02-.2 1.41-.59l7.78-7.78 2.81-2.81c.8-.78.8-2.07 0-2.86zM5.41 20L4 18.59l7.72-7.72 1.47 1.35L5.41 20z\"/>\n",
              "  </svg>\n",
              "      </button>\n",
              "      \n",
              "  <style>\n",
              "    .colab-df-container {\n",
              "      display:flex;\n",
              "      flex-wrap:wrap;\n",
              "      gap: 12px;\n",
              "    }\n",
              "\n",
              "    .colab-df-convert {\n",
              "      background-color: #E8F0FE;\n",
              "      border: none;\n",
              "      border-radius: 50%;\n",
              "      cursor: pointer;\n",
              "      display: none;\n",
              "      fill: #1967D2;\n",
              "      height: 32px;\n",
              "      padding: 0 0 0 0;\n",
              "      width: 32px;\n",
              "    }\n",
              "\n",
              "    .colab-df-convert:hover {\n",
              "      background-color: #E2EBFA;\n",
              "      box-shadow: 0px 1px 2px rgba(60, 64, 67, 0.3), 0px 1px 3px 1px rgba(60, 64, 67, 0.15);\n",
              "      fill: #174EA6;\n",
              "    }\n",
              "\n",
              "    [theme=dark] .colab-df-convert {\n",
              "      background-color: #3B4455;\n",
              "      fill: #D2E3FC;\n",
              "    }\n",
              "\n",
              "    [theme=dark] .colab-df-convert:hover {\n",
              "      background-color: #434B5C;\n",
              "      box-shadow: 0px 1px 3px 1px rgba(0, 0, 0, 0.15);\n",
              "      filter: drop-shadow(0px 1px 2px rgba(0, 0, 0, 0.3));\n",
              "      fill: #FFFFFF;\n",
              "    }\n",
              "  </style>\n",
              "\n",
              "      <script>\n",
              "        const buttonEl =\n",
              "          document.querySelector('#df-6ee51612-1559-4737-86af-f0d3cc0ce8a4 button.colab-df-convert');\n",
              "        buttonEl.style.display =\n",
              "          google.colab.kernel.accessAllowed ? 'block' : 'none';\n",
              "\n",
              "        async function convertToInteractive(key) {\n",
              "          const element = document.querySelector('#df-6ee51612-1559-4737-86af-f0d3cc0ce8a4');\n",
              "          const dataTable =\n",
              "            await google.colab.kernel.invokeFunction('convertToInteractive',\n",
              "                                                     [key], {});\n",
              "          if (!dataTable) return;\n",
              "\n",
              "          const docLinkHtml = 'Like what you see? Visit the ' +\n",
              "            '<a target=\"_blank\" href=https://colab.research.google.com/notebooks/data_table.ipynb>data table notebook</a>'\n",
              "            + ' to learn more about interactive tables.';\n",
              "          element.innerHTML = '';\n",
              "          dataTable['output_type'] = 'display_data';\n",
              "          await google.colab.output.renderOutput(dataTable, element);\n",
              "          const docLink = document.createElement('div');\n",
              "          docLink.innerHTML = docLinkHtml;\n",
              "          element.appendChild(docLink);\n",
              "        }\n",
              "      </script>\n",
              "    </div>\n",
              "  </div>\n",
              "  "
            ]
          },
          "metadata": {},
          "execution_count": 103
        }
      ]
    },
    {
      "cell_type": "code",
      "source": [
        "df.loc[df['SALES_PRICE'] < LL, :]"
      ],
      "metadata": {
        "id": "gfzd521WNfc6",
        "colab": {
          "base_uri": "https://localhost:8080/",
          "height": 113
        },
        "outputId": "97c75224-ac56-47e9-d2a0-2cba46aaba1c"
      },
      "execution_count": null,
      "outputs": [
        {
          "output_type": "execute_result",
          "data": {
            "text/plain": [
              "Empty DataFrame\n",
              "Columns: [AREA, INT_SQFT, DATE_SALE, DIST_MAINROAD, N_BEDROOM, N_BATHROOM, N_ROOM, SALE_COND, PARK_FACIL, DATE_BUILD, BUILDTYPE, UTILITY_AVAIL, STREET, MZZONE, QS_ROOMS, QS_BATHROOM, QS_BEDROOM, QS_OVERALL, SALES_PRICE]\n",
              "Index: []"
            ],
            "text/html": [
              "\n",
              "  <div id=\"df-73cd17d4-6c78-462c-917c-fe8adb568895\">\n",
              "    <div class=\"colab-df-container\">\n",
              "      <div>\n",
              "<style scoped>\n",
              "    .dataframe tbody tr th:only-of-type {\n",
              "        vertical-align: middle;\n",
              "    }\n",
              "\n",
              "    .dataframe tbody tr th {\n",
              "        vertical-align: top;\n",
              "    }\n",
              "\n",
              "    .dataframe thead th {\n",
              "        text-align: right;\n",
              "    }\n",
              "</style>\n",
              "<table border=\"1\" class=\"dataframe\">\n",
              "  <thead>\n",
              "    <tr style=\"text-align: right;\">\n",
              "      <th></th>\n",
              "      <th>AREA</th>\n",
              "      <th>INT_SQFT</th>\n",
              "      <th>DATE_SALE</th>\n",
              "      <th>DIST_MAINROAD</th>\n",
              "      <th>N_BEDROOM</th>\n",
              "      <th>N_BATHROOM</th>\n",
              "      <th>N_ROOM</th>\n",
              "      <th>SALE_COND</th>\n",
              "      <th>PARK_FACIL</th>\n",
              "      <th>DATE_BUILD</th>\n",
              "      <th>BUILDTYPE</th>\n",
              "      <th>UTILITY_AVAIL</th>\n",
              "      <th>STREET</th>\n",
              "      <th>MZZONE</th>\n",
              "      <th>QS_ROOMS</th>\n",
              "      <th>QS_BATHROOM</th>\n",
              "      <th>QS_BEDROOM</th>\n",
              "      <th>QS_OVERALL</th>\n",
              "      <th>SALES_PRICE</th>\n",
              "    </tr>\n",
              "  </thead>\n",
              "  <tbody>\n",
              "  </tbody>\n",
              "</table>\n",
              "</div>\n",
              "      <button class=\"colab-df-convert\" onclick=\"convertToInteractive('df-73cd17d4-6c78-462c-917c-fe8adb568895')\"\n",
              "              title=\"Convert this dataframe to an interactive table.\"\n",
              "              style=\"display:none;\">\n",
              "        \n",
              "  <svg xmlns=\"http://www.w3.org/2000/svg\" height=\"24px\"viewBox=\"0 0 24 24\"\n",
              "       width=\"24px\">\n",
              "    <path d=\"M0 0h24v24H0V0z\" fill=\"none\"/>\n",
              "    <path d=\"M18.56 5.44l.94 2.06.94-2.06 2.06-.94-2.06-.94-.94-2.06-.94 2.06-2.06.94zm-11 1L8.5 8.5l.94-2.06 2.06-.94-2.06-.94L8.5 2.5l-.94 2.06-2.06.94zm10 10l.94 2.06.94-2.06 2.06-.94-2.06-.94-.94-2.06-.94 2.06-2.06.94z\"/><path d=\"M17.41 7.96l-1.37-1.37c-.4-.4-.92-.59-1.43-.59-.52 0-1.04.2-1.43.59L10.3 9.45l-7.72 7.72c-.78.78-.78 2.05 0 2.83L4 21.41c.39.39.9.59 1.41.59.51 0 1.02-.2 1.41-.59l7.78-7.78 2.81-2.81c.8-.78.8-2.07 0-2.86zM5.41 20L4 18.59l7.72-7.72 1.47 1.35L5.41 20z\"/>\n",
              "  </svg>\n",
              "      </button>\n",
              "      \n",
              "  <style>\n",
              "    .colab-df-container {\n",
              "      display:flex;\n",
              "      flex-wrap:wrap;\n",
              "      gap: 12px;\n",
              "    }\n",
              "\n",
              "    .colab-df-convert {\n",
              "      background-color: #E8F0FE;\n",
              "      border: none;\n",
              "      border-radius: 50%;\n",
              "      cursor: pointer;\n",
              "      display: none;\n",
              "      fill: #1967D2;\n",
              "      height: 32px;\n",
              "      padding: 0 0 0 0;\n",
              "      width: 32px;\n",
              "    }\n",
              "\n",
              "    .colab-df-convert:hover {\n",
              "      background-color: #E2EBFA;\n",
              "      box-shadow: 0px 1px 2px rgba(60, 64, 67, 0.3), 0px 1px 3px 1px rgba(60, 64, 67, 0.15);\n",
              "      fill: #174EA6;\n",
              "    }\n",
              "\n",
              "    [theme=dark] .colab-df-convert {\n",
              "      background-color: #3B4455;\n",
              "      fill: #D2E3FC;\n",
              "    }\n",
              "\n",
              "    [theme=dark] .colab-df-convert:hover {\n",
              "      background-color: #434B5C;\n",
              "      box-shadow: 0px 1px 3px 1px rgba(0, 0, 0, 0.15);\n",
              "      filter: drop-shadow(0px 1px 2px rgba(0, 0, 0, 0.3));\n",
              "      fill: #FFFFFF;\n",
              "    }\n",
              "  </style>\n",
              "\n",
              "      <script>\n",
              "        const buttonEl =\n",
              "          document.querySelector('#df-73cd17d4-6c78-462c-917c-fe8adb568895 button.colab-df-convert');\n",
              "        buttonEl.style.display =\n",
              "          google.colab.kernel.accessAllowed ? 'block' : 'none';\n",
              "\n",
              "        async function convertToInteractive(key) {\n",
              "          const element = document.querySelector('#df-73cd17d4-6c78-462c-917c-fe8adb568895');\n",
              "          const dataTable =\n",
              "            await google.colab.kernel.invokeFunction('convertToInteractive',\n",
              "                                                     [key], {});\n",
              "          if (!dataTable) return;\n",
              "\n",
              "          const docLinkHtml = 'Like what you see? Visit the ' +\n",
              "            '<a target=\"_blank\" href=https://colab.research.google.com/notebooks/data_table.ipynb>data table notebook</a>'\n",
              "            + ' to learn more about interactive tables.';\n",
              "          element.innerHTML = '';\n",
              "          dataTable['output_type'] = 'display_data';\n",
              "          await google.colab.output.renderOutput(dataTable, element);\n",
              "          const docLink = document.createElement('div');\n",
              "          docLink.innerHTML = docLinkHtml;\n",
              "          element.appendChild(docLink);\n",
              "        }\n",
              "      </script>\n",
              "    </div>\n",
              "  </div>\n",
              "  "
            ]
          },
          "metadata": {},
          "execution_count": 107
        }
      ]
    },
    {
      "cell_type": "markdown",
      "source": [
        "# **Explorotory Data Analysis (EDA)**"
      ],
      "metadata": {
        "id": "sYAuzqyHwNmT"
      }
    },
    {
      "cell_type": "code",
      "source": [
        "df.info()"
      ],
      "metadata": {
        "id": "oK7pfM0_wxGv",
        "colab": {
          "base_uri": "https://localhost:8080/"
        },
        "outputId": "8c4ecf2f-8dcb-4db1-aa16-08a412c69909"
      },
      "execution_count": null,
      "outputs": [
        {
          "output_type": "stream",
          "name": "stdout",
          "text": [
            "<class 'pandas.core.frame.DataFrame'>\n",
            "RangeIndex: 7109 entries, 0 to 7108\n",
            "Data columns (total 19 columns):\n",
            " #   Column         Non-Null Count  Dtype         \n",
            "---  ------         --------------  -----         \n",
            " 0   AREA           7109 non-null   object        \n",
            " 1   INT_SQFT       7109 non-null   int64         \n",
            " 2   DATE_SALE      7109 non-null   datetime64[ns]\n",
            " 3   DIST_MAINROAD  7109 non-null   int64         \n",
            " 4   N_BEDROOM      7109 non-null   int64         \n",
            " 5   N_BATHROOM     7109 non-null   float64       \n",
            " 6   N_ROOM         7109 non-null   int64         \n",
            " 7   SALE_COND      7109 non-null   object        \n",
            " 8   PARK_FACIL     7109 non-null   object        \n",
            " 9   DATE_BUILD     7109 non-null   object        \n",
            " 10  BUILDTYPE      7109 non-null   object        \n",
            " 11  UTILITY_AVAIL  7109 non-null   object        \n",
            " 12  STREET         7109 non-null   object        \n",
            " 13  MZZONE         7109 non-null   object        \n",
            " 14  QS_ROOMS       7109 non-null   float64       \n",
            " 15  QS_BATHROOM    7109 non-null   float64       \n",
            " 16  QS_BEDROOM     7109 non-null   float64       \n",
            " 17  QS_OVERALL     7109 non-null   float64       \n",
            " 18  SALES_PRICE    7109 non-null   int64         \n",
            "dtypes: datetime64[ns](1), float64(5), int64(5), object(8)\n",
            "memory usage: 1.0+ MB\n"
          ]
        }
      ]
    },
    {
      "cell_type": "code",
      "source": [
        "df.isna().sum()"
      ],
      "metadata": {
        "id": "-2Ci3_KdQiM8",
        "colab": {
          "base_uri": "https://localhost:8080/"
        },
        "outputId": "f68be10c-a0c2-4b16-e5c5-a6a7d7c3a9f5"
      },
      "execution_count": null,
      "outputs": [
        {
          "output_type": "execute_result",
          "data": {
            "text/plain": [
              "AREA             0\n",
              "INT_SQFT         0\n",
              "DATE_SALE        0\n",
              "DIST_MAINROAD    0\n",
              "N_BEDROOM        0\n",
              "N_BATHROOM       0\n",
              "N_ROOM           0\n",
              "SALE_COND        0\n",
              "PARK_FACIL       0\n",
              "DATE_BUILD       0\n",
              "BUILDTYPE        0\n",
              "UTILITY_AVAIL    0\n",
              "STREET           0\n",
              "MZZONE           0\n",
              "QS_ROOMS         0\n",
              "QS_BATHROOM      0\n",
              "QS_BEDROOM       0\n",
              "QS_OVERALL       0\n",
              "SALES_PRICE      0\n",
              "dtype: int64"
            ]
          },
          "metadata": {},
          "execution_count": 109
        }
      ]
    },
    {
      "cell_type": "code",
      "source": [
        "# deleting unrequired columns, from which we had derived AGE_OF_BUILDING column\n",
        "\n",
        "del df['DATE_SALE']\n",
        "del df['DATE_BUILD']"
      ],
      "metadata": {
        "id": "0g1Llyu7Qpub"
      },
      "execution_count": null,
      "outputs": []
    },
    {
      "cell_type": "code",
      "source": [
        "df_cat = df.select_dtypes(include = 'object')\n",
        "df_cat = df_cat.columns.tolist()\n",
        "print('Categorical : ', df_cat, '\\n')\n",
        "\n",
        "df_num = df.select_dtypes(exclude = 'object')\n",
        "df_num = df_num.columns.tolist()\n",
        "print('Numerical : ', df_num)\n",
        "\n",
        "df_num.remove('SALES_PRICE')\n",
        "print('Numerical : ', df_num)"
      ],
      "metadata": {
        "id": "C10tTX_FQ-lN",
        "colab": {
          "base_uri": "https://localhost:8080/"
        },
        "outputId": "6c229f4d-b04e-480f-f01e-2152c7bb0a7d"
      },
      "execution_count": null,
      "outputs": [
        {
          "output_type": "stream",
          "name": "stdout",
          "text": [
            "Categorical :  ['AREA', 'SALE_COND', 'PARK_FACIL', 'BUILDTYPE', 'UTILITY_AVAIL', 'STREET', 'MZZONE'] \n",
            "\n",
            "Numerical :  ['INT_SQFT', 'DIST_MAINROAD', 'N_BEDROOM', 'N_BATHROOM', 'N_ROOM', 'QS_ROOMS', 'QS_BATHROOM', 'QS_BEDROOM', 'QS_OVERALL', 'SALES_PRICE']\n",
            "Numerical :  ['INT_SQFT', 'DIST_MAINROAD', 'N_BEDROOM', 'N_BATHROOM', 'N_ROOM', 'QS_ROOMS', 'QS_BATHROOM', 'QS_BEDROOM', 'QS_OVERALL']\n"
          ]
        }
      ]
    },
    {
      "cell_type": "code",
      "source": [
        "from scipy.stats import skew"
      ],
      "metadata": {
        "id": "UZI-Zd4gcnwE"
      },
      "execution_count": null,
      "outputs": []
    },
    {
      "cell_type": "code",
      "source": [
        "j = 0\n",
        "plt.figure(figsize = (22,5,25))\n",
        "plt.suptitle('Distribution of Numerical Features', fontsize=25)\n",
        "\n",
        "for i in df_num:\n",
        "  plt.subplot(4,3,j+1)\n",
        "  skew = df[i].skew(axis=0).astype(np.float32).round(2)\n",
        "  plt.hist(df[i], label = 'Skewness : {}\\n{}'.formst(skew,df[i].value_counts().head(2)))\n",
        "  plt.xlabel(i)\n",
        "  plt.legend()\n",
        "  plt.title('Distribution of {}'.format(i))\n",
        "  j += 1\n",
        "\n",
        "  plt.subplots_adjust(left = 0.1,\n",
        "                      bottom = 0.1,\n",
        "                      right = 0.9,\n",
        "                      top = 0.9,\n",
        "                      wspace = 0.4,\n",
        "                      hspace = 0.9)\n",
        "  plt.show()"
      ],
      "metadata": {
        "id": "Pq2wXc9AcxfH"
      },
      "execution_count": null,
      "outputs": []
    },
    {
      "cell_type": "markdown",
      "source": [
        "**Feature vs Target plot:**"
      ],
      "metadata": {
        "id": "YFmd0b6DjHTL"
      }
    },
    {
      "cell_type": "code",
      "source": [
        "j = 0\n",
        "plt.figure(figsize = (20, 30))\n",
        "plt.suptitle('Numerical Feature vs Target (Sales_Price)', fontsize=25)\n",
        "\n",
        "for i in df_num:\n",
        "  plt.subplot(4,3,j+1)\n",
        "  lab = df[[i, 'SALES_PRICE']].corr()\n",
        "  plt.scatter(x = df[i], y = df['SALES_PRICE'], label = f'Correlation : \\n{lab}')\n",
        "  plt.xlabel(i)\n",
        "  plt.ylabel('Sales Price')\n",
        "  plt.title('{} vs Sales Price'.format(i))\n",
        "  plt.legend()\n",
        "  j += 1\n",
        "\n",
        "  plt.subplots_adjust(left = 0.1,\n",
        "                      bottom = 0.1,\n",
        "                      right = 0.9,\n",
        "                      top = 0.9,\n",
        "                      wspace = 0.4,\n",
        "                      hspace = 0.9)\n",
        "  plt.show()"
      ],
      "metadata": {
        "id": "mWRwqzp8jE6Y"
      },
      "execution_count": null,
      "outputs": []
    },
    {
      "cell_type": "markdown",
      "source": [
        "**Obervations: Feature vs Target plot**\n",
        "\n",
        "**INT_SQFT:**\n",
        "\n",
        "- There is a relationship between sqft and sales price\n",
        "- There is a linear relationship as the sqft increases the sales price gets increases. There is good correlation of about 0.61\n",
        "- No transformation required\n",
        "\n",
        "**DIST_MAINROAD:**\n",
        "\n",
        "- There is no relationship between Distance from mainroad and sales Price\n",
        "- We couldn't observe any pattern between them\n",
        "- So, we can delete the feature\n",
        "\n",
        "**N_BEDROOM:**\n",
        "\n",
        "- There is a relationship between Numner of Bedrooms and Sales Price\n",
        "- There ia a linear relationship as the Bedrooms varies the sales price gets varied. There is a good correlation of about 0.33\n",
        "- No transformation required\n",
        "\n",
        "**N_BATHROOM:**\n",
        "\n",
        "- There is a relationship between Numner of Bathrooms and Sales Price\n",
        "- There ia no linear relationship a bad correlation of 0.01\n",
        "- So, we can trasform the feature\n",
        "\n",
        "**N_ROOM:**\n",
        "\n",
        "- There is a relationship between Numner of rooms and Sales Price\n",
        "- There ia a linear relationship as the Rooms varies the sales price gets increases the most. There is a good correlation of about 0.60\n",
        "- No transformation required\n",
        "\n",
        "**QS_ROOMS:**\n",
        "\n",
        "- There is no relationship between QS_ROOMS and sales Price\n",
        "- We couldn't observe any pattern between them\n",
        "- So, we can delete the feature\n",
        "\n",
        "**QS_BATHROOMS:**\n",
        "\n",
        "- There is no relationship between QS_BATHROOMS and sales Price\n",
        "- We couldn't observe any pattern between them\n",
        "- So, we can delete the feature\n",
        "\n",
        "**QS_BEDROOMS:**\n",
        "\n",
        "- There is no relationship between QS_BEDROOMS and sales Price\n",
        "- We couldn't observe any pattern between them\n",
        "- So, we can delete the feature\n",
        "\n",
        "**QS_OVERALL:**\n",
        "\n",
        "- There is no relationship between Distance from mainroad and sales Price\n",
        "- We couldn't observe any pattern between them\n",
        "- So, we can delete the feature\n",
        "\n",
        "**AGE_OF_BUILD:**\n",
        "\n",
        "- There is a relationship between Age of Building and sales Price\n",
        "- There is no linear relationship a bad correlation of -0.11\n",
        "- So, we can transform the feature\n",
        "\n",
        "**Features selected:**\n",
        "\n",
        "1. INT_SQFT\n",
        "2. N_BEDROOM\n",
        "3. N_ROOM\n",
        "\n",
        "**Features that need transformation to be used:**\n",
        "\n",
        "1. N_BATHROOM\n",
        "2. AGE_OF_BUILD\n",
        "\n",
        "**Features to be deleted:**\n",
        "\n",
        "1. DIST_MAINROAD\n",
        "2. QS_BEDROOM\n",
        "3. QS_BATHROOM\n",
        "4. QS_ROOMS\n",
        "5. QS_OVERALL"
      ],
      "metadata": {
        "id": "CluBdeAylJQ4"
      }
    },
    {
      "cell_type": "markdown",
      "source": [
        "**Feature Transformation**"
      ],
      "metadata": {
        "id": "x2mXnp3mpe_I"
      }
    },
    {
      "cell_type": "code",
      "source": [
        "def plot():\n",
        "  r = df[['Transformed', 'SALES_PRICE']].corr()\n",
        "  r = float(r['SALES_PRICE'][0])\n",
        "  plt.scatter(df['Transformed'], df['SALES_PRICE'], label = 'Correlation, r: {: 2f}'.format(r))\n",
        "  plt.xlabel('Bathrooms')\n",
        "  plt.ylabel('Sales Price')\n",
        "  plt.legend()\n",
        "  plt.sunplots_adjust(left = 0.1,\n",
        "                      bottom = 0.1,\n",
        "                      right = 0.9,\n",
        "                      top = 0.9,\n",
        "                      wspace = 0.4,\n",
        "                      hspace = 0.9)\n",
        "  \n",
        "  j = 0\n",
        "  plt.figure(figsize = (17,5,5))\n",
        "\n",
        "  for i in range(5):\n",
        "    plt.subplot(1,5,j+1)\n",
        "    if i == 0:\n",
        "      df['Transformed'] = np.square(df['N_BATHROOM'])\n",
        "      plt.title('Square transform')\n",
        "      plot()\n",
        "    elif i == 1:\n",
        "      df['Transformed'] = np.power(df['N_BATHROOM'], 3)\n",
        "      plt.title('Code transform')\n",
        "      plot()\n",
        "    elif i == 2:\n",
        "      df['Transformed'] = np.power(df['N_BATHROOM'], 0.25)\n",
        "      plt.title('Square root transform')\n",
        "      plot()\n",
        "    elif i == 3:\n",
        "      df['Transformed'] = np.exp(df['N_BATHROOM'])\n",
        "      plt.title('Exponential transform')\n",
        "      plot()\n",
        "    else:\n",
        "      df['Transformed'] = np.log(df['N_BATHROOM'])\n",
        "      plt.title('Log transform')\n",
        "      plot()\n",
        "    j += 1"
      ],
      "metadata": {
        "id": "4WhIfc_EpfcB"
      },
      "execution_count": null,
      "outputs": []
    },
    {
      "cell_type": "code",
      "source": [
        "def plot():\n",
        "  r = df[['Transformed', 'SALES_PRICE']].corr()\n",
        "  r = float(r['SALES_PRICE'][0])\n",
        "  plt.scatter(df['Transformed'], df['SALES_PRICE'], label = 'Correlation, r: {: 2f}'.format(r))\n",
        "  plt.xlabel('Age of Build')\n",
        "  plt.ylabel('Sales Price')\n",
        "  plt.legend()\n",
        "  plt.sunplots_adjust(left = 0.1,\n",
        "                      bottom = 0.1,\n",
        "                      right = 0.9,\n",
        "                      top = 0.9,\n",
        "                      wspace = 0.4,\n",
        "                      hspace = 0.9)\n",
        "  \n",
        "  j = 0\n",
        "  plt.figure(figsize = (17,5,5))\n",
        "\n",
        "  for i in range(5):\n",
        "    plt.subplot(1,5,j+1)\n",
        "    if i == 0:\n",
        "      df['Transformed'] = np.square(df['Age of Building'])\n",
        "      plt.title('Square transform')\n",
        "      plot()\n",
        "    elif i == 1:\n",
        "      df['Transformed'] = np.power(df['Age of Building'], 3)\n",
        "      plt.title('Code transform')\n",
        "      plot()\n",
        "    elif i == 2:\n",
        "      df['Transformed'] = np.power(df['Age of Building'], 0.25)\n",
        "      plt.title('Square root transform')\n",
        "      plot()\n",
        "    elif i == 3:\n",
        "      df['Transformed'] = np.exp(df['Age of Building'])\n",
        "      plt.title('Exponential transform')\n",
        "      plot()\n",
        "    else:\n",
        "      df['Transformed'] = np.log(df['Age of Building'])\n",
        "      plt.title('Log transform')\n",
        "      plot()\n",
        "    j += 1"
      ],
      "metadata": {
        "id": "ebUMHCn9QGAu"
      },
      "execution_count": null,
      "outputs": []
    },
    {
      "cell_type": "code",
      "source": [
        "del df['Transformed']"
      ],
      "metadata": {
        "id": "fNHW-FMZQhiX"
      },
      "execution_count": null,
      "outputs": []
    },
    {
      "cell_type": "markdown",
      "source": [
        "**Multicollinearity**"
      ],
      "metadata": {
        "id": "pcR8SXJ5QlL5"
      }
    },
    {
      "cell_type": "code",
      "source": [
        "sns.set(rc = {'figure.figsize': (16,10)})\n",
        "sns.heatmap(df.corr(),\n",
        "            annot = True,\n",
        "            linewidth = .5,\n",
        "            center = 0,\n",
        "            char = False,\n",
        "            cmap = \"PiYG\")\n",
        "plt.title('Multicollinearity between features before feature selection\\n', fontsize = 15)\n",
        "plot.show()"
      ],
      "metadata": {
        "id": "OOGYS6IzRAAi"
      },
      "execution_count": null,
      "outputs": []
    },
    {
      "cell_type": "code",
      "source": [
        "sns.set(rc = {'figure.figsize': (10,7)})\n",
        "sns.heatmap(df[['INT_SQFT', 'N_BEDROOM', 'N_BATHROOM', 'AGE_OF_BUILD', 'SALES_PRICE']].corr(),\n",
        "            annot = True,\n",
        "            linewidth = .5,\n",
        "            center = 0,\n",
        "            char = False,\n",
        "            cmap = \"PiYG\")\n",
        "plt.title('Multicollinearity between features after feature selection\\n', fontsize = 15)\n",
        "plot.show()"
      ],
      "metadata": {
        "id": "2dw1qT4qTEkz"
      },
      "execution_count": null,
      "outputs": []
    },
    {
      "cell_type": "markdown",
      "source": [
        "**Categorical Features**"
      ],
      "metadata": {
        "id": "-f7weXkKTkQt"
      }
    },
    {
      "cell_type": "code",
      "source": [
        "df['AREA'].value_counts()"
      ],
      "metadata": {
        "id": "T8WyhucjTjlb"
      },
      "execution_count": null,
      "outputs": []
    },
    {
      "cell_type": "markdown",
      "source": [
        "***Distribution of Features***"
      ],
      "metadata": {
        "id": "d2RbHLrhTzoJ"
      }
    },
    {
      "cell_type": "code",
      "source": [
        "j = 0\n",
        "plt.figure(figsize = (25, 20))\n",
        "plt.suptitle('Distribution of the Features', fontsize = 25)\n",
        "\n",
        "for i in df_cat:\n",
        "  plt.sunplot(3, 3, j+1)\n",
        "  sns.countplot(x = i, df = df,\n",
        "                order = df[i].value_counts(ascending = True).index)\n",
        "  plt.xlabel(i)\n",
        "  plt.title(f'Distribution of {i}')\n",
        "  j += 1"
      ],
      "metadata": {
        "id": "NnGWIO-PTyPL"
      },
      "execution_count": null,
      "outputs": []
    },
    {
      "cell_type": "markdown",
      "source": [
        "**Feature vs Target**\n",
        "\n",
        "**AREA:**\n",
        "\n",
        "- There is a relationship between Area and Sales Price. As the area get changes, the sales price too changes\n",
        "- There is a linear trend pattern, not exactly but can be observed as such\n",
        "- Karapakkam < Adyar < Chrompet < Velachery < KK Nagar < Anna Nagar < T Nagar\n",
        "- So, we can go with Label Encoding\n",
        "\n",
        "**SALE_COND:**\n",
        "\n",
        "- There is a relationship between Sale condition and Sales Price. As the sale condition get changes, the sales price too changes\n",
        "- There is an exact linear pattern\n",
        "- Partial < Family < AbNormal < Normal < Adjacent\n",
        "- So, we can go with Label Encoding\n",
        "\n",
        "**PARL_FACIL:**\n",
        "\n",
        "- As the category changes, the magnitude of target too changes \n",
        "- Since it is a Binary categorical variable (linear trend is inevitable if there is relationship, we can go with Label Encoding \n",
        "\n",
        "**BUILDTYPE:**\n",
        "\n",
        "- There is a relationship between build type and Sales Price. As the build type get changes, the sales price too changes\n",
        "- Here, we couldn't observed a linear tred parially, there is huge spike for the commercial buildings\n",
        "- So, we can go one-hot Encoding using get_dummies (as part of dimensionality reduction)\n",
        "\n",
        "**UTILITY_AVAIL:**\n",
        "\n",
        "- There is a relationship between utility available and Sales Price. As the arutility available get changes, the sales price too changes\n",
        "- There is a close linear trend\n",
        "- ELO < NoSeWa < NoSewr < AllPub\n",
        "- So, we can go with Label Encoding\n",
        "\n",
        "**STREET:**\n",
        "\n",
        "- There is a relationship between street and Sales Price. As the street changes, the sales price too changes\n",
        "- There is aa exact linear trend pattern\n",
        "- NoAccess < Paved < Gravel\n",
        "- So, we can go with Label Encoding\n",
        "\n",
        "**MZZONE:**\n",
        "\n",
        "- There is a relationship between MZZONE and Sales Price. As the sale condition changes, the sales price too changes\n",
        "- There is a exact linear trend pattern between Residential zones and Agricultural, Commercial, Industrial zones separately. While transition from industrial zone to Residential zone, there is a sudden spike, which has to be taken care. Here, we can go with Label Encoding neglecting the spike which occured only in one transition\n",
        "- Agricultural < COmmercial < Industrial < Residential High (RH) Density < Residential Low (RL) Density < Residential Medium (RM) Density"
      ],
      "metadata": {
        "id": "qrWaKO3fU3F1"
      }
    },
    {
      "cell_type": "markdown",
      "source": [
        "**Encoding the Features**"
      ],
      "metadata": {
        "id": "DkrmJYB3ZS8n"
      }
    },
    {
      "cell_type": "code",
      "source": [
        "df_cat"
      ],
      "metadata": {
        "id": "wW5MD2G4ZWI_"
      },
      "execution_count": null,
      "outputs": []
    },
    {
      "cell_type": "code",
      "source": [
        "df_business = df.copy()\n",
        "df_business.head()"
      ],
      "metadata": {
        "id": "0HKKajpGZeDO"
      },
      "execution_count": null,
      "outputs": []
    },
    {
      "cell_type": "code",
      "source": [
        "df.head()"
      ],
      "metadata": {
        "id": "2kPl3ix9ZnGC"
      },
      "execution_count": null,
      "outputs": []
    },
    {
      "cell_type": "markdown",
      "source": [
        "**Label Encoding the Features**"
      ],
      "metadata": {
        "id": "AN2awHJFZtv4"
      }
    },
    {
      "cell_type": "code",
      "source": [
        "df['AREA'] = df['AREA'].map({'Karapakkam': 0, 'Adyar': 1, 'Chrompet': 2, 'Velachery': 3, 'KK Nagar': 4, 'Anna Nagar': 5, 'T Nagar': 6})\n",
        "df['SALE_COND'] = df['SALE_COND'].map({'Partial': 0, 'Family': 1, 'AbNormal': 2, 'Normal Sale': 3, 'AdjLand': 4})\n",
        "df['PARK_FACIL'] = df['PARK_FACIL'].map({'No': 0, 'Yes': 1})\n",
        "\n",
        "df['UTILITY_AVAIL'] = df['UTILITY_AVAIL'].map({'ELO': 0, 'NoSewa': 1, 'NoSewr': 2, 'AllPub': 3})\n",
        "df['STREET'] = df['STREET'].map({'No Access': 0, 'Paved': 1, 'Gravel': 2})\n",
        "df['MZZONE'] = df['MZZONE'].map({'A': 0, 'C': 1, 'I': 2, 'RH': 3, 'RL': 4, 'RM' : 5})\n",
        "df.head()"
      ],
      "metadata": {
        "id": "rPqiwTCVZyVD"
      },
      "execution_count": null,
      "outputs": []
    },
    {
      "cell_type": "code",
      "source": [
        "del df['DIST_MAINROAD']\n",
        "\n",
        "del df['N_ROOM']\n",
        "\n",
        "del df['QS_BATHROOM']\n",
        "del df['QS_BEDROOM']\n",
        "del df['QS_ROOMS']\n",
        "del df['QS_OVERALL']\n",
        "\n",
        "df.head()"
      ],
      "metadata": {
        "id": "dX4_3_rlb7Kr"
      },
      "execution_count": null,
      "outputs": []
    },
    {
      "cell_type": "code",
      "source": [
        "df = pd.get_dummies(df, columns = ['BUILDTYPE'])"
      ],
      "metadata": {
        "id": "Q4rovrDkeW8G"
      },
      "execution_count": null,
      "outputs": []
    },
    {
      "cell_type": "code",
      "source": [
        "df.head()"
      ],
      "metadata": {
        "id": "QQliq-w8edtm"
      },
      "execution_count": null,
      "outputs": []
    },
    {
      "cell_type": "code",
      "source": [
        "df.info()"
      ],
      "metadata": {
        "id": "qqSlSmYVegRR"
      },
      "execution_count": null,
      "outputs": []
    },
    {
      "cell_type": "code",
      "source": [
        "df.columns"
      ],
      "metadata": {
        "id": "fOTURYhnelIL"
      },
      "execution_count": null,
      "outputs": []
    },
    {
      "cell_type": "code",
      "source": [
        "df = df[['AREA', 'INT_SQFT', 'N_BEDROOM', 'N_BATHROOM', 'SALE_COND', 'PARK_FACIL', 'UTILITY_AVAIL', 'STREET', 'MZZONE', 'BUILDTYPE_Commercial', 'BUILDTYPE_House', 'BUILDTYPE_Others', 'AGE_OF_BUILD', 'SALES_PRICE']]\n",
        "df.head()"
      ],
      "metadata": {
        "id": "pCTCiUsbenLz"
      },
      "execution_count": null,
      "outputs": []
    },
    {
      "cell_type": "markdown",
      "source": [
        "# **ML MODELS**\n",
        "\n",
        "**Train Test Data - Normalised**"
      ],
      "metadata": {
        "id": "3Un5laNLfZFx"
      }
    },
    {
      "cell_type": "code",
      "source": [
        "x = df.iloc[:, :-1].values\n",
        "y = df.loc[:, 'SALES_PRICE'].values\n",
        "\n",
        "x.shape, y.shape"
      ],
      "metadata": {
        "id": "AhSzPKInfzZr"
      },
      "execution_count": null,
      "outputs": []
    },
    {
      "cell_type": "code",
      "source": [
        "# train test split\n",
        "\n",
        "from sklearn.model_selection import train_test_split\n",
        "\n",
        "x_train, x_test, y_train, y_text = train_test_split(x, y, test_size = 0.25)"
      ],
      "metadata": {
        "id": "R3U8LDSVf8bL"
      },
      "execution_count": null,
      "outputs": []
    },
    {
      "cell_type": "code",
      "source": [
        "# scaling\n",
        "\n",
        "from sklearn.preprocessing import StandardScaler\n",
        "\n",
        "scaler = StandardScaler()\n",
        "scaler.fit(x_train, y_train) # find mean and standard deviation\n",
        "\n",
        "x_train = scaler.transform(x_train)\n",
        "x_test = scaler.transform(x_test)"
      ],
      "metadata": {
        "id": "dfZUAuhmgUjM"
      },
      "execution_count": null,
      "outputs": []
    },
    {
      "cell_type": "markdown",
      "source": [
        "# **1. Linear Regression**"
      ],
      "metadata": {
        "id": "e4av9Z1ohS7t"
      }
    },
    {
      "cell_type": "code",
      "source": [
        "from sklearn.linear_model import LinearRegression\n",
        "regression = LinearRegression()\n",
        "regression.fit(x_train, y_train)"
      ],
      "metadata": {
        "id": "Sb2qr4ophYv7"
      },
      "execution_count": null,
      "outputs": []
    },
    {
      "cell_type": "code",
      "source": [
        "m = regression-coef_\n",
        "c = regression.inter.cept_"
      ],
      "metadata": {
        "id": "XZMm9H_Ih05t"
      },
      "execution_count": null,
      "outputs": []
    },
    {
      "cell_type": "code",
      "source": [
        "y_pred = regression.predict(x_test)"
      ],
      "metadata": {
        "id": "XbZFvMs1h8uj"
      },
      "execution_count": null,
      "outputs": []
    },
    {
      "cell_type": "code",
      "source": [
        "# get importance\n",
        "\n",
        "importance = regression.coef_\n",
        "importance = importance.tolist()\n",
        "importance = [abs(x) for x in importance]\n",
        "sum = 0\n",
        "for j in importance:\n",
        "  sum += j\n",
        "importance = [(i/sum) for i in importance]\n",
        "\n",
        "# summarise feature importance\n",
        "\n",
        "for col,val in enumerate(importance):\n",
        "        print('Feature: {}, Score: {:.3f}'.format(df.columns[col],val))\n",
        "\n",
        "# plot feature importance\n",
        "\n",
        "plt.figure(figsize = (25, 8))\n",
        "sns.set(style = 'ticks')\n",
        "sns.barplot([df.columns[x] for x in range(len(importance))], importance)\n",
        "plt.title('Feature Importances')\n",
        "plt.ylabel('Importances')\n",
        "plt.xlabel('Features')\n",
        "sns.despine()\n",
        "plt.savefig('Feature Importances Linear Regression.jpg', dpi = 400)\n",
        "plt.show()"
      ],
      "metadata": {
        "id": "0hJn5IHwiBUK"
      },
      "execution_count": null,
      "outputs": []
    },
    {
      "cell_type": "code",
      "source": [
        "# find R2 score\n",
        "\n",
        "from sklearn import metrics\n",
        "print('R2 score :', metrics.r2_score(y_test, y_pred).round(2))"
      ],
      "metadata": {
        "id": "yuGg5TXhkZe8"
      },
      "execution_count": null,
      "outputs": []
    },
    {
      "cell_type": "markdown",
      "source": [
        "# **2. K-Nearest Neighbour (KNN) Regression**"
      ],
      "metadata": {
        "id": "qqMcbBjmkr4o"
      }
    },
    {
      "cell_type": "code",
      "source": [
        "from sklearn.neighbors import KNeighborsRegressor\n",
        "from sklearn.model_selection import cross_val_score\n",
        "\n",
        "K = []\n",
        "\n",
        "for i in [1,2,3,4,5,6,7,8,9,10,15,20,25,50]: # looping to find \n",
        "  for j in [4,5,6,7,8,9,10]: # looping to find cv / k-fold\n",
        "    knn = KNeighborsRegressor(i) # initialising the model\n",
        "    knn.fit(x_train, y_train) # training the model\n",
        "\n",
        "    K.append({'K value' : i, 'Cross_val_Score' : np.mean(corss_val_score(knn, x_train, y_train, cv = j)).round(5), 'cv' : j})\n",
        "    score = pd.DataFrame(K, columns = ['K Value', 'Cross_val_Score', ;cv])\n",
        "\n",
        "score.sort_values(by = 'Cross_val_Score', ascending = False).head()"
      ],
      "metadata": {
        "id": "YccX3ldgk005"
      },
      "execution_count": null,
      "outputs": []
    },
    {
      "cell_type": "markdown",
      "source": [
        "**Euclidean distance (p = 2) is defined as the square root of the sum of squared distance (difference) between two points. It is also known as L2 norm.**\n",
        "\n",
        "**Manhattan distance (p = 1) is the sum of absolute values of the differences between two points.**"
      ],
      "metadata": {
        "id": "kxvCj59nwZSl"
      }
    },
    {
      "cell_type": "code",
      "source": [
        "from sklearn.neighbors import KNeighborsRegressor\n",
        "from sklearn import metrics\n",
        "from sklearn.metrics import accuracy_score\n",
        "\n",
        "def KNN(K, w, p):\n",
        "  KNN_regressor = KNeighborsRegressor(n_neighbors = K, weights = w, p = p)\n",
        "  KNN_regressor.fit(x_train, y_pred)\n",
        "\n",
        "  y_pred = KNN_regressor.predict(x_test)\n",
        "\n",
        "  print(w.upper(), f' at p = {p}:')\n",
        "  print('K value :', K,\n",
        "        '\\ntrain score : ', KNN_regressor.score(x_train, y_train).round(4),\n",
        "        '\\naccuracy : ', KNN_regressor.score(x_test, y_test).round(4),\n",
        "        '\\nr2 score : ', metrics.r2_score(y_test, y_pred).round(4), '\\n')\n",
        "  \n",
        "KNN(6, 'distance', 1)"
      ],
      "metadata": {
        "id": "N4Fn63Xyw1la"
      },
      "execution_count": null,
      "outputs": []
    },
    {
      "cell_type": "code",
      "source": [
        "KNN(6, 'distance', 2)"
      ],
      "metadata": {
        "id": "DApxXuDFynPk"
      },
      "execution_count": null,
      "outputs": []
    },
    {
      "cell_type": "code",
      "source": [
        "KNN(6, 'uniform', 1)"
      ],
      "metadata": {
        "id": "Cmf4y1LUyq4X"
      },
      "execution_count": null,
      "outputs": []
    },
    {
      "cell_type": "code",
      "source": [
        "KNN(6, 'uniform', 2)"
      ],
      "metadata": {
        "id": "bi6JmALmyzIb"
      },
      "execution_count": null,
      "outputs": []
    },
    {
      "cell_type": "markdown",
      "source": [
        "# **3. Decision Tree**"
      ],
      "metadata": {
        "id": "zNNjT7xJy4e9"
      }
    },
    {
      "cell_type": "code",
      "source": [
        "from sklearn.tree import DecisionTreeRegressor\n",
        "\n",
        "DT = []\n",
        "\n",
        "for depth in[1,2,3,4,5,6,7,8,9,10,20]:\n",
        "  dt = DecisionTreeRegressor(max_depth = depth)\n",
        "  dt.fit(x_train, y_train)\n",
        "  valAccuracy = cross_val_score(dt, x_train, y_train, cv = 10)\n",
        "  DT.append({'Depth' : depth, 'Cross_val_Score' : np.mean(valAccuracy).round(5)})\n",
        "  score = pd.DataFrame(DT, columns = ['Depth', 'Cross_val_Score'])\n",
        "\n",
        "score.sort_values(by = 'Cross_val_Score', ascending = False).head()"
      ],
      "metadata": {
        "id": "FvMS9iwyy7Zu"
      },
      "execution_count": null,
      "outputs": []
    },
    {
      "cell_type": "code",
      "source": [
        "# Decision Tree Model\n",
        "\n",
        "dt = DecisionTreeRegressor(max_depth = 20)\n",
        "dt.fit(x_train, y_train)\n",
        "\n",
        "y_pred = dt.predict(x_test)\n",
        "\n",
        "print('R2 score for Decision Tree Model: ', metrics.r2_score(y_test, y_pred).round(2))"
      ],
      "metadata": {
        "id": "Q8YL_GGPz71T"
      },
      "execution_count": null,
      "outputs": []
    },
    {
      "cell_type": "code",
      "source": [
        "fimp = dt.feature_importances_.round(3)\n",
        "List = fimp.tolist()\n",
        "Fea = df.columns[:-1].tolist()\n",
        "\n",
        "val = {\n",
        "    'Feature' : Fea,\n",
        "    'Importances' : List\n",
        "}\n",
        "\n",
        "Feature = pd.DataFrame(val).sort_values(by = 'Importances', ascending = False)\n",
        "Feature"
      ],
      "metadata": {
        "id": "7sQXGjOD0aML"
      },
      "execution_count": null,
      "outputs": []
    },
    {
      "cell_type": "code",
      "source": [
        "# plot feature importance\n",
        "\n",
        "plt.figure(figsize = (25, 10))\n",
        "sns.set(style = 'ticks')\n",
        "sns.barplot([df.columns[x] for x in range(len(List))], List)\n",
        "plt.title('Feature Importances of Decision Tree Model')\n",
        "plt.ylabel('Importances')\n",
        "plt.xlabel('Features')\n",
        "sns.despine()\n",
        "plt.savefig('Feature Importances Decision Tree.jpg', dpi = 400)\n",
        "plt.show()"
      ],
      "metadata": {
        "id": "c_8PWwxe1Lu2"
      },
      "execution_count": null,
      "outputs": []
    },
    {
      "cell_type": "markdown",
      "source": [
        "# **4. Random Forest**"
      ],
      "metadata": {
        "id": "Dcqvkvi82KU3"
      }
    },
    {
      "cell_type": "code",
      "source": [
        "from sklearn.ensemble import RandomForestRegressor\n",
        "\n",
        "depth = int(np.log(13)/np.log(2)) # Log2 (number of features)\n",
        "\n",
        "rf = RandomForestRegressor(max_depth = depth, max_features = 'sqrt')\n",
        "rf.fit(x_train, y_train)\n",
        "\n",
        "y_pred = rf.predict(x_test)\n",
        "\n",
        "print('R2 score for Random Forest Model: ', metrics.r2_score(y_test, y_pred).round(2))"
      ],
      "metadata": {
        "id": "L7gIlj6O2Rkk"
      },
      "execution_count": null,
      "outputs": []
    },
    {
      "cell_type": "code",
      "source": [
        "fimp = rf.feature_importances_.round(3)\n",
        "List = fimp.tolist()\n",
        "Fea = df.columns[:-1].tolist()\n",
        "\n",
        "val = {\n",
        "    'Feature' : Fea,\n",
        "    'Importances' : List\n",
        "}\n",
        "\n",
        "Feature = pd.DataFrame(val).sort_values(by = 'Importances', ascending = False)\n",
        "Feature"
      ],
      "metadata": {
        "id": "potJKrPu2bTK"
      },
      "execution_count": null,
      "outputs": []
    },
    {
      "cell_type": "code",
      "source": [
        "# plot feature importance\n",
        "\n",
        "plt.figure(figsize = (25, 10))\n",
        "sns.set(style = 'ticks')\n",
        "sns.barplot([df.columns[x] for x in range(len(List))], List)\n",
        "plt.title('Feature Importances of Random Forest Model')\n",
        "plt.ylabel('Importances')\n",
        "plt.xlabel('Features')\n",
        "sns.despine()\n",
        "plt.savefig('Feature Importances Random Forest.jpg', dpi = 400)\n",
        "plt.show()"
      ],
      "metadata": {
        "id": "9DC_f3Kr3ab1"
      },
      "execution_count": null,
      "outputs": []
    },
    {
      "cell_type": "markdown",
      "source": [
        "# **5. XG BOOST**"
      ],
      "metadata": {
        "id": "PqKCt_fq3tLO"
      }
    },
    {
      "cell_type": "code",
      "source": [
        "import xgboost as xgb\n",
        "\n",
        "XG = []\n",
        "\n",
        "for lr in [0.01,0.05,0.1,0.11,0.12,0.13,0.14,0.15,0.2,0.5,0.7,1]:\n",
        "  XGB = xgb.XGBRegressor(learning_rate = lr, n_estimator = 100, verbosity = 0) # initialise the model\n",
        "  XGB.fit(x_train, y_train) # train the model\n",
        "  print (\"Learning rate : \", lr, \"Cross-val score : \", np.mean(cross_val_score(XGB, x_train, y_train, cv = 10)).round(4))"
      ],
      "metadata": {
        "id": "Wa6bBtbq3x-0"
      },
      "execution_count": null,
      "outputs": []
    },
    {
      "cell_type": "code",
      "source": [
        "# XG Boost Model\n",
        "\n",
        "XGB = xgb.XGBRegressor(learning_rate = 0.7, n_estimator = 100)\n",
        "XGB.fit(x_train, y_train) # train the model\n",
        "\n",
        "y_pred = XGB.predict(x_test)\n",
        "\n",
        "print('\\nR2 score for XG Boost Regressor Model: ', metrics.r2_score(y_test, y_pred).round(2))"
      ],
      "metadata": {
        "id": "v0jJ19V94rvT"
      },
      "execution_count": null,
      "outputs": []
    },
    {
      "cell_type": "code",
      "source": [
        "fimp = rf.feature_importances_.round(3)\n",
        "List = fimp.tolist()\n",
        "Fea = df.columns[:-1].tolist()\n",
        "\n",
        "val = {\n",
        "    'Feature' : Fea,\n",
        "    'Importances' : List\n",
        "}\n",
        "\n",
        "Feature = pd.DataFrame(val).sort_values(by = 'Importances', ascending = False)\n",
        "Feature"
      ],
      "metadata": {
        "id": "sX89wuHI5ZEx"
      },
      "execution_count": null,
      "outputs": []
    },
    {
      "cell_type": "code",
      "source": [
        "# plot feature importance\n",
        "\n",
        "plt.figure(figsize = (25, 10))\n",
        "sns.set(style = 'ticks')\n",
        "sns.barplot([df.columns[x] for x in range(len(List))], List)\n",
        "plt.title('Feature Importances of XG Boost Model')\n",
        "plt.ylabel('Importances')\n",
        "plt.xlabel('Features')\n",
        "sns.despine()\n",
        "plt.savefig('Feature Importances XG Boost.jpg', dpi = 400)\n",
        "plt.show()"
      ],
      "metadata": {
        "id": "ygJipO0f5u1C"
      },
      "execution_count": null,
      "outputs": []
    },
    {
      "cell_type": "markdown",
      "source": [
        "# **ML Models:**\n",
        "\n",
        "1. Linear Regression: R2 Score: 0.92\n",
        "2. KNN Regressor: R2 Score: 0.96\n",
        "3. Decision Tree: R2 Score: 0.97\n",
        "4. Random Forest: R2 Score: 0.78 (low performance)\n",
        "5. XG Boost: R2 Score: 1.0 (high performance)"
      ],
      "metadata": {
        "id": "5G5GZ5QM57sx"
      }
    },
    {
      "cell_type": "markdown",
      "source": [
        "**Business Solutions**"
      ],
      "metadata": {
        "id": "JxC-kBDM7ZHv"
      }
    },
    {
      "cell_type": "code",
      "source": [
        "data_business = data_business[['AREA', 'INT_SQFT', 'N_BEDROOM', 'N_BATHROOM', 'SALE_COND', 'PARK_FACIL', 'UTILITY_AVAIL', 'STREET', 'MZZONE', 'BUILDTYPE', 'AGE_OF_BUILD', 'SALES_PRICE']]\n",
        "data_business.head()"
      ],
      "metadata": {
        "id": "bPMmMuNU7eNT"
      },
      "execution_count": null,
      "outputs": []
    },
    {
      "cell_type": "markdown",
      "source": [
        "**AREA**"
      ],
      "metadata": {
        "id": "q8bRzy8P8igc"
      }
    },
    {
      "cell_type": "code",
      "source": [
        "sns.set(style = 'dark')\n",
        "sns.countplot(x = 'AREA', data = data_business, order = data_business['AREA'].value_counts(ascending = True).index)\n",
        "plt.xlabel('Area')\n",
        "plt.ylabel('Count')\n",
        "plt.title('Fig.1 Distribution of Area')\n",
        "sns.despine()"
      ],
      "metadata": {
        "id": "fz4aV5Nz8iCh"
      },
      "execution_count": null,
      "outputs": []
    },
    {
      "cell_type": "code",
      "source": [
        "j = 0\n",
        "plt.figure(figsize = (20,15))\n",
        "plt.suptitle('Total & Average Sales Price based on AREA', fontsize = 15)\n",
        "\n",
        "for i in range(2):\n",
        "  plt.subplot(2,2,j+1)\n",
        "  if i == 0:\n",
        "    sns.set(style = 'dark')\n",
        "    result = data_business.groupby('AREA')['SALES_PRICE'].sum().sort_values()\n",
        "    plt.xlabel('Total Sales Price')\n",
        "    plt.title('Fig. 1a AREA vs Total Sales Price')\n",
        "    plt.ylabel('Total Sales Price')\n",
        "  else:\n",
        "    sns.set(style = 'dark', palette = 'gist_rainbow')\n",
        "    result = data_business.groupby('AREA')['SALES_PRICE'].sum().sort_values()\n",
        "    plt.xlabel('Average Sales Price')\n",
        "    plt.title('Fig. 1b AREA vs Average Sales Price')\n",
        "    plt.ylabel('Average Sales Price')\n",
        "  x = result.index\n",
        "  y = result.values\n",
        "  sns.barplot(x, y, order = x)\n",
        "  sns.lineplot(x, y, marker = 'v')\n",
        "  sns.despine()\n",
        "  j += 1"
      ],
      "metadata": {
        "id": "UhVeyf7t-BuH"
      },
      "execution_count": null,
      "outputs": []
    },
    {
      "cell_type": "markdown",
      "source": [
        "**BUILD TYPE**"
      ],
      "metadata": {
        "id": "-ZYg42U7_iTd"
      }
    },
    {
      "cell_type": "code",
      "source": [
        "# Total sales price wrt BUILTTYPE\n",
        "\n",
        "j = 0\n",
        "plt.figure(figsize = (25,20))\n",
        "plt.suptitle('Fig 2a. Total Sales Price of AREA wrt BUILDTYPE', fontsize = 15)\n",
        "\n",
        "for i in ['Commercial', 'House', 'Others']:\n",
        "  plt.subplot(3,3,j+1)\n",
        "  result = data_business[data_business['BUILDTYPE'] == i].groupby('AREA')['SALES_PRICE'].sum().sort_values()\n",
        "  x = result.index\n",
        "  y = result.values\n",
        "  ax = sns.barplot(x, y, order = x, palette = 'ocean')\n",
        "  sns.lineplot(x, y, marker = 'v')  \n",
        "  plt.xlabel('AREA')\n",
        "  plt.ylabel('Total Sales Price')\n",
        "  plt.title('{} vs Total Sales Price'.format(i))\n",
        "  ax.set_xsticklabels(ax.get_xsticklabels(), rotation = 45, horizontalalignment = 'right')\n",
        "  sns.despine()\n",
        "  j += 1"
      ],
      "metadata": {
        "id": "0sGs2H23_hmQ"
      },
      "execution_count": null,
      "outputs": []
    },
    {
      "cell_type": "code",
      "source": [
        "# Average sales price wrt BUILTTYPE\n",
        "\n",
        "j = 0\n",
        "plt.figure(figsize = (25,20))\n",
        "plt.suptitle('Fig 2b. Average Sales Price of AREA wrt BUILDTYPE', fontsize = 15)\n",
        "\n",
        "for i in ['Commercial', 'House', 'Others']:\n",
        "  plt.subplot(3,3,j+1)\n",
        "  result = data_business[data_business['BUILDTYPE'] == i].groupby('AREA')['SALES_PRICE'].sum().sort_values()\n",
        "  x = result.index\n",
        "  y = result.values\n",
        "  ax = sns.barplot(x, y, order = x, palette = 'twilight')\n",
        "  sns.lineplot(x, y, marker = 'v')  \n",
        "  plt.xlabel('AREA')\n",
        "  plt.ylabel('Average Sales Price')\n",
        "  plt.title('{} vs Average Sales Price'.format(i))\n",
        "  ax.set_xsticklabels(ax.get_xsticklabels(), rotation = 45, horizontalalignment = 'right')\n",
        "  sns.despine()\n",
        "  j += 1"
      ],
      "metadata": {
        "id": "5APk1vnvEhRN"
      },
      "execution_count": null,
      "outputs": []
    },
    {
      "cell_type": "markdown",
      "source": [
        "**INT SQFT**"
      ],
      "metadata": {
        "id": "aIRNwGBiFsnZ"
      }
    },
    {
      "cell_type": "code",
      "source": [
        "data_business.INT_SQFT.describe()"
      ],
      "metadata": {
        "id": "Tb7axzRyFupF"
      },
      "execution_count": null,
      "outputs": []
    },
    {
      "cell_type": "code",
      "source": [
        "data_business['sqft_intervals'] = pd.cut(data_business['INT_SQFT'], [500, 1000, 1500, 2000, 2500], labels = ['500-1000', '1000-1500', '1500-2000', '2000-2500'])"
      ],
      "metadata": {
        "id": "qtghb0J2F2Ig"
      },
      "execution_count": null,
      "outputs": []
    },
    {
      "cell_type": "code",
      "source": [
        "sns.countplot(data_business['sqft_intervals'], hue = data_business['AREA'])"
      ],
      "metadata": {
        "id": "o4TFtBBsGRCB"
      },
      "execution_count": null,
      "outputs": []
    },
    {
      "cell_type": "code",
      "source": [
        "# Total sales price wrt SQFT\n",
        "\n",
        "j = 0\n",
        "plt.figure(figsize = (25,20))\n",
        "plt.suptitle('Fig 3a. Total Sales Price of AREA wrt SQFT', fontsize = 15)\n",
        "\n",
        "for i in ['Adyar', 'Anna Nagar', 'Chrompet', 'Karapakkam', 'T Nagar', 'Velachery']:\n",
        "  plt.subplot(3,3,j+1)\n",
        "  result = data_business[data_business['AREA'] == i].groupby('Sqft_intervals')['SALES_PRICE'].sum().sort_values()\n",
        "  x = result.index\n",
        "  y = result.values\n",
        "  ax = sns.barplot(x, y, palette = 'ocean')\n",
        "  sns.lineplot(x, y, marker = 'v')  \n",
        "  plt.xlabel('SQFT')\n",
        "  plt.ylabel('Total Sales Price')\n",
        "  plt.title('{} vs Total Sales Price'.format(i))\n",
        "  ax.set_xsticklabels(ax.get_xsticklabels(), rotation = 45, horizontalalignment = 'right')\n",
        "  sns.despine()\n",
        "  j += 1\n",
        "\n",
        "  plt.subplots_adjust(left = 0.1,\n",
        "                      bottom = 0.1,\n",
        "                      right = 0.9,\n",
        "                      top = 0.9,\n",
        "                      wspace = 0.4,\n",
        "                      hsapce = 0.5)\n",
        "  plt.savefig('3a.jpg', dpi = 400)\n",
        "  plt.show()\n"
      ],
      "metadata": {
        "id": "-bfajUx1GgR1"
      },
      "execution_count": null,
      "outputs": []
    },
    {
      "cell_type": "code",
      "source": [
        "# Average sales price wrt SQFT\n",
        "\n",
        "j = 0\n",
        "plt.figure(figsize = (25,20))\n",
        "sn.set(style = 'dark')\n",
        "plt.suptitle('Fig 3b. Average Sales Price of AREA wrt SQFT', fontsize = 15)\n",
        "\n",
        "for i in ['Adyar', 'Anna Nagar', 'Chrompet', 'Karapakkam', 'T Nagar', 'Velachery']:\n",
        "  plt.subplot(3,3,j+1)\n",
        "  result = data_business[data_business['AREA'] == i].groupby('Sqft_intervals')['SALES_PRICE'].sum().sort_values()\n",
        "  x = result.index\n",
        "  y = result.values\n",
        "  ax = sns.barplot(x, y, palette = 'twilight')\n",
        "  #sns.lineplot(x, y, marker = 'v')  \n",
        "  plt.xlabel('SQFT')\n",
        "  plt.ylabel('Average Sales Price')\n",
        "  plt.title('{} vs Average Sales Price'.format(i))\n",
        "  ax.set_xsticklabels(ax.get_xsticklabels(), rotation = 45, horizontalalignment = 'right')\n",
        "  sns.despine()\n",
        "  j += 1\n",
        "\n",
        "  plt.subplots_adjust(left = 0.1,\n",
        "                      bottom = 0.1,\n",
        "                      right = 0.9,\n",
        "                      top = 0.9,\n",
        "                      wspace = 0.4,\n",
        "                      hsapce = 0.5)\n",
        "  plt.savefig('3b.jpg', dpi = 400)\n",
        "  plt.show()\n"
      ],
      "metadata": {
        "id": "NSKdGA-8HzCI"
      },
      "execution_count": null,
      "outputs": []
    },
    {
      "cell_type": "markdown",
      "source": [
        "**MZZONE**"
      ],
      "metadata": {
        "id": "HOIf5gqAKha0"
      }
    },
    {
      "cell_type": "code",
      "source": [
        "sns.countplot(data_business['MZZONE'], hue = data_business['AREA'])\n",
        "plt.title('Distribution of AREA for each MZZONE')\n",
        "sns.despine()"
      ],
      "metadata": {
        "id": "Q1xGBinjKjaL"
      },
      "execution_count": null,
      "outputs": []
    },
    {
      "cell_type": "code",
      "source": [
        "j = 0\n",
        "plt.figure(figsize = (15,15))\n",
        "sn.set(style = 'dark')\n",
        "plt.suptitle('Fig 4a. Average Sales Price of MZZONE based on AREA', fontsize = 15)\n",
        "\n",
        "for i in ['500-1000', '1000-1500', '1500-2000', '2000-2500']:\n",
        "  plt.subplot(2,2,j+1)\n",
        "  #result = data_business[data_business['AREA'] == i].groupby('Sqft_intervals')['SALES_PRICE'].sum().sort_values()\n",
        "  #x = result.index\n",
        "  #y = result.values\n",
        "  #ax = sns.barplot(x, y, palette = 'twilight')\n",
        "  ax = sns.barplot(x = 'MZZONE', y = 'SALES_PRICE', hue = 'AREA', data = data_business[data_business['sqft_intervals'] == i] palette = 'coolware')\n",
        "  #sns.lineplot(x, y, marker = 'v')  \n",
        "  plt.xlabel('MZZONE')\n",
        "  plt.ylabel('Average Sales Price')\n",
        "  plt.title('{} vs Average Sales Price'.format(i))\n",
        "  ax.set_xsticklabels(ax.get_xsticklabels(), rotation = 45, horizontalalignment = 'right')\n",
        "  sns.despine()\n",
        "  j += 1\n",
        "\n",
        "  plt.subplots_adjust(left = 0.1,\n",
        "                      bottom = 0.1,\n",
        "                      right = 0.9,\n",
        "                      top = 0.9,\n",
        "                      wspace = 0.4,\n",
        "                      hsapce = 0.5)\n",
        "  plt.savefig('4a.jpg', dpi = 400)\n",
        "  plt.show()\n"
      ],
      "metadata": {
        "id": "kwTUv7KTK7Il"
      },
      "execution_count": null,
      "outputs": []
    }
  ]
}